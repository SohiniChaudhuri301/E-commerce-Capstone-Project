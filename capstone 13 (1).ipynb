{
 "cells": [
  {
   "cell_type": "code",
   "execution_count": 1,
   "metadata": {},
   "outputs": [],
   "source": [
    "import numpy as np\n",
    "import pandas as pd\n",
    "import warnings\n",
    "import calendar\n",
    "warnings.filterwarnings('ignore')\n",
    "\n",
    "# import libraties\n",
    "import matplotlib.pyplot as plt\n",
    "import seaborn as sns\n",
    "#Suppressing scientific notation to float only \n",
    "pd.options.display.float_format = '{:,.2f}'.format\n",
    "\n",
    "from sklearn import linear_model\n",
    "from sklearn.linear_model import LinearRegression"
   ]
  },
  {
   "cell_type": "code",
   "execution_count": 2,
   "metadata": {},
   "outputs": [
    {
     "data": {
      "text/html": [
       "<div>\n",
       "<style scoped>\n",
       "    .dataframe tbody tr th:only-of-type {\n",
       "        vertical-align: middle;\n",
       "    }\n",
       "\n",
       "    .dataframe tbody tr th {\n",
       "        vertical-align: top;\n",
       "    }\n",
       "\n",
       "    .dataframe thead th {\n",
       "        text-align: right;\n",
       "    }\n",
       "</style>\n",
       "<table border=\"1\" class=\"dataframe\">\n",
       "  <thead>\n",
       "    <tr style=\"text-align: right;\">\n",
       "      <th></th>\n",
       "      <th>Unnamed: 0</th>\n",
       "      <th>order_date</th>\n",
       "      <th>Year</th>\n",
       "      <th>Month</th>\n",
       "      <th>order_id</th>\n",
       "      <th>order_item_id</th>\n",
       "      <th>gmv</th>\n",
       "      <th>units</th>\n",
       "      <th>deliverybdays</th>\n",
       "      <th>deliverycdays</th>\n",
       "      <th>...</th>\n",
       "      <th>inc_PO_MA3</th>\n",
       "      <th>LP_lag_1_per</th>\n",
       "      <th>LP_lag_2_per</th>\n",
       "      <th>LP_lag_3_per</th>\n",
       "      <th>PO_lag_1_per-1</th>\n",
       "      <th>PO_lag_1_per-2</th>\n",
       "      <th>PO_lag_1_per-3</th>\n",
       "      <th>GMV_lag_1_per</th>\n",
       "      <th>GMV_lag_2_per</th>\n",
       "      <th>GMV_lag_3_per</th>\n",
       "    </tr>\n",
       "  </thead>\n",
       "  <tbody>\n",
       "    <tr>\n",
       "      <th>0</th>\n",
       "      <td>2460</td>\n",
       "      <td>2015-10-03</td>\n",
       "      <td>2015</td>\n",
       "      <td>10</td>\n",
       "      <td>1,407,395,732,747,800.00</td>\n",
       "      <td>1,407,395,732,747,800.00</td>\n",
       "      <td>7,049.00</td>\n",
       "      <td>1</td>\n",
       "      <td>0</td>\n",
       "      <td>0</td>\n",
       "      <td>...</td>\n",
       "      <td>nan</td>\n",
       "      <td>0.28</td>\n",
       "      <td>0.13</td>\n",
       "      <td>0.16</td>\n",
       "      <td>-0.78</td>\n",
       "      <td>-0.64</td>\n",
       "      <td>-0.68</td>\n",
       "      <td>0.28</td>\n",
       "      <td>0.13</td>\n",
       "      <td>0.16</td>\n",
       "    </tr>\n",
       "    <tr>\n",
       "      <th>1</th>\n",
       "      <td>2461</td>\n",
       "      <td>2015-10-16</td>\n",
       "      <td>2015</td>\n",
       "      <td>10</td>\n",
       "      <td>2,418,213,882,235,600.00</td>\n",
       "      <td>2,418,213,882,235,600.00</td>\n",
       "      <td>5,489.00</td>\n",
       "      <td>1</td>\n",
       "      <td>0</td>\n",
       "      <td>0</td>\n",
       "      <td>...</td>\n",
       "      <td>nan</td>\n",
       "      <td>-0.12</td>\n",
       "      <td>-0.10</td>\n",
       "      <td>-0.20</td>\n",
       "      <td>0.62</td>\n",
       "      <td>0.44</td>\n",
       "      <td>2.10</td>\n",
       "      <td>-0.12</td>\n",
       "      <td>-0.10</td>\n",
       "      <td>-0.20</td>\n",
       "    </tr>\n",
       "    <tr>\n",
       "      <th>2</th>\n",
       "      <td>2462</td>\n",
       "      <td>2015-10-16</td>\n",
       "      <td>2015</td>\n",
       "      <td>10</td>\n",
       "      <td>2,418,675,653,264,600.00</td>\n",
       "      <td>2,418,675,653,264,600.00</td>\n",
       "      <td>6,255.00</td>\n",
       "      <td>1</td>\n",
       "      <td>0</td>\n",
       "      <td>0</td>\n",
       "      <td>...</td>\n",
       "      <td>nan</td>\n",
       "      <td>0.03</td>\n",
       "      <td>-0.09</td>\n",
       "      <td>-0.09</td>\n",
       "      <td>-0.11</td>\n",
       "      <td>0.92</td>\n",
       "      <td>0.92</td>\n",
       "      <td>0.03</td>\n",
       "      <td>-0.09</td>\n",
       "      <td>-0.09</td>\n",
       "    </tr>\n",
       "    <tr>\n",
       "      <th>3</th>\n",
       "      <td>2463</td>\n",
       "      <td>2015-10-16</td>\n",
       "      <td>2015</td>\n",
       "      <td>10</td>\n",
       "      <td>1,418,727,172,944,200.00</td>\n",
       "      <td>1,418,727,172,944,200.00</td>\n",
       "      <td>6,099.00</td>\n",
       "      <td>1</td>\n",
       "      <td>0</td>\n",
       "      <td>0</td>\n",
       "      <td>...</td>\n",
       "      <td>0.10</td>\n",
       "      <td>-0.11</td>\n",
       "      <td>-0.11</td>\n",
       "      <td>0.00</td>\n",
       "      <td>1.16</td>\n",
       "      <td>1.16</td>\n",
       "      <td>0.00</td>\n",
       "      <td>-0.11</td>\n",
       "      <td>-0.11</td>\n",
       "      <td>0.00</td>\n",
       "    </tr>\n",
       "    <tr>\n",
       "      <th>4</th>\n",
       "      <td>2464</td>\n",
       "      <td>2015-10-20</td>\n",
       "      <td>2015</td>\n",
       "      <td>10</td>\n",
       "      <td>2,421,983,590,777,500.00</td>\n",
       "      <td>2,421,983,590,777,500.00</td>\n",
       "      <td>6,850.00</td>\n",
       "      <td>1</td>\n",
       "      <td>0</td>\n",
       "      <td>0</td>\n",
       "      <td>...</td>\n",
       "      <td>-0.51</td>\n",
       "      <td>0.00</td>\n",
       "      <td>0.12</td>\n",
       "      <td>0.12</td>\n",
       "      <td>0.00</td>\n",
       "      <td>-0.54</td>\n",
       "      <td>-0.54</td>\n",
       "      <td>0.00</td>\n",
       "      <td>0.12</td>\n",
       "      <td>0.12</td>\n",
       "    </tr>\n",
       "  </tbody>\n",
       "</table>\n",
       "<p>5 rows × 66 columns</p>\n",
       "</div>"
      ],
      "text/plain": [
       "   Unnamed: 0  order_date  Year  Month                 order_id  \\\n",
       "0        2460  2015-10-03  2015     10 1,407,395,732,747,800.00   \n",
       "1        2461  2015-10-16  2015     10 2,418,213,882,235,600.00   \n",
       "2        2462  2015-10-16  2015     10 2,418,675,653,264,600.00   \n",
       "3        2463  2015-10-16  2015     10 1,418,727,172,944,200.00   \n",
       "4        2464  2015-10-20  2015     10 2,421,983,590,777,500.00   \n",
       "\n",
       "             order_item_id      gmv  units  deliverybdays  deliverycdays  ...  \\\n",
       "0 1,407,395,732,747,800.00 7,049.00      1              0              0  ...   \n",
       "1 2,418,213,882,235,600.00 5,489.00      1              0              0  ...   \n",
       "2 2,418,675,653,264,600.00 6,255.00      1              0              0  ...   \n",
       "3 1,418,727,172,944,200.00 6,099.00      1              0              0  ...   \n",
       "4 2,421,983,590,777,500.00 6,850.00      1              0              0  ...   \n",
       "\n",
       "  inc_PO_MA3  LP_lag_1_per LP_lag_2_per LP_lag_3_per PO_lag_1_per-1  \\\n",
       "0        nan          0.28         0.13         0.16          -0.78   \n",
       "1        nan         -0.12        -0.10        -0.20           0.62   \n",
       "2        nan          0.03        -0.09        -0.09          -0.11   \n",
       "3       0.10         -0.11        -0.11         0.00           1.16   \n",
       "4      -0.51          0.00         0.12         0.12           0.00   \n",
       "\n",
       "   PO_lag_1_per-2  PO_lag_1_per-3  GMV_lag_1_per  GMV_lag_2_per  GMV_lag_3_per  \n",
       "0           -0.64           -0.68           0.28           0.13           0.16  \n",
       "1            0.44            2.10          -0.12          -0.10          -0.20  \n",
       "2            0.92            0.92           0.03          -0.09          -0.09  \n",
       "3            1.16            0.00          -0.11          -0.11           0.00  \n",
       "4           -0.54           -0.54           0.00           0.12           0.12  \n",
       "\n",
       "[5 rows x 66 columns]"
      ]
     },
     "execution_count": 2,
     "metadata": {},
     "output_type": "execute_result"
    }
   ],
   "source": [
    "#Import the Home Audio data set\n",
    "home_audio=pd.read_csv('HomeAudio.csv')\n",
    "home_audio.head()"
   ]
  },
  {
   "cell_type": "code",
   "execution_count": 3,
   "metadata": {},
   "outputs": [
    {
     "data": {
      "text/html": [
       "<div>\n",
       "<style scoped>\n",
       "    .dataframe tbody tr th:only-of-type {\n",
       "        vertical-align: middle;\n",
       "    }\n",
       "\n",
       "    .dataframe tbody tr th {\n",
       "        vertical-align: top;\n",
       "    }\n",
       "\n",
       "    .dataframe thead th {\n",
       "        text-align: right;\n",
       "    }\n",
       "</style>\n",
       "<table border=\"1\" class=\"dataframe\">\n",
       "  <thead>\n",
       "    <tr style=\"text-align: right;\">\n",
       "      <th></th>\n",
       "      <th>order_date</th>\n",
       "      <th>Year</th>\n",
       "      <th>Month</th>\n",
       "      <th>order_id</th>\n",
       "      <th>order_item_id</th>\n",
       "      <th>gmv</th>\n",
       "      <th>units</th>\n",
       "      <th>deliverybdays</th>\n",
       "      <th>deliverycdays</th>\n",
       "      <th>s1_fact_order_payment_type</th>\n",
       "      <th>...</th>\n",
       "      <th>inc_PO_MA3</th>\n",
       "      <th>LP_lag_1_per</th>\n",
       "      <th>LP_lag_2_per</th>\n",
       "      <th>LP_lag_3_per</th>\n",
       "      <th>PO_lag_1_per-1</th>\n",
       "      <th>PO_lag_1_per-2</th>\n",
       "      <th>PO_lag_1_per-3</th>\n",
       "      <th>GMV_lag_1_per</th>\n",
       "      <th>GMV_lag_2_per</th>\n",
       "      <th>GMV_lag_3_per</th>\n",
       "    </tr>\n",
       "  </thead>\n",
       "  <tbody>\n",
       "    <tr>\n",
       "      <th>0</th>\n",
       "      <td>2015-10-03</td>\n",
       "      <td>2015</td>\n",
       "      <td>10</td>\n",
       "      <td>1,407,395,732,747,800.00</td>\n",
       "      <td>1,407,395,732,747,800.00</td>\n",
       "      <td>7,049.00</td>\n",
       "      <td>1</td>\n",
       "      <td>0</td>\n",
       "      <td>0</td>\n",
       "      <td>Prepaid</td>\n",
       "      <td>...</td>\n",
       "      <td>nan</td>\n",
       "      <td>0.28</td>\n",
       "      <td>0.13</td>\n",
       "      <td>0.16</td>\n",
       "      <td>-0.78</td>\n",
       "      <td>-0.64</td>\n",
       "      <td>-0.68</td>\n",
       "      <td>0.28</td>\n",
       "      <td>0.13</td>\n",
       "      <td>0.16</td>\n",
       "    </tr>\n",
       "    <tr>\n",
       "      <th>1</th>\n",
       "      <td>2015-10-16</td>\n",
       "      <td>2015</td>\n",
       "      <td>10</td>\n",
       "      <td>2,418,213,882,235,600.00</td>\n",
       "      <td>2,418,213,882,235,600.00</td>\n",
       "      <td>5,489.00</td>\n",
       "      <td>1</td>\n",
       "      <td>0</td>\n",
       "      <td>0</td>\n",
       "      <td>Prepaid</td>\n",
       "      <td>...</td>\n",
       "      <td>nan</td>\n",
       "      <td>-0.12</td>\n",
       "      <td>-0.10</td>\n",
       "      <td>-0.20</td>\n",
       "      <td>0.62</td>\n",
       "      <td>0.44</td>\n",
       "      <td>2.10</td>\n",
       "      <td>-0.12</td>\n",
       "      <td>-0.10</td>\n",
       "      <td>-0.20</td>\n",
       "    </tr>\n",
       "    <tr>\n",
       "      <th>2</th>\n",
       "      <td>2015-10-16</td>\n",
       "      <td>2015</td>\n",
       "      <td>10</td>\n",
       "      <td>2,418,675,653,264,600.00</td>\n",
       "      <td>2,418,675,653,264,600.00</td>\n",
       "      <td>6,255.00</td>\n",
       "      <td>1</td>\n",
       "      <td>0</td>\n",
       "      <td>0</td>\n",
       "      <td>Prepaid</td>\n",
       "      <td>...</td>\n",
       "      <td>nan</td>\n",
       "      <td>0.03</td>\n",
       "      <td>-0.09</td>\n",
       "      <td>-0.09</td>\n",
       "      <td>-0.11</td>\n",
       "      <td>0.92</td>\n",
       "      <td>0.92</td>\n",
       "      <td>0.03</td>\n",
       "      <td>-0.09</td>\n",
       "      <td>-0.09</td>\n",
       "    </tr>\n",
       "    <tr>\n",
       "      <th>3</th>\n",
       "      <td>2015-10-16</td>\n",
       "      <td>2015</td>\n",
       "      <td>10</td>\n",
       "      <td>1,418,727,172,944,200.00</td>\n",
       "      <td>1,418,727,172,944,200.00</td>\n",
       "      <td>6,099.00</td>\n",
       "      <td>1</td>\n",
       "      <td>0</td>\n",
       "      <td>0</td>\n",
       "      <td>Prepaid</td>\n",
       "      <td>...</td>\n",
       "      <td>0.10</td>\n",
       "      <td>-0.11</td>\n",
       "      <td>-0.11</td>\n",
       "      <td>0.00</td>\n",
       "      <td>1.16</td>\n",
       "      <td>1.16</td>\n",
       "      <td>0.00</td>\n",
       "      <td>-0.11</td>\n",
       "      <td>-0.11</td>\n",
       "      <td>0.00</td>\n",
       "    </tr>\n",
       "    <tr>\n",
       "      <th>4</th>\n",
       "      <td>2015-10-20</td>\n",
       "      <td>2015</td>\n",
       "      <td>10</td>\n",
       "      <td>2,421,983,590,777,500.00</td>\n",
       "      <td>2,421,983,590,777,500.00</td>\n",
       "      <td>6,850.00</td>\n",
       "      <td>1</td>\n",
       "      <td>0</td>\n",
       "      <td>0</td>\n",
       "      <td>COD</td>\n",
       "      <td>...</td>\n",
       "      <td>-0.51</td>\n",
       "      <td>0.00</td>\n",
       "      <td>0.12</td>\n",
       "      <td>0.12</td>\n",
       "      <td>0.00</td>\n",
       "      <td>-0.54</td>\n",
       "      <td>-0.54</td>\n",
       "      <td>0.00</td>\n",
       "      <td>0.12</td>\n",
       "      <td>0.12</td>\n",
       "    </tr>\n",
       "  </tbody>\n",
       "</table>\n",
       "<p>5 rows × 65 columns</p>\n",
       "</div>"
      ],
      "text/plain": [
       "   order_date  Year  Month                 order_id            order_item_id  \\\n",
       "0  2015-10-03  2015     10 1,407,395,732,747,800.00 1,407,395,732,747,800.00   \n",
       "1  2015-10-16  2015     10 2,418,213,882,235,600.00 2,418,213,882,235,600.00   \n",
       "2  2015-10-16  2015     10 2,418,675,653,264,600.00 2,418,675,653,264,600.00   \n",
       "3  2015-10-16  2015     10 1,418,727,172,944,200.00 1,418,727,172,944,200.00   \n",
       "4  2015-10-20  2015     10 2,421,983,590,777,500.00 2,421,983,590,777,500.00   \n",
       "\n",
       "       gmv  units  deliverybdays  deliverycdays s1_fact_order_payment_type  \\\n",
       "0 7,049.00      1              0              0                    Prepaid   \n",
       "1 5,489.00      1              0              0                    Prepaid   \n",
       "2 6,255.00      1              0              0                    Prepaid   \n",
       "3 6,099.00      1              0              0                    Prepaid   \n",
       "4 6,850.00      1              0              0                        COD   \n",
       "\n",
       "   ...  inc_PO_MA3 LP_lag_1_per LP_lag_2_per LP_lag_3_per  PO_lag_1_per-1  \\\n",
       "0  ...         nan         0.28         0.13         0.16           -0.78   \n",
       "1  ...         nan        -0.12        -0.10        -0.20            0.62   \n",
       "2  ...         nan         0.03        -0.09        -0.09           -0.11   \n",
       "3  ...        0.10        -0.11        -0.11         0.00            1.16   \n",
       "4  ...       -0.51         0.00         0.12         0.12            0.00   \n",
       "\n",
       "   PO_lag_1_per-2  PO_lag_1_per-3  GMV_lag_1_per  GMV_lag_2_per  GMV_lag_3_per  \n",
       "0           -0.64           -0.68           0.28           0.13           0.16  \n",
       "1            0.44            2.10          -0.12          -0.10          -0.20  \n",
       "2            0.92            0.92           0.03          -0.09          -0.09  \n",
       "3            1.16            0.00          -0.11          -0.11           0.00  \n",
       "4           -0.54           -0.54           0.00           0.12           0.12  \n",
       "\n",
       "[5 rows x 65 columns]"
      ]
     },
     "execution_count": 3,
     "metadata": {},
     "output_type": "execute_result"
    }
   ],
   "source": [
    "# Drop unnamed variable column\n",
    "home_audio = home_audio.drop(['Unnamed: 0'], axis=1)\n",
    "home_audio.head()"
   ]
  },
  {
   "cell_type": "code",
   "execution_count": 4,
   "metadata": {},
   "outputs": [
    {
     "data": {
      "text/html": [
       "<div>\n",
       "<style scoped>\n",
       "    .dataframe tbody tr th:only-of-type {\n",
       "        vertical-align: middle;\n",
       "    }\n",
       "\n",
       "    .dataframe tbody tr th {\n",
       "        vertical-align: top;\n",
       "    }\n",
       "\n",
       "    .dataframe thead th {\n",
       "        text-align: right;\n",
       "    }\n",
       "</style>\n",
       "<table border=\"1\" class=\"dataframe\">\n",
       "  <thead>\n",
       "    <tr style=\"text-align: right;\">\n",
       "      <th></th>\n",
       "      <th>order_date</th>\n",
       "      <th>Year</th>\n",
       "      <th>Month</th>\n",
       "      <th>order_id</th>\n",
       "      <th>order_item_id</th>\n",
       "      <th>gmv</th>\n",
       "      <th>units</th>\n",
       "      <th>deliverybdays</th>\n",
       "      <th>deliverycdays</th>\n",
       "      <th>s1_fact_order_payment_type</th>\n",
       "      <th>...</th>\n",
       "      <th>month_date</th>\n",
       "      <th>TV_adstock</th>\n",
       "      <th>Digital_adstock</th>\n",
       "      <th>Sponsorship_adstock</th>\n",
       "      <th>Content Marketing_adstock</th>\n",
       "      <th>Online marketing_adstock</th>\n",
       "      <th>Affiliates_adstock</th>\n",
       "      <th>SEM_adstock</th>\n",
       "      <th>Radio_adstock</th>\n",
       "      <th>Other_adstock</th>\n",
       "    </tr>\n",
       "  </thead>\n",
       "  <tbody>\n",
       "    <tr>\n",
       "      <th>0</th>\n",
       "      <td>2015-10-03</td>\n",
       "      <td>2015</td>\n",
       "      <td>10</td>\n",
       "      <td>1,407,395,732,747,800.00</td>\n",
       "      <td>1,407,395,732,747,800.00</td>\n",
       "      <td>7,049.00</td>\n",
       "      <td>1</td>\n",
       "      <td>0</td>\n",
       "      <td>0</td>\n",
       "      <td>Prepaid</td>\n",
       "      <td>...</td>\n",
       "      <td>2015-10-03-10</td>\n",
       "      <td>13,875,154.09</td>\n",
       "      <td>28,502,373.67</td>\n",
       "      <td>191,196,038.93</td>\n",
       "      <td>7,776,943.00</td>\n",
       "      <td>55,033,046.50</td>\n",
       "      <td>15,747,089.60</td>\n",
       "      <td>72,093,251.50</td>\n",
       "      <td>0.00</td>\n",
       "      <td>0.00</td>\n",
       "    </tr>\n",
       "    <tr>\n",
       "      <th>1</th>\n",
       "      <td>2015-10-16</td>\n",
       "      <td>2015</td>\n",
       "      <td>10</td>\n",
       "      <td>2,418,213,882,235,600.00</td>\n",
       "      <td>2,418,213,882,235,600.00</td>\n",
       "      <td>5,489.00</td>\n",
       "      <td>1</td>\n",
       "      <td>0</td>\n",
       "      <td>0</td>\n",
       "      <td>Prepaid</td>\n",
       "      <td>...</td>\n",
       "      <td>2015-10-16-10</td>\n",
       "      <td>20,812,731.13</td>\n",
       "      <td>42,753,560.50</td>\n",
       "      <td>286,794,058.40</td>\n",
       "      <td>11,665,414.50</td>\n",
       "      <td>82,549,569.75</td>\n",
       "      <td>23,620,634.40</td>\n",
       "      <td>108,139,877.25</td>\n",
       "      <td>0.00</td>\n",
       "      <td>0.00</td>\n",
       "    </tr>\n",
       "    <tr>\n",
       "      <th>2</th>\n",
       "      <td>2015-10-16</td>\n",
       "      <td>2015</td>\n",
       "      <td>10</td>\n",
       "      <td>2,418,675,653,264,600.00</td>\n",
       "      <td>2,418,675,653,264,600.00</td>\n",
       "      <td>6,255.00</td>\n",
       "      <td>1</td>\n",
       "      <td>0</td>\n",
       "      <td>0</td>\n",
       "      <td>Prepaid</td>\n",
       "      <td>...</td>\n",
       "      <td>2015-10-16-10</td>\n",
       "      <td>24,281,519.65</td>\n",
       "      <td>49,879,153.92</td>\n",
       "      <td>334,593,068.13</td>\n",
       "      <td>13,609,650.25</td>\n",
       "      <td>96,307,831.38</td>\n",
       "      <td>27,557,406.80</td>\n",
       "      <td>126,163,190.13</td>\n",
       "      <td>0.00</td>\n",
       "      <td>0.00</td>\n",
       "    </tr>\n",
       "    <tr>\n",
       "      <th>3</th>\n",
       "      <td>2015-10-16</td>\n",
       "      <td>2015</td>\n",
       "      <td>10</td>\n",
       "      <td>1,418,727,172,944,200.00</td>\n",
       "      <td>1,418,727,172,944,200.00</td>\n",
       "      <td>6,099.00</td>\n",
       "      <td>1</td>\n",
       "      <td>0</td>\n",
       "      <td>0</td>\n",
       "      <td>Prepaid</td>\n",
       "      <td>...</td>\n",
       "      <td>2015-10-16-10</td>\n",
       "      <td>26,015,913.91</td>\n",
       "      <td>53,441,950.62</td>\n",
       "      <td>358,492,572.99</td>\n",
       "      <td>14,581,768.12</td>\n",
       "      <td>103,186,962.19</td>\n",
       "      <td>29,525,793.00</td>\n",
       "      <td>135,174,846.56</td>\n",
       "      <td>0.00</td>\n",
       "      <td>0.00</td>\n",
       "    </tr>\n",
       "    <tr>\n",
       "      <th>4</th>\n",
       "      <td>2015-10-20</td>\n",
       "      <td>2015</td>\n",
       "      <td>10</td>\n",
       "      <td>2,421,983,590,777,500.00</td>\n",
       "      <td>2,421,983,590,777,500.00</td>\n",
       "      <td>6,850.00</td>\n",
       "      <td>1</td>\n",
       "      <td>0</td>\n",
       "      <td>0</td>\n",
       "      <td>COD</td>\n",
       "      <td>...</td>\n",
       "      <td>2015-10-20-10</td>\n",
       "      <td>26,883,111.04</td>\n",
       "      <td>55,223,348.98</td>\n",
       "      <td>370,442,325.43</td>\n",
       "      <td>15,067,827.06</td>\n",
       "      <td>106,626,527.60</td>\n",
       "      <td>30,509,986.10</td>\n",
       "      <td>139,680,674.78</td>\n",
       "      <td>0.00</td>\n",
       "      <td>0.00</td>\n",
       "    </tr>\n",
       "  </tbody>\n",
       "</table>\n",
       "<p>5 rows × 50 columns</p>\n",
       "</div>"
      ],
      "text/plain": [
       "   order_date  Year  Month                 order_id            order_item_id  \\\n",
       "0  2015-10-03  2015     10 1,407,395,732,747,800.00 1,407,395,732,747,800.00   \n",
       "1  2015-10-16  2015     10 2,418,213,882,235,600.00 2,418,213,882,235,600.00   \n",
       "2  2015-10-16  2015     10 2,418,675,653,264,600.00 2,418,675,653,264,600.00   \n",
       "3  2015-10-16  2015     10 1,418,727,172,944,200.00 1,418,727,172,944,200.00   \n",
       "4  2015-10-20  2015     10 2,421,983,590,777,500.00 2,421,983,590,777,500.00   \n",
       "\n",
       "       gmv  units  deliverybdays  deliverycdays s1_fact_order_payment_type  \\\n",
       "0 7,049.00      1              0              0                    Prepaid   \n",
       "1 5,489.00      1              0              0                    Prepaid   \n",
       "2 6,255.00      1              0              0                    Prepaid   \n",
       "3 6,099.00      1              0              0                    Prepaid   \n",
       "4 6,850.00      1              0              0                        COD   \n",
       "\n",
       "   ...     month_date    TV_adstock Digital_adstock Sponsorship_adstock  \\\n",
       "0  ...  2015-10-03-10 13,875,154.09   28,502,373.67      191,196,038.93   \n",
       "1  ...  2015-10-16-10 20,812,731.13   42,753,560.50      286,794,058.40   \n",
       "2  ...  2015-10-16-10 24,281,519.65   49,879,153.92      334,593,068.13   \n",
       "3  ...  2015-10-16-10 26,015,913.91   53,441,950.62      358,492,572.99   \n",
       "4  ...  2015-10-20-10 26,883,111.04   55,223,348.98      370,442,325.43   \n",
       "\n",
       "   Content Marketing_adstock  Online marketing_adstock  Affiliates_adstock  \\\n",
       "0               7,776,943.00             55,033,046.50       15,747,089.60   \n",
       "1              11,665,414.50             82,549,569.75       23,620,634.40   \n",
       "2              13,609,650.25             96,307,831.38       27,557,406.80   \n",
       "3              14,581,768.12            103,186,962.19       29,525,793.00   \n",
       "4              15,067,827.06            106,626,527.60       30,509,986.10   \n",
       "\n",
       "     SEM_adstock  Radio_adstock  Other_adstock  \n",
       "0  72,093,251.50           0.00           0.00  \n",
       "1 108,139,877.25           0.00           0.00  \n",
       "2 126,163,190.13           0.00           0.00  \n",
       "3 135,174,846.56           0.00           0.00  \n",
       "4 139,680,674.78           0.00           0.00  \n",
       "\n",
       "[5 rows x 50 columns]"
      ]
     },
     "execution_count": 4,
     "metadata": {},
     "output_type": "execute_result"
    }
   ],
   "source": [
    "# Drop lag, MA and GMV columns\n",
    "home_audio = home_audio.drop(['inc_LP_MA1','inc_LP_MA2','inc_LP_MA3','inc_PO_MA1','inc_PO_MA2','inc_PO_MA3','LP_lag_1_per',\n",
    "           'LP_lag_2_per','LP_lag_3_per','PO_lag_1_per-1','PO_lag_1_per-2','PO_lag_1_per-1','GMV_lag_1_per','GMV_lag_2_per',\n",
    "           'GMV_lag_3_per','PO_lag_1_per-3'], axis=1)\n",
    "home_audio.head()"
   ]
  },
  {
   "cell_type": "code",
   "execution_count": 5,
   "metadata": {},
   "outputs": [
    {
     "data": {
      "text/html": [
       "<div>\n",
       "<style scoped>\n",
       "    .dataframe tbody tr th:only-of-type {\n",
       "        vertical-align: middle;\n",
       "    }\n",
       "\n",
       "    .dataframe tbody tr th {\n",
       "        vertical-align: top;\n",
       "    }\n",
       "\n",
       "    .dataframe thead th {\n",
       "        text-align: right;\n",
       "    }\n",
       "</style>\n",
       "<table border=\"1\" class=\"dataframe\">\n",
       "  <thead>\n",
       "    <tr style=\"text-align: right;\">\n",
       "      <th></th>\n",
       "      <th>gmv</th>\n",
       "      <th>units</th>\n",
       "      <th>deliverybdays</th>\n",
       "      <th>deliverycdays</th>\n",
       "      <th>s1_fact_order_payment_type</th>\n",
       "      <th>sla</th>\n",
       "      <th>product_analytic_category</th>\n",
       "      <th>product_analytic_sub_category</th>\n",
       "      <th>product_analytic_vertical</th>\n",
       "      <th>product_mrp</th>\n",
       "      <th>...</th>\n",
       "      <th>month_date</th>\n",
       "      <th>TV_adstock</th>\n",
       "      <th>Digital_adstock</th>\n",
       "      <th>Sponsorship_adstock</th>\n",
       "      <th>Content Marketing_adstock</th>\n",
       "      <th>Online marketing_adstock</th>\n",
       "      <th>Affiliates_adstock</th>\n",
       "      <th>SEM_adstock</th>\n",
       "      <th>Radio_adstock</th>\n",
       "      <th>Other_adstock</th>\n",
       "    </tr>\n",
       "  </thead>\n",
       "  <tbody>\n",
       "    <tr>\n",
       "      <th>0</th>\n",
       "      <td>7,049.00</td>\n",
       "      <td>1</td>\n",
       "      <td>0</td>\n",
       "      <td>0</td>\n",
       "      <td>Prepaid</td>\n",
       "      <td>5</td>\n",
       "      <td>EntertainmentSmall</td>\n",
       "      <td>HomeAudio</td>\n",
       "      <td>HomeAudioSpeaker</td>\n",
       "      <td>7,499.00</td>\n",
       "      <td>...</td>\n",
       "      <td>2015-10-03-10</td>\n",
       "      <td>13,875,154.09</td>\n",
       "      <td>28,502,373.67</td>\n",
       "      <td>191,196,038.93</td>\n",
       "      <td>7,776,943.00</td>\n",
       "      <td>55,033,046.50</td>\n",
       "      <td>15,747,089.60</td>\n",
       "      <td>72,093,251.50</td>\n",
       "      <td>0.00</td>\n",
       "      <td>0.00</td>\n",
       "    </tr>\n",
       "    <tr>\n",
       "      <th>1</th>\n",
       "      <td>5,489.00</td>\n",
       "      <td>1</td>\n",
       "      <td>0</td>\n",
       "      <td>0</td>\n",
       "      <td>Prepaid</td>\n",
       "      <td>2</td>\n",
       "      <td>EntertainmentSmall</td>\n",
       "      <td>HomeAudio</td>\n",
       "      <td>HomeAudioSpeaker</td>\n",
       "      <td>7,499.00</td>\n",
       "      <td>...</td>\n",
       "      <td>2015-10-16-10</td>\n",
       "      <td>20,812,731.13</td>\n",
       "      <td>42,753,560.50</td>\n",
       "      <td>286,794,058.40</td>\n",
       "      <td>11,665,414.50</td>\n",
       "      <td>82,549,569.75</td>\n",
       "      <td>23,620,634.40</td>\n",
       "      <td>108,139,877.25</td>\n",
       "      <td>0.00</td>\n",
       "      <td>0.00</td>\n",
       "    </tr>\n",
       "    <tr>\n",
       "      <th>2</th>\n",
       "      <td>6,255.00</td>\n",
       "      <td>1</td>\n",
       "      <td>0</td>\n",
       "      <td>0</td>\n",
       "      <td>Prepaid</td>\n",
       "      <td>9</td>\n",
       "      <td>EntertainmentSmall</td>\n",
       "      <td>HomeAudio</td>\n",
       "      <td>HomeAudioSpeaker</td>\n",
       "      <td>7,499.00</td>\n",
       "      <td>...</td>\n",
       "      <td>2015-10-16-10</td>\n",
       "      <td>24,281,519.65</td>\n",
       "      <td>49,879,153.92</td>\n",
       "      <td>334,593,068.13</td>\n",
       "      <td>13,609,650.25</td>\n",
       "      <td>96,307,831.38</td>\n",
       "      <td>27,557,406.80</td>\n",
       "      <td>126,163,190.13</td>\n",
       "      <td>0.00</td>\n",
       "      <td>0.00</td>\n",
       "    </tr>\n",
       "    <tr>\n",
       "      <th>3</th>\n",
       "      <td>6,099.00</td>\n",
       "      <td>1</td>\n",
       "      <td>0</td>\n",
       "      <td>0</td>\n",
       "      <td>Prepaid</td>\n",
       "      <td>3</td>\n",
       "      <td>EntertainmentSmall</td>\n",
       "      <td>HomeAudio</td>\n",
       "      <td>HomeAudioSpeaker</td>\n",
       "      <td>7,499.00</td>\n",
       "      <td>...</td>\n",
       "      <td>2015-10-16-10</td>\n",
       "      <td>26,015,913.91</td>\n",
       "      <td>53,441,950.62</td>\n",
       "      <td>358,492,572.99</td>\n",
       "      <td>14,581,768.12</td>\n",
       "      <td>103,186,962.19</td>\n",
       "      <td>29,525,793.00</td>\n",
       "      <td>135,174,846.56</td>\n",
       "      <td>0.00</td>\n",
       "      <td>0.00</td>\n",
       "    </tr>\n",
       "    <tr>\n",
       "      <th>4</th>\n",
       "      <td>6,850.00</td>\n",
       "      <td>1</td>\n",
       "      <td>0</td>\n",
       "      <td>0</td>\n",
       "      <td>COD</td>\n",
       "      <td>9</td>\n",
       "      <td>EntertainmentSmall</td>\n",
       "      <td>HomeAudio</td>\n",
       "      <td>HomeAudioSpeaker</td>\n",
       "      <td>7,499.00</td>\n",
       "      <td>...</td>\n",
       "      <td>2015-10-20-10</td>\n",
       "      <td>26,883,111.04</td>\n",
       "      <td>55,223,348.98</td>\n",
       "      <td>370,442,325.43</td>\n",
       "      <td>15,067,827.06</td>\n",
       "      <td>106,626,527.60</td>\n",
       "      <td>30,509,986.10</td>\n",
       "      <td>139,680,674.78</td>\n",
       "      <td>0.00</td>\n",
       "      <td>0.00</td>\n",
       "    </tr>\n",
       "  </tbody>\n",
       "</table>\n",
       "<p>5 rows × 42 columns</p>\n",
       "</div>"
      ],
      "text/plain": [
       "       gmv  units  deliverybdays  deliverycdays s1_fact_order_payment_type  \\\n",
       "0 7,049.00      1              0              0                    Prepaid   \n",
       "1 5,489.00      1              0              0                    Prepaid   \n",
       "2 6,255.00      1              0              0                    Prepaid   \n",
       "3 6,099.00      1              0              0                    Prepaid   \n",
       "4 6,850.00      1              0              0                        COD   \n",
       "\n",
       "   sla product_analytic_category product_analytic_sub_category  \\\n",
       "0    5        EntertainmentSmall                     HomeAudio   \n",
       "1    2        EntertainmentSmall                     HomeAudio   \n",
       "2    9        EntertainmentSmall                     HomeAudio   \n",
       "3    3        EntertainmentSmall                     HomeAudio   \n",
       "4    9        EntertainmentSmall                     HomeAudio   \n",
       "\n",
       "  product_analytic_vertical  product_mrp  ...     month_date    TV_adstock  \\\n",
       "0          HomeAudioSpeaker     7,499.00  ...  2015-10-03-10 13,875,154.09   \n",
       "1          HomeAudioSpeaker     7,499.00  ...  2015-10-16-10 20,812,731.13   \n",
       "2          HomeAudioSpeaker     7,499.00  ...  2015-10-16-10 24,281,519.65   \n",
       "3          HomeAudioSpeaker     7,499.00  ...  2015-10-16-10 26,015,913.91   \n",
       "4          HomeAudioSpeaker     7,499.00  ...  2015-10-20-10 26,883,111.04   \n",
       "\n",
       "   Digital_adstock Sponsorship_adstock  Content Marketing_adstock  \\\n",
       "0    28,502,373.67      191,196,038.93               7,776,943.00   \n",
       "1    42,753,560.50      286,794,058.40              11,665,414.50   \n",
       "2    49,879,153.92      334,593,068.13              13,609,650.25   \n",
       "3    53,441,950.62      358,492,572.99              14,581,768.12   \n",
       "4    55,223,348.98      370,442,325.43              15,067,827.06   \n",
       "\n",
       "   Online marketing_adstock  Affiliates_adstock    SEM_adstock  Radio_adstock  \\\n",
       "0             55,033,046.50       15,747,089.60  72,093,251.50           0.00   \n",
       "1             82,549,569.75       23,620,634.40 108,139,877.25           0.00   \n",
       "2             96,307,831.38       27,557,406.80 126,163,190.13           0.00   \n",
       "3            103,186,962.19       29,525,793.00 135,174,846.56           0.00   \n",
       "4            106,626,527.60       30,509,986.10 139,680,674.78           0.00   \n",
       "\n",
       "   Other_adstock  \n",
       "0           0.00  \n",
       "1           0.00  \n",
       "2           0.00  \n",
       "3           0.00  \n",
       "4           0.00  \n",
       "\n",
       "[5 rows x 42 columns]"
      ]
     },
     "execution_count": 5,
     "metadata": {},
     "output_type": "execute_result"
    }
   ],
   "source": [
    "# Drop unwanted variable columns\n",
    "home_audio = home_audio.drop(['Year','Month','order_id','order_item_id','order_date','week_y','wday','week'], axis=1)\n",
    "home_audio.head()"
   ]
  },
  {
   "cell_type": "code",
   "execution_count": 6,
   "metadata": {},
   "outputs": [],
   "source": [
    "#Renaming column\n",
    "home_audio.rename({' Affiliates':'Affiliates'},axis=1, inplace=True)"
   ]
  },
  {
   "cell_type": "code",
   "execution_count": 7,
   "metadata": {},
   "outputs": [
    {
     "data": {
      "text/plain": [
       "gmv                              float64\n",
       "units                              int64\n",
       "deliverybdays                      int64\n",
       "deliverycdays                      int64\n",
       "s1_fact_order_payment_type        object\n",
       "sla                                int64\n",
       "product_analytic_category         object\n",
       "product_analytic_sub_category     object\n",
       "product_analytic_vertical         object\n",
       "product_mrp                      float64\n",
       "product_procurement_sla            int64\n",
       "Pay_Day                            int64\n",
       "is_holiday                         int64\n",
       "special_sale                      object\n",
       "Discount_Percentage              float64\n",
       "gmvperunit                       float64\n",
       "delivery_on_time                 float64\n",
       "delivery_status                   object\n",
       "Total Investment                 float64\n",
       "TV                               float64\n",
       "Digital                          float64\n",
       "Sponsorship                      float64\n",
       "Content Marketing                float64\n",
       "Online marketing                 float64\n",
       "SEM                              float64\n",
       "Radio                            float64\n",
       "Other                            float64\n",
       "Affiliates                       float64\n",
       "NPS                              float64\n",
       "NPSScore                         float64\n",
       "holiday_count                    float64\n",
       "ItemType                          object\n",
       "month_date                        object\n",
       "TV_adstock                       float64\n",
       "Digital_adstock                  float64\n",
       "Sponsorship_adstock              float64\n",
       "Content Marketing_adstock        float64\n",
       "Online marketing_adstock         float64\n",
       "Affiliates_adstock               float64\n",
       "SEM_adstock                      float64\n",
       "Radio_adstock                    float64\n",
       "Other_adstock                    float64\n",
       "dtype: object"
      ]
     },
     "execution_count": 7,
     "metadata": {},
     "output_type": "execute_result"
    }
   ],
   "source": [
    "#check the dtypes\n",
    "home_audio.dtypes"
   ]
  },
  {
   "cell_type": "code",
   "execution_count": 8,
   "metadata": {},
   "outputs": [
    {
     "data": {
      "text/plain": [
       "(97387, 42)"
      ]
     },
     "execution_count": 8,
     "metadata": {},
     "output_type": "execute_result"
    }
   ],
   "source": [
    "#Check size\n",
    "home_audio.shape"
   ]
  },
  {
   "cell_type": "code",
   "execution_count": 9,
   "metadata": {},
   "outputs": [
    {
     "data": {
      "text/plain": [
       "array([  0.,  -3.,   4.,  -2.,  -1.,   1.,   5.,   2.,   3.,   6.,   9.,\n",
       "        11.,  10.,   8.,   7.,  13.,  -4.,  12., -11.,  15.,  14.,  -5.,\n",
       "       -13.,  40., -31.,  17.,  18.,  16.,  -8.,  22.,  -9.,  21.,  23.,\n",
       "        -7., -21.,  -6., -12., -10., -20., -15., -19.,  20., -18., -29.,\n",
       "       -14., -17., -16., -23.,  24., -22., -38., -28., -37., -45., -30.,\n",
       "       -32., -26., -24., -34.,  19., -27., -41., -46., -25.])"
      ]
     },
     "execution_count": 9,
     "metadata": {},
     "output_type": "execute_result"
    }
   ],
   "source": [
    "#Checking unique values in delivery time variable \n",
    "home_audio['delivery_on_time'].unique()"
   ]
  },
  {
   "cell_type": "code",
   "execution_count": 10,
   "metadata": {},
   "outputs": [
    {
     "data": {
      "text/html": [
       "<div>\n",
       "<style scoped>\n",
       "    .dataframe tbody tr th:only-of-type {\n",
       "        vertical-align: middle;\n",
       "    }\n",
       "\n",
       "    .dataframe tbody tr th {\n",
       "        vertical-align: top;\n",
       "    }\n",
       "\n",
       "    .dataframe thead th {\n",
       "        text-align: right;\n",
       "    }\n",
       "</style>\n",
       "<table border=\"1\" class=\"dataframe\">\n",
       "  <thead>\n",
       "    <tr style=\"text-align: right;\">\n",
       "      <th></th>\n",
       "      <th>gmv</th>\n",
       "      <th>units</th>\n",
       "      <th>deliverybdays</th>\n",
       "      <th>deliverycdays</th>\n",
       "      <th>s1_fact_order_payment_type</th>\n",
       "      <th>sla</th>\n",
       "      <th>product_analytic_category</th>\n",
       "      <th>product_analytic_sub_category</th>\n",
       "      <th>product_analytic_vertical</th>\n",
       "      <th>product_mrp</th>\n",
       "      <th>...</th>\n",
       "      <th>month_date</th>\n",
       "      <th>TV_adstock</th>\n",
       "      <th>Digital_adstock</th>\n",
       "      <th>Sponsorship_adstock</th>\n",
       "      <th>Content Marketing_adstock</th>\n",
       "      <th>Online marketing_adstock</th>\n",
       "      <th>Affiliates_adstock</th>\n",
       "      <th>SEM_adstock</th>\n",
       "      <th>Radio_adstock</th>\n",
       "      <th>Other_adstock</th>\n",
       "    </tr>\n",
       "  </thead>\n",
       "  <tbody>\n",
       "    <tr>\n",
       "      <th>2</th>\n",
       "      <td>6,255.00</td>\n",
       "      <td>1</td>\n",
       "      <td>0</td>\n",
       "      <td>0</td>\n",
       "      <td>Prepaid</td>\n",
       "      <td>9</td>\n",
       "      <td>EntertainmentSmall</td>\n",
       "      <td>HomeAudio</td>\n",
       "      <td>HomeAudioSpeaker</td>\n",
       "      <td>7,499.00</td>\n",
       "      <td>...</td>\n",
       "      <td>2015-10-16-10</td>\n",
       "      <td>24,281,519.65</td>\n",
       "      <td>49,879,153.92</td>\n",
       "      <td>334,593,068.13</td>\n",
       "      <td>13,609,650.25</td>\n",
       "      <td>96,307,831.38</td>\n",
       "      <td>27,557,406.80</td>\n",
       "      <td>126,163,190.13</td>\n",
       "      <td>0.00</td>\n",
       "      <td>0.00</td>\n",
       "    </tr>\n",
       "    <tr>\n",
       "      <th>4</th>\n",
       "      <td>6,850.00</td>\n",
       "      <td>1</td>\n",
       "      <td>0</td>\n",
       "      <td>0</td>\n",
       "      <td>COD</td>\n",
       "      <td>9</td>\n",
       "      <td>EntertainmentSmall</td>\n",
       "      <td>HomeAudio</td>\n",
       "      <td>HomeAudioSpeaker</td>\n",
       "      <td>7,499.00</td>\n",
       "      <td>...</td>\n",
       "      <td>2015-10-20-10</td>\n",
       "      <td>26,883,111.04</td>\n",
       "      <td>55,223,348.98</td>\n",
       "      <td>370,442,325.43</td>\n",
       "      <td>15,067,827.06</td>\n",
       "      <td>106,626,527.60</td>\n",
       "      <td>30,509,986.10</td>\n",
       "      <td>139,680,674.78</td>\n",
       "      <td>0.00</td>\n",
       "      <td>0.00</td>\n",
       "    </tr>\n",
       "    <tr>\n",
       "      <th>8</th>\n",
       "      <td>6,850.00</td>\n",
       "      <td>1</td>\n",
       "      <td>0</td>\n",
       "      <td>0</td>\n",
       "      <td>Prepaid</td>\n",
       "      <td>6</td>\n",
       "      <td>EntertainmentSmall</td>\n",
       "      <td>HomeAudio</td>\n",
       "      <td>HomeAudioSpeaker</td>\n",
       "      <td>7,499.00</td>\n",
       "      <td>...</td>\n",
       "      <td>2015-10-30-10</td>\n",
       "      <td>27,696,108.35</td>\n",
       "      <td>56,893,409.94</td>\n",
       "      <td>381,645,218.33</td>\n",
       "      <td>15,523,507.31</td>\n",
       "      <td>109,851,120.17</td>\n",
       "      <td>31,432,667.13</td>\n",
       "      <td>143,904,888.74</td>\n",
       "      <td>0.00</td>\n",
       "      <td>0.00</td>\n",
       "    </tr>\n",
       "    <tr>\n",
       "      <th>11</th>\n",
       "      <td>6,700.00</td>\n",
       "      <td>1</td>\n",
       "      <td>0</td>\n",
       "      <td>0</td>\n",
       "      <td>COD</td>\n",
       "      <td>6</td>\n",
       "      <td>EntertainmentSmall</td>\n",
       "      <td>HomeAudio</td>\n",
       "      <td>HomeAudioSpeaker</td>\n",
       "      <td>7,499.00</td>\n",
       "      <td>...</td>\n",
       "      <td>2015-10-16-10</td>\n",
       "      <td>27,743,533.19</td>\n",
       "      <td>56,990,830.16</td>\n",
       "      <td>382,298,720.42</td>\n",
       "      <td>15,550,088.66</td>\n",
       "      <td>110,039,221.40</td>\n",
       "      <td>31,486,490.19</td>\n",
       "      <td>144,151,301.22</td>\n",
       "      <td>0.00</td>\n",
       "      <td>0.00</td>\n",
       "    </tr>\n",
       "    <tr>\n",
       "      <th>12</th>\n",
       "      <td>6,900.00</td>\n",
       "      <td>1</td>\n",
       "      <td>0</td>\n",
       "      <td>0</td>\n",
       "      <td>COD</td>\n",
       "      <td>6</td>\n",
       "      <td>EntertainmentSmall</td>\n",
       "      <td>HomeAudio</td>\n",
       "      <td>HomeAudioSpeaker</td>\n",
       "      <td>7,499.00</td>\n",
       "      <td>...</td>\n",
       "      <td>2015-10-02-10</td>\n",
       "      <td>27,746,920.68</td>\n",
       "      <td>56,997,788.75</td>\n",
       "      <td>382,345,399.14</td>\n",
       "      <td>15,551,987.33</td>\n",
       "      <td>110,052,657.20</td>\n",
       "      <td>31,490,334.69</td>\n",
       "      <td>144,168,902.11</td>\n",
       "      <td>0.00</td>\n",
       "      <td>0.00</td>\n",
       "    </tr>\n",
       "  </tbody>\n",
       "</table>\n",
       "<p>5 rows × 42 columns</p>\n",
       "</div>"
      ],
      "text/plain": [
       "        gmv  units  deliverybdays  deliverycdays s1_fact_order_payment_type  \\\n",
       "2  6,255.00      1              0              0                    Prepaid   \n",
       "4  6,850.00      1              0              0                        COD   \n",
       "8  6,850.00      1              0              0                    Prepaid   \n",
       "11 6,700.00      1              0              0                        COD   \n",
       "12 6,900.00      1              0              0                        COD   \n",
       "\n",
       "    sla product_analytic_category product_analytic_sub_category  \\\n",
       "2     9        EntertainmentSmall                     HomeAudio   \n",
       "4     9        EntertainmentSmall                     HomeAudio   \n",
       "8     6        EntertainmentSmall                     HomeAudio   \n",
       "11    6        EntertainmentSmall                     HomeAudio   \n",
       "12    6        EntertainmentSmall                     HomeAudio   \n",
       "\n",
       "   product_analytic_vertical  product_mrp  ...     month_date    TV_adstock  \\\n",
       "2           HomeAudioSpeaker     7,499.00  ...  2015-10-16-10 24,281,519.65   \n",
       "4           HomeAudioSpeaker     7,499.00  ...  2015-10-20-10 26,883,111.04   \n",
       "8           HomeAudioSpeaker     7,499.00  ...  2015-10-30-10 27,696,108.35   \n",
       "11          HomeAudioSpeaker     7,499.00  ...  2015-10-16-10 27,743,533.19   \n",
       "12          HomeAudioSpeaker     7,499.00  ...  2015-10-02-10 27,746,920.68   \n",
       "\n",
       "    Digital_adstock Sponsorship_adstock  Content Marketing_adstock  \\\n",
       "2     49,879,153.92      334,593,068.13              13,609,650.25   \n",
       "4     55,223,348.98      370,442,325.43              15,067,827.06   \n",
       "8     56,893,409.94      381,645,218.33              15,523,507.31   \n",
       "11    56,990,830.16      382,298,720.42              15,550,088.66   \n",
       "12    56,997,788.75      382,345,399.14              15,551,987.33   \n",
       "\n",
       "    Online marketing_adstock  Affiliates_adstock    SEM_adstock  \\\n",
       "2              96,307,831.38       27,557,406.80 126,163,190.13   \n",
       "4             106,626,527.60       30,509,986.10 139,680,674.78   \n",
       "8             109,851,120.17       31,432,667.13 143,904,888.74   \n",
       "11            110,039,221.40       31,486,490.19 144,151,301.22   \n",
       "12            110,052,657.20       31,490,334.69 144,168,902.11   \n",
       "\n",
       "    Radio_adstock  Other_adstock  \n",
       "2            0.00           0.00  \n",
       "4            0.00           0.00  \n",
       "8            0.00           0.00  \n",
       "11           0.00           0.00  \n",
       "12           0.00           0.00  \n",
       "\n",
       "[5 rows x 42 columns]"
      ]
     },
     "execution_count": 10,
     "metadata": {},
     "output_type": "execute_result"
    }
   ],
   "source": [
    "#Delivery time can't be negative hence taking positive values\n",
    "home_audio=home_audio.loc[(home_audio['delivery_on_time']>0)]\n",
    "home_audio.head()"
   ]
  },
  {
   "cell_type": "code",
   "execution_count": 11,
   "metadata": {},
   "outputs": [],
   "source": [
    "#Selecting numeric data\n",
    "log_cols = home_audio.select_dtypes(['float64','int64']).columns"
   ]
  },
  {
   "cell_type": "code",
   "execution_count": 12,
   "metadata": {},
   "outputs": [
    {
     "name": "stdout",
     "output_type": "stream",
     "text": [
      "<class 'pandas.core.frame.DataFrame'>\n",
      "Int64Index: 62116 entries, 2 to 97386\n",
      "Data columns (total 42 columns):\n",
      " #   Column                         Non-Null Count  Dtype  \n",
      "---  ------                         --------------  -----  \n",
      " 0   gmv                            62116 non-null  float64\n",
      " 1   units                          62116 non-null  int64  \n",
      " 2   deliverybdays                  62116 non-null  int64  \n",
      " 3   deliverycdays                  62116 non-null  int64  \n",
      " 4   s1_fact_order_payment_type     62116 non-null  object \n",
      " 5   sla                            62116 non-null  int64  \n",
      " 6   product_analytic_category      62116 non-null  object \n",
      " 7   product_analytic_sub_category  62116 non-null  object \n",
      " 8   product_analytic_vertical      62116 non-null  object \n",
      " 9   product_mrp                    62116 non-null  float64\n",
      " 10  product_procurement_sla        62116 non-null  int64  \n",
      " 11  Pay_Day                        62116 non-null  int64  \n",
      " 12  is_holiday                     62116 non-null  int64  \n",
      " 13  special_sale                   62116 non-null  object \n",
      " 14  Discount_Percentage            62116 non-null  float64\n",
      " 15  gmvperunit                     62116 non-null  float64\n",
      " 16  delivery_on_time               62116 non-null  float64\n",
      " 17  delivery_status                62116 non-null  object \n",
      " 18  Total Investment               62116 non-null  float64\n",
      " 19  TV                             62116 non-null  float64\n",
      " 20  Digital                        62116 non-null  float64\n",
      " 21  Sponsorship                    62116 non-null  float64\n",
      " 22  Content Marketing              62116 non-null  float64\n",
      " 23  Online marketing               62116 non-null  float64\n",
      " 24  SEM                            62116 non-null  float64\n",
      " 25  Radio                          62116 non-null  float64\n",
      " 26  Other                          62116 non-null  float64\n",
      " 27  Affiliates                     62116 non-null  float64\n",
      " 28  NPS                            0 non-null      float64\n",
      " 29  NPSScore                       0 non-null      float64\n",
      " 30  holiday_count                  62116 non-null  float64\n",
      " 31  ItemType                       62116 non-null  object \n",
      " 32  month_date                     62116 non-null  object \n",
      " 33  TV_adstock                     62116 non-null  float64\n",
      " 34  Digital_adstock                62116 non-null  float64\n",
      " 35  Sponsorship_adstock            62116 non-null  float64\n",
      " 36  Content Marketing_adstock      62116 non-null  float64\n",
      " 37  Online marketing_adstock       62116 non-null  float64\n",
      " 38  Affiliates_adstock             62116 non-null  float64\n",
      " 39  SEM_adstock                    62116 non-null  float64\n",
      " 40  Radio_adstock                  62116 non-null  float64\n",
      " 41  Other_adstock                  62116 non-null  float64\n",
      "dtypes: float64(27), int64(7), object(8)\n",
      "memory usage: 20.4+ MB\n"
     ]
    }
   ],
   "source": [
    "#checking detail info\n",
    "home_audio.info()"
   ]
  },
  {
   "cell_type": "code",
   "execution_count": 13,
   "metadata": {},
   "outputs": [
    {
     "data": {
      "text/plain": [
       "gmv                                  0\n",
       "units                                0\n",
       "deliverybdays                        0\n",
       "deliverycdays                        0\n",
       "s1_fact_order_payment_type           0\n",
       "sla                                  0\n",
       "product_analytic_category            0\n",
       "product_analytic_sub_category        0\n",
       "product_analytic_vertical            0\n",
       "product_mrp                          0\n",
       "product_procurement_sla              0\n",
       "Pay_Day                              0\n",
       "is_holiday                           0\n",
       "special_sale                         0\n",
       "Discount_Percentage                  0\n",
       "gmvperunit                           0\n",
       "delivery_on_time                     0\n",
       "delivery_status                      0\n",
       "Total Investment                     0\n",
       "TV                                   0\n",
       "Digital                              0\n",
       "Sponsorship                          0\n",
       "Content Marketing                    0\n",
       "Online marketing                     0\n",
       "SEM                                  0\n",
       "Radio                                0\n",
       "Other                                0\n",
       "Affiliates                           0\n",
       "NPS                              62116\n",
       "NPSScore                         62116\n",
       "holiday_count                        0\n",
       "ItemType                             0\n",
       "month_date                           0\n",
       "TV_adstock                           0\n",
       "Digital_adstock                      0\n",
       "Sponsorship_adstock                  0\n",
       "Content Marketing_adstock            0\n",
       "Online marketing_adstock             0\n",
       "Affiliates_adstock                   0\n",
       "SEM_adstock                          0\n",
       "Radio_adstock                        0\n",
       "Other_adstock                        0\n",
       "dtype: int64"
      ]
     },
     "execution_count": 13,
     "metadata": {},
     "output_type": "execute_result"
    }
   ],
   "source": [
    "#looking for Nan values\n",
    "home_audio.isnull().sum()"
   ]
  },
  {
   "cell_type": "code",
   "execution_count": 14,
   "metadata": {},
   "outputs": [],
   "source": [
    "home_audio['NPS'] = home_audio['NPS'].fillna(0)\n",
    "home_audio['NPSScore'] = home_audio['NPSScore'].fillna(0)"
   ]
  },
  {
   "cell_type": "code",
   "execution_count": 15,
   "metadata": {},
   "outputs": [
    {
     "data": {
      "text/plain": [
       "gmv                              0\n",
       "units                            0\n",
       "deliverybdays                    0\n",
       "deliverycdays                    0\n",
       "s1_fact_order_payment_type       0\n",
       "sla                              0\n",
       "product_analytic_category        0\n",
       "product_analytic_sub_category    0\n",
       "product_analytic_vertical        0\n",
       "product_mrp                      0\n",
       "product_procurement_sla          0\n",
       "Pay_Day                          0\n",
       "is_holiday                       0\n",
       "special_sale                     0\n",
       "Discount_Percentage              0\n",
       "gmvperunit                       0\n",
       "delivery_on_time                 0\n",
       "delivery_status                  0\n",
       "Total Investment                 0\n",
       "TV                               0\n",
       "Digital                          0\n",
       "Sponsorship                      0\n",
       "Content Marketing                0\n",
       "Online marketing                 0\n",
       "SEM                              0\n",
       "Radio                            0\n",
       "Other                            0\n",
       "Affiliates                       0\n",
       "NPS                              0\n",
       "NPSScore                         0\n",
       "holiday_count                    0\n",
       "ItemType                         0\n",
       "month_date                       0\n",
       "TV_adstock                       0\n",
       "Digital_adstock                  0\n",
       "Sponsorship_adstock              0\n",
       "Content Marketing_adstock        0\n",
       "Online marketing_adstock         0\n",
       "Affiliates_adstock               0\n",
       "SEM_adstock                      0\n",
       "Radio_adstock                    0\n",
       "Other_adstock                    0\n",
       "dtype: int64"
      ]
     },
     "execution_count": 15,
     "metadata": {},
     "output_type": "execute_result"
    }
   ],
   "source": [
    "#looking for Nan values\n",
    "home_audio.isnull().sum()"
   ]
  },
  {
   "cell_type": "code",
   "execution_count": 16,
   "metadata": {},
   "outputs": [],
   "source": [
    "#checking log cols\n",
    "log_cols = list(set(log_cols)-\n",
    "                set(['gmv','units']))"
   ]
  },
  {
   "cell_type": "code",
   "execution_count": 17,
   "metadata": {},
   "outputs": [],
   "source": [
    "# We will add 1 to all columns before we take log. This will make any value between 0 and 1 (like percentages) > 1\n",
    "# This is done to avoid negatives in the columns as the log of numbers between 0 and 1 would be less than \n",
    "\n",
    "home_audio[log_cols]+=1"
   ]
  },
  {
   "cell_type": "code",
   "execution_count": 18,
   "metadata": {},
   "outputs": [],
   "source": [
    "#Transforming relevant columns to logs\n",
    "home_audio[log_cols] =np.log(home_audio[log_cols])"
   ]
  },
  {
   "cell_type": "code",
   "execution_count": 19,
   "metadata": {},
   "outputs": [
    {
     "data": {
      "text/html": [
       "<div>\n",
       "<style scoped>\n",
       "    .dataframe tbody tr th:only-of-type {\n",
       "        vertical-align: middle;\n",
       "    }\n",
       "\n",
       "    .dataframe tbody tr th {\n",
       "        vertical-align: top;\n",
       "    }\n",
       "\n",
       "    .dataframe thead th {\n",
       "        text-align: right;\n",
       "    }\n",
       "</style>\n",
       "<table border=\"1\" class=\"dataframe\">\n",
       "  <thead>\n",
       "    <tr style=\"text-align: right;\">\n",
       "      <th></th>\n",
       "      <th>gmv</th>\n",
       "      <th>units</th>\n",
       "      <th>deliverybdays</th>\n",
       "      <th>deliverycdays</th>\n",
       "      <th>s1_fact_order_payment_type</th>\n",
       "      <th>sla</th>\n",
       "      <th>product_analytic_category</th>\n",
       "      <th>product_analytic_sub_category</th>\n",
       "      <th>product_analytic_vertical</th>\n",
       "      <th>product_mrp</th>\n",
       "      <th>...</th>\n",
       "      <th>month_date</th>\n",
       "      <th>TV_adstock</th>\n",
       "      <th>Digital_adstock</th>\n",
       "      <th>Sponsorship_adstock</th>\n",
       "      <th>Content Marketing_adstock</th>\n",
       "      <th>Online marketing_adstock</th>\n",
       "      <th>Affiliates_adstock</th>\n",
       "      <th>SEM_adstock</th>\n",
       "      <th>Radio_adstock</th>\n",
       "      <th>Other_adstock</th>\n",
       "    </tr>\n",
       "  </thead>\n",
       "  <tbody>\n",
       "    <tr>\n",
       "      <th>2</th>\n",
       "      <td>6,255.00</td>\n",
       "      <td>1</td>\n",
       "      <td>0.00</td>\n",
       "      <td>0.00</td>\n",
       "      <td>Prepaid</td>\n",
       "      <td>2.30</td>\n",
       "      <td>EntertainmentSmall</td>\n",
       "      <td>HomeAudio</td>\n",
       "      <td>HomeAudioSpeaker</td>\n",
       "      <td>8.92</td>\n",
       "      <td>...</td>\n",
       "      <td>2015-10-16-10</td>\n",
       "      <td>17.01</td>\n",
       "      <td>17.73</td>\n",
       "      <td>19.63</td>\n",
       "      <td>16.43</td>\n",
       "      <td>18.38</td>\n",
       "      <td>17.13</td>\n",
       "      <td>18.65</td>\n",
       "      <td>0.00</td>\n",
       "      <td>0.00</td>\n",
       "    </tr>\n",
       "    <tr>\n",
       "      <th>4</th>\n",
       "      <td>6,850.00</td>\n",
       "      <td>1</td>\n",
       "      <td>0.00</td>\n",
       "      <td>0.00</td>\n",
       "      <td>COD</td>\n",
       "      <td>2.30</td>\n",
       "      <td>EntertainmentSmall</td>\n",
       "      <td>HomeAudio</td>\n",
       "      <td>HomeAudioSpeaker</td>\n",
       "      <td>8.92</td>\n",
       "      <td>...</td>\n",
       "      <td>2015-10-20-10</td>\n",
       "      <td>17.11</td>\n",
       "      <td>17.83</td>\n",
       "      <td>19.73</td>\n",
       "      <td>16.53</td>\n",
       "      <td>18.48</td>\n",
       "      <td>17.23</td>\n",
       "      <td>18.75</td>\n",
       "      <td>0.00</td>\n",
       "      <td>0.00</td>\n",
       "    </tr>\n",
       "    <tr>\n",
       "      <th>8</th>\n",
       "      <td>6,850.00</td>\n",
       "      <td>1</td>\n",
       "      <td>0.00</td>\n",
       "      <td>0.00</td>\n",
       "      <td>Prepaid</td>\n",
       "      <td>1.95</td>\n",
       "      <td>EntertainmentSmall</td>\n",
       "      <td>HomeAudio</td>\n",
       "      <td>HomeAudioSpeaker</td>\n",
       "      <td>8.92</td>\n",
       "      <td>...</td>\n",
       "      <td>2015-10-30-10</td>\n",
       "      <td>17.14</td>\n",
       "      <td>17.86</td>\n",
       "      <td>19.76</td>\n",
       "      <td>16.56</td>\n",
       "      <td>18.51</td>\n",
       "      <td>17.26</td>\n",
       "      <td>18.78</td>\n",
       "      <td>0.00</td>\n",
       "      <td>0.00</td>\n",
       "    </tr>\n",
       "    <tr>\n",
       "      <th>11</th>\n",
       "      <td>6,700.00</td>\n",
       "      <td>1</td>\n",
       "      <td>0.00</td>\n",
       "      <td>0.00</td>\n",
       "      <td>COD</td>\n",
       "      <td>1.95</td>\n",
       "      <td>EntertainmentSmall</td>\n",
       "      <td>HomeAudio</td>\n",
       "      <td>HomeAudioSpeaker</td>\n",
       "      <td>8.92</td>\n",
       "      <td>...</td>\n",
       "      <td>2015-10-16-10</td>\n",
       "      <td>17.14</td>\n",
       "      <td>17.86</td>\n",
       "      <td>19.76</td>\n",
       "      <td>16.56</td>\n",
       "      <td>18.52</td>\n",
       "      <td>17.27</td>\n",
       "      <td>18.79</td>\n",
       "      <td>0.00</td>\n",
       "      <td>0.00</td>\n",
       "    </tr>\n",
       "    <tr>\n",
       "      <th>12</th>\n",
       "      <td>6,900.00</td>\n",
       "      <td>1</td>\n",
       "      <td>0.00</td>\n",
       "      <td>0.00</td>\n",
       "      <td>COD</td>\n",
       "      <td>1.95</td>\n",
       "      <td>EntertainmentSmall</td>\n",
       "      <td>HomeAudio</td>\n",
       "      <td>HomeAudioSpeaker</td>\n",
       "      <td>8.92</td>\n",
       "      <td>...</td>\n",
       "      <td>2015-10-02-10</td>\n",
       "      <td>17.14</td>\n",
       "      <td>17.86</td>\n",
       "      <td>19.76</td>\n",
       "      <td>16.56</td>\n",
       "      <td>18.52</td>\n",
       "      <td>17.27</td>\n",
       "      <td>18.79</td>\n",
       "      <td>0.00</td>\n",
       "      <td>0.00</td>\n",
       "    </tr>\n",
       "  </tbody>\n",
       "</table>\n",
       "<p>5 rows × 42 columns</p>\n",
       "</div>"
      ],
      "text/plain": [
       "        gmv  units  deliverybdays  deliverycdays s1_fact_order_payment_type  \\\n",
       "2  6,255.00      1           0.00           0.00                    Prepaid   \n",
       "4  6,850.00      1           0.00           0.00                        COD   \n",
       "8  6,850.00      1           0.00           0.00                    Prepaid   \n",
       "11 6,700.00      1           0.00           0.00                        COD   \n",
       "12 6,900.00      1           0.00           0.00                        COD   \n",
       "\n",
       "    sla product_analytic_category product_analytic_sub_category  \\\n",
       "2  2.30        EntertainmentSmall                     HomeAudio   \n",
       "4  2.30        EntertainmentSmall                     HomeAudio   \n",
       "8  1.95        EntertainmentSmall                     HomeAudio   \n",
       "11 1.95        EntertainmentSmall                     HomeAudio   \n",
       "12 1.95        EntertainmentSmall                     HomeAudio   \n",
       "\n",
       "   product_analytic_vertical  product_mrp  ...     month_date  TV_adstock  \\\n",
       "2           HomeAudioSpeaker         8.92  ...  2015-10-16-10       17.01   \n",
       "4           HomeAudioSpeaker         8.92  ...  2015-10-20-10       17.11   \n",
       "8           HomeAudioSpeaker         8.92  ...  2015-10-30-10       17.14   \n",
       "11          HomeAudioSpeaker         8.92  ...  2015-10-16-10       17.14   \n",
       "12          HomeAudioSpeaker         8.92  ...  2015-10-02-10       17.14   \n",
       "\n",
       "    Digital_adstock Sponsorship_adstock  Content Marketing_adstock  \\\n",
       "2             17.73               19.63                      16.43   \n",
       "4             17.83               19.73                      16.53   \n",
       "8             17.86               19.76                      16.56   \n",
       "11            17.86               19.76                      16.56   \n",
       "12            17.86               19.76                      16.56   \n",
       "\n",
       "    Online marketing_adstock  Affiliates_adstock SEM_adstock  Radio_adstock  \\\n",
       "2                      18.38               17.13       18.65           0.00   \n",
       "4                      18.48               17.23       18.75           0.00   \n",
       "8                      18.51               17.26       18.78           0.00   \n",
       "11                     18.52               17.27       18.79           0.00   \n",
       "12                     18.52               17.27       18.79           0.00   \n",
       "\n",
       "    Other_adstock  \n",
       "2            0.00  \n",
       "4            0.00  \n",
       "8            0.00  \n",
       "11           0.00  \n",
       "12           0.00  \n",
       "\n",
       "[5 rows x 42 columns]"
      ]
     },
     "execution_count": 19,
     "metadata": {},
     "output_type": "execute_result"
    }
   ],
   "source": [
    "#checking dataframe now\n",
    "home_audio.head()"
   ]
  },
  {
   "cell_type": "code",
   "execution_count": 20,
   "metadata": {},
   "outputs": [
    {
     "data": {
      "text/html": [
       "<div>\n",
       "<style scoped>\n",
       "    .dataframe tbody tr th:only-of-type {\n",
       "        vertical-align: middle;\n",
       "    }\n",
       "\n",
       "    .dataframe tbody tr th {\n",
       "        vertical-align: top;\n",
       "    }\n",
       "\n",
       "    .dataframe thead th {\n",
       "        text-align: right;\n",
       "    }\n",
       "</style>\n",
       "<table border=\"1\" class=\"dataframe\">\n",
       "  <thead>\n",
       "    <tr style=\"text-align: right;\">\n",
       "      <th></th>\n",
       "      <th>gmv</th>\n",
       "      <th>units</th>\n",
       "      <th>deliverybdays</th>\n",
       "      <th>deliverycdays</th>\n",
       "      <th>s1_fact_order_payment_type</th>\n",
       "      <th>sla</th>\n",
       "      <th>product_analytic_category</th>\n",
       "      <th>product_analytic_sub_category</th>\n",
       "      <th>product_analytic_vertical</th>\n",
       "      <th>product_mrp</th>\n",
       "      <th>...</th>\n",
       "      <th>ItemType</th>\n",
       "      <th>TV_adstock</th>\n",
       "      <th>Digital_adstock</th>\n",
       "      <th>Sponsorship_adstock</th>\n",
       "      <th>Content Marketing_adstock</th>\n",
       "      <th>Online marketing_adstock</th>\n",
       "      <th>Affiliates_adstock</th>\n",
       "      <th>SEM_adstock</th>\n",
       "      <th>Radio_adstock</th>\n",
       "      <th>Other_adstock</th>\n",
       "    </tr>\n",
       "  </thead>\n",
       "  <tbody>\n",
       "    <tr>\n",
       "      <th>2</th>\n",
       "      <td>6,255.00</td>\n",
       "      <td>1</td>\n",
       "      <td>0.00</td>\n",
       "      <td>0.00</td>\n",
       "      <td>Prepaid</td>\n",
       "      <td>2.30</td>\n",
       "      <td>EntertainmentSmall</td>\n",
       "      <td>HomeAudio</td>\n",
       "      <td>HomeAudioSpeaker</td>\n",
       "      <td>8.92</td>\n",
       "      <td>...</td>\n",
       "      <td>Luxury</td>\n",
       "      <td>17.01</td>\n",
       "      <td>17.73</td>\n",
       "      <td>19.63</td>\n",
       "      <td>16.43</td>\n",
       "      <td>18.38</td>\n",
       "      <td>17.13</td>\n",
       "      <td>18.65</td>\n",
       "      <td>0.00</td>\n",
       "      <td>0.00</td>\n",
       "    </tr>\n",
       "    <tr>\n",
       "      <th>4</th>\n",
       "      <td>6,850.00</td>\n",
       "      <td>1</td>\n",
       "      <td>0.00</td>\n",
       "      <td>0.00</td>\n",
       "      <td>COD</td>\n",
       "      <td>2.30</td>\n",
       "      <td>EntertainmentSmall</td>\n",
       "      <td>HomeAudio</td>\n",
       "      <td>HomeAudioSpeaker</td>\n",
       "      <td>8.92</td>\n",
       "      <td>...</td>\n",
       "      <td>Luxury</td>\n",
       "      <td>17.11</td>\n",
       "      <td>17.83</td>\n",
       "      <td>19.73</td>\n",
       "      <td>16.53</td>\n",
       "      <td>18.48</td>\n",
       "      <td>17.23</td>\n",
       "      <td>18.75</td>\n",
       "      <td>0.00</td>\n",
       "      <td>0.00</td>\n",
       "    </tr>\n",
       "    <tr>\n",
       "      <th>8</th>\n",
       "      <td>6,850.00</td>\n",
       "      <td>1</td>\n",
       "      <td>0.00</td>\n",
       "      <td>0.00</td>\n",
       "      <td>Prepaid</td>\n",
       "      <td>1.95</td>\n",
       "      <td>EntertainmentSmall</td>\n",
       "      <td>HomeAudio</td>\n",
       "      <td>HomeAudioSpeaker</td>\n",
       "      <td>8.92</td>\n",
       "      <td>...</td>\n",
       "      <td>Luxury</td>\n",
       "      <td>17.14</td>\n",
       "      <td>17.86</td>\n",
       "      <td>19.76</td>\n",
       "      <td>16.56</td>\n",
       "      <td>18.51</td>\n",
       "      <td>17.26</td>\n",
       "      <td>18.78</td>\n",
       "      <td>0.00</td>\n",
       "      <td>0.00</td>\n",
       "    </tr>\n",
       "    <tr>\n",
       "      <th>11</th>\n",
       "      <td>6,700.00</td>\n",
       "      <td>1</td>\n",
       "      <td>0.00</td>\n",
       "      <td>0.00</td>\n",
       "      <td>COD</td>\n",
       "      <td>1.95</td>\n",
       "      <td>EntertainmentSmall</td>\n",
       "      <td>HomeAudio</td>\n",
       "      <td>HomeAudioSpeaker</td>\n",
       "      <td>8.92</td>\n",
       "      <td>...</td>\n",
       "      <td>Luxury</td>\n",
       "      <td>17.14</td>\n",
       "      <td>17.86</td>\n",
       "      <td>19.76</td>\n",
       "      <td>16.56</td>\n",
       "      <td>18.52</td>\n",
       "      <td>17.27</td>\n",
       "      <td>18.79</td>\n",
       "      <td>0.00</td>\n",
       "      <td>0.00</td>\n",
       "    </tr>\n",
       "    <tr>\n",
       "      <th>12</th>\n",
       "      <td>6,900.00</td>\n",
       "      <td>1</td>\n",
       "      <td>0.00</td>\n",
       "      <td>0.00</td>\n",
       "      <td>COD</td>\n",
       "      <td>1.95</td>\n",
       "      <td>EntertainmentSmall</td>\n",
       "      <td>HomeAudio</td>\n",
       "      <td>HomeAudioSpeaker</td>\n",
       "      <td>8.92</td>\n",
       "      <td>...</td>\n",
       "      <td>Luxury</td>\n",
       "      <td>17.14</td>\n",
       "      <td>17.86</td>\n",
       "      <td>19.76</td>\n",
       "      <td>16.56</td>\n",
       "      <td>18.52</td>\n",
       "      <td>17.27</td>\n",
       "      <td>18.79</td>\n",
       "      <td>0.00</td>\n",
       "      <td>0.00</td>\n",
       "    </tr>\n",
       "  </tbody>\n",
       "</table>\n",
       "<p>5 rows × 41 columns</p>\n",
       "</div>"
      ],
      "text/plain": [
       "        gmv  units  deliverybdays  deliverycdays s1_fact_order_payment_type  \\\n",
       "2  6,255.00      1           0.00           0.00                    Prepaid   \n",
       "4  6,850.00      1           0.00           0.00                        COD   \n",
       "8  6,850.00      1           0.00           0.00                    Prepaid   \n",
       "11 6,700.00      1           0.00           0.00                        COD   \n",
       "12 6,900.00      1           0.00           0.00                        COD   \n",
       "\n",
       "    sla product_analytic_category product_analytic_sub_category  \\\n",
       "2  2.30        EntertainmentSmall                     HomeAudio   \n",
       "4  2.30        EntertainmentSmall                     HomeAudio   \n",
       "8  1.95        EntertainmentSmall                     HomeAudio   \n",
       "11 1.95        EntertainmentSmall                     HomeAudio   \n",
       "12 1.95        EntertainmentSmall                     HomeAudio   \n",
       "\n",
       "   product_analytic_vertical  product_mrp  ...  ItemType  TV_adstock  \\\n",
       "2           HomeAudioSpeaker         8.92  ...    Luxury       17.01   \n",
       "4           HomeAudioSpeaker         8.92  ...    Luxury       17.11   \n",
       "8           HomeAudioSpeaker         8.92  ...    Luxury       17.14   \n",
       "11          HomeAudioSpeaker         8.92  ...    Luxury       17.14   \n",
       "12          HomeAudioSpeaker         8.92  ...    Luxury       17.14   \n",
       "\n",
       "    Digital_adstock Sponsorship_adstock  Content Marketing_adstock  \\\n",
       "2             17.73               19.63                      16.43   \n",
       "4             17.83               19.73                      16.53   \n",
       "8             17.86               19.76                      16.56   \n",
       "11            17.86               19.76                      16.56   \n",
       "12            17.86               19.76                      16.56   \n",
       "\n",
       "    Online marketing_adstock  Affiliates_adstock SEM_adstock  Radio_adstock  \\\n",
       "2                      18.38               17.13       18.65           0.00   \n",
       "4                      18.48               17.23       18.75           0.00   \n",
       "8                      18.51               17.26       18.78           0.00   \n",
       "11                     18.52               17.27       18.79           0.00   \n",
       "12                     18.52               17.27       18.79           0.00   \n",
       "\n",
       "    Other_adstock  \n",
       "2            0.00  \n",
       "4            0.00  \n",
       "8            0.00  \n",
       "11           0.00  \n",
       "12           0.00  \n",
       "\n",
       "[5 rows x 41 columns]"
      ]
     },
     "execution_count": 20,
     "metadata": {},
     "output_type": "execute_result"
    }
   ],
   "source": [
    "# Drop variable columns\n",
    "home_audio = home_audio.drop(['month_date'], axis=1)\n",
    "home_audio.head()"
   ]
  },
  {
   "cell_type": "code",
   "execution_count": 21,
   "metadata": {},
   "outputs": [
    {
     "data": {
      "text/html": [
       "<div>\n",
       "<style scoped>\n",
       "    .dataframe tbody tr th:only-of-type {\n",
       "        vertical-align: middle;\n",
       "    }\n",
       "\n",
       "    .dataframe tbody tr th {\n",
       "        vertical-align: top;\n",
       "    }\n",
       "\n",
       "    .dataframe thead th {\n",
       "        text-align: right;\n",
       "    }\n",
       "</style>\n",
       "<table border=\"1\" class=\"dataframe\">\n",
       "  <thead>\n",
       "    <tr style=\"text-align: right;\">\n",
       "      <th></th>\n",
       "      <th>gmv</th>\n",
       "      <th>units</th>\n",
       "      <th>deliverybdays</th>\n",
       "      <th>deliverycdays</th>\n",
       "      <th>sla</th>\n",
       "      <th>product_mrp</th>\n",
       "      <th>product_procurement_sla</th>\n",
       "      <th>Pay_Day</th>\n",
       "      <th>is_holiday</th>\n",
       "      <th>Discount_Percentage</th>\n",
       "      <th>...</th>\n",
       "      <th>holiday_count</th>\n",
       "      <th>TV_adstock</th>\n",
       "      <th>Digital_adstock</th>\n",
       "      <th>Sponsorship_adstock</th>\n",
       "      <th>Content Marketing_adstock</th>\n",
       "      <th>Online marketing_adstock</th>\n",
       "      <th>Affiliates_adstock</th>\n",
       "      <th>SEM_adstock</th>\n",
       "      <th>Radio_adstock</th>\n",
       "      <th>Other_adstock</th>\n",
       "    </tr>\n",
       "  </thead>\n",
       "  <tbody>\n",
       "    <tr>\n",
       "      <th>2</th>\n",
       "      <td>6,255.00</td>\n",
       "      <td>1</td>\n",
       "      <td>0.00</td>\n",
       "      <td>0.00</td>\n",
       "      <td>2.30</td>\n",
       "      <td>8.92</td>\n",
       "      <td>1.79</td>\n",
       "      <td>0.00</td>\n",
       "      <td>0.69</td>\n",
       "      <td>2.87</td>\n",
       "      <td>...</td>\n",
       "      <td>1.61</td>\n",
       "      <td>17.01</td>\n",
       "      <td>17.73</td>\n",
       "      <td>19.63</td>\n",
       "      <td>16.43</td>\n",
       "      <td>18.38</td>\n",
       "      <td>17.13</td>\n",
       "      <td>18.65</td>\n",
       "      <td>0.00</td>\n",
       "      <td>0.00</td>\n",
       "    </tr>\n",
       "    <tr>\n",
       "      <th>4</th>\n",
       "      <td>6,850.00</td>\n",
       "      <td>1</td>\n",
       "      <td>0.00</td>\n",
       "      <td>0.00</td>\n",
       "      <td>2.30</td>\n",
       "      <td>8.92</td>\n",
       "      <td>1.79</td>\n",
       "      <td>0.00</td>\n",
       "      <td>0.00</td>\n",
       "      <td>2.27</td>\n",
       "      <td>...</td>\n",
       "      <td>0.00</td>\n",
       "      <td>17.11</td>\n",
       "      <td>17.83</td>\n",
       "      <td>19.73</td>\n",
       "      <td>16.53</td>\n",
       "      <td>18.48</td>\n",
       "      <td>17.23</td>\n",
       "      <td>18.75</td>\n",
       "      <td>0.00</td>\n",
       "      <td>0.00</td>\n",
       "    </tr>\n",
       "    <tr>\n",
       "      <th>8</th>\n",
       "      <td>6,850.00</td>\n",
       "      <td>1</td>\n",
       "      <td>0.00</td>\n",
       "      <td>0.00</td>\n",
       "      <td>1.95</td>\n",
       "      <td>8.92</td>\n",
       "      <td>1.79</td>\n",
       "      <td>0.00</td>\n",
       "      <td>0.00</td>\n",
       "      <td>2.27</td>\n",
       "      <td>...</td>\n",
       "      <td>0.00</td>\n",
       "      <td>17.14</td>\n",
       "      <td>17.86</td>\n",
       "      <td>19.76</td>\n",
       "      <td>16.56</td>\n",
       "      <td>18.51</td>\n",
       "      <td>17.26</td>\n",
       "      <td>18.78</td>\n",
       "      <td>0.00</td>\n",
       "      <td>0.00</td>\n",
       "    </tr>\n",
       "    <tr>\n",
       "      <th>11</th>\n",
       "      <td>6,700.00</td>\n",
       "      <td>1</td>\n",
       "      <td>0.00</td>\n",
       "      <td>0.00</td>\n",
       "      <td>1.95</td>\n",
       "      <td>8.92</td>\n",
       "      <td>1.79</td>\n",
       "      <td>0.00</td>\n",
       "      <td>0.69</td>\n",
       "      <td>2.46</td>\n",
       "      <td>...</td>\n",
       "      <td>1.61</td>\n",
       "      <td>17.14</td>\n",
       "      <td>17.86</td>\n",
       "      <td>19.76</td>\n",
       "      <td>16.56</td>\n",
       "      <td>18.52</td>\n",
       "      <td>17.27</td>\n",
       "      <td>18.79</td>\n",
       "      <td>0.00</td>\n",
       "      <td>0.00</td>\n",
       "    </tr>\n",
       "    <tr>\n",
       "      <th>12</th>\n",
       "      <td>6,900.00</td>\n",
       "      <td>1</td>\n",
       "      <td>0.00</td>\n",
       "      <td>0.00</td>\n",
       "      <td>1.95</td>\n",
       "      <td>8.92</td>\n",
       "      <td>1.79</td>\n",
       "      <td>0.00</td>\n",
       "      <td>0.00</td>\n",
       "      <td>2.20</td>\n",
       "      <td>...</td>\n",
       "      <td>0.00</td>\n",
       "      <td>17.14</td>\n",
       "      <td>17.86</td>\n",
       "      <td>19.76</td>\n",
       "      <td>16.56</td>\n",
       "      <td>18.52</td>\n",
       "      <td>17.27</td>\n",
       "      <td>18.79</td>\n",
       "      <td>0.00</td>\n",
       "      <td>0.00</td>\n",
       "    </tr>\n",
       "  </tbody>\n",
       "</table>\n",
       "<p>5 rows × 34 columns</p>\n",
       "</div>"
      ],
      "text/plain": [
       "        gmv  units  deliverybdays  deliverycdays  sla  product_mrp  \\\n",
       "2  6,255.00      1           0.00           0.00 2.30         8.92   \n",
       "4  6,850.00      1           0.00           0.00 2.30         8.92   \n",
       "8  6,850.00      1           0.00           0.00 1.95         8.92   \n",
       "11 6,700.00      1           0.00           0.00 1.95         8.92   \n",
       "12 6,900.00      1           0.00           0.00 1.95         8.92   \n",
       "\n",
       "    product_procurement_sla  Pay_Day  is_holiday  Discount_Percentage  ...  \\\n",
       "2                      1.79     0.00        0.69                 2.87  ...   \n",
       "4                      1.79     0.00        0.00                 2.27  ...   \n",
       "8                      1.79     0.00        0.00                 2.27  ...   \n",
       "11                     1.79     0.00        0.69                 2.46  ...   \n",
       "12                     1.79     0.00        0.00                 2.20  ...   \n",
       "\n",
       "    holiday_count  TV_adstock  Digital_adstock  Sponsorship_adstock  \\\n",
       "2            1.61       17.01            17.73                19.63   \n",
       "4            0.00       17.11            17.83                19.73   \n",
       "8            0.00       17.14            17.86                19.76   \n",
       "11           1.61       17.14            17.86                19.76   \n",
       "12           0.00       17.14            17.86                19.76   \n",
       "\n",
       "    Content Marketing_adstock  Online marketing_adstock  Affiliates_adstock  \\\n",
       "2                       16.43                     18.38               17.13   \n",
       "4                       16.53                     18.48               17.23   \n",
       "8                       16.56                     18.51               17.26   \n",
       "11                      16.56                     18.52               17.27   \n",
       "12                      16.56                     18.52               17.27   \n",
       "\n",
       "    SEM_adstock  Radio_adstock  Other_adstock  \n",
       "2         18.65           0.00           0.00  \n",
       "4         18.75           0.00           0.00  \n",
       "8         18.78           0.00           0.00  \n",
       "11        18.79           0.00           0.00  \n",
       "12        18.79           0.00           0.00  \n",
       "\n",
       "[5 rows x 34 columns]"
      ]
     },
     "execution_count": 21,
     "metadata": {},
     "output_type": "execute_result"
    }
   ],
   "source": [
    "# Subset all categorical variables\n",
    "ecart_HA_numerical = home_audio.select_dtypes(include=['int64','float64'])\n",
    "ecart_HA_numerical.head()"
   ]
  },
  {
   "cell_type": "code",
   "execution_count": 22,
   "metadata": {},
   "outputs": [
    {
     "name": "stdout",
     "output_type": "stream",
     "text": [
      "<class 'pandas.core.frame.DataFrame'>\n",
      "Int64Index: 62116 entries, 2 to 97386\n",
      "Data columns (total 34 columns):\n",
      " #   Column                     Non-Null Count  Dtype  \n",
      "---  ------                     --------------  -----  \n",
      " 0   gmv                        62116 non-null  float64\n",
      " 1   units                      62116 non-null  int64  \n",
      " 2   deliverybdays              62116 non-null  float64\n",
      " 3   deliverycdays              62116 non-null  float64\n",
      " 4   sla                        62116 non-null  float64\n",
      " 5   product_mrp                62116 non-null  float64\n",
      " 6   product_procurement_sla    62116 non-null  float64\n",
      " 7   Pay_Day                    62116 non-null  float64\n",
      " 8   is_holiday                 62116 non-null  float64\n",
      " 9   Discount_Percentage        62116 non-null  float64\n",
      " 10  gmvperunit                 62116 non-null  float64\n",
      " 11  delivery_on_time           62116 non-null  float64\n",
      " 12  Total Investment           62116 non-null  float64\n",
      " 13  TV                         62116 non-null  float64\n",
      " 14  Digital                    62116 non-null  float64\n",
      " 15  Sponsorship                62116 non-null  float64\n",
      " 16  Content Marketing          62116 non-null  float64\n",
      " 17  Online marketing           62116 non-null  float64\n",
      " 18  SEM                        62116 non-null  float64\n",
      " 19  Radio                      62116 non-null  float64\n",
      " 20  Other                      62116 non-null  float64\n",
      " 21  Affiliates                 62116 non-null  float64\n",
      " 22  NPS                        62116 non-null  float64\n",
      " 23  NPSScore                   62116 non-null  float64\n",
      " 24  holiday_count              62116 non-null  float64\n",
      " 25  TV_adstock                 62116 non-null  float64\n",
      " 26  Digital_adstock            62116 non-null  float64\n",
      " 27  Sponsorship_adstock        62116 non-null  float64\n",
      " 28  Content Marketing_adstock  62116 non-null  float64\n",
      " 29  Online marketing_adstock   62116 non-null  float64\n",
      " 30  Affiliates_adstock         62116 non-null  float64\n",
      " 31  SEM_adstock                62116 non-null  float64\n",
      " 32  Radio_adstock              62116 non-null  float64\n",
      " 33  Other_adstock              62116 non-null  float64\n",
      "dtypes: float64(33), int64(1)\n",
      "memory usage: 16.6 MB\n"
     ]
    }
   ],
   "source": [
    "#checking detail info\n",
    "ecart_HA_numerical.info()"
   ]
  },
  {
   "cell_type": "code",
   "execution_count": 23,
   "metadata": {},
   "outputs": [
    {
     "data": {
      "text/html": [
       "<div>\n",
       "<style scoped>\n",
       "    .dataframe tbody tr th:only-of-type {\n",
       "        vertical-align: middle;\n",
       "    }\n",
       "\n",
       "    .dataframe tbody tr th {\n",
       "        vertical-align: top;\n",
       "    }\n",
       "\n",
       "    .dataframe thead th {\n",
       "        text-align: right;\n",
       "    }\n",
       "</style>\n",
       "<table border=\"1\" class=\"dataframe\">\n",
       "  <thead>\n",
       "    <tr style=\"text-align: right;\">\n",
       "      <th></th>\n",
       "      <th>s1_fact_order_payment_type</th>\n",
       "      <th>product_analytic_category</th>\n",
       "      <th>product_analytic_sub_category</th>\n",
       "      <th>product_analytic_vertical</th>\n",
       "      <th>special_sale</th>\n",
       "      <th>delivery_status</th>\n",
       "      <th>ItemType</th>\n",
       "    </tr>\n",
       "  </thead>\n",
       "  <tbody>\n",
       "    <tr>\n",
       "      <th>2</th>\n",
       "      <td>Prepaid</td>\n",
       "      <td>EntertainmentSmall</td>\n",
       "      <td>HomeAudio</td>\n",
       "      <td>HomeAudioSpeaker</td>\n",
       "      <td>Daussera</td>\n",
       "      <td>Early</td>\n",
       "      <td>Luxury</td>\n",
       "    </tr>\n",
       "    <tr>\n",
       "      <th>4</th>\n",
       "      <td>COD</td>\n",
       "      <td>EntertainmentSmall</td>\n",
       "      <td>HomeAudio</td>\n",
       "      <td>HomeAudioSpeaker</td>\n",
       "      <td>Regular Day</td>\n",
       "      <td>Early</td>\n",
       "      <td>Luxury</td>\n",
       "    </tr>\n",
       "    <tr>\n",
       "      <th>8</th>\n",
       "      <td>Prepaid</td>\n",
       "      <td>EntertainmentSmall</td>\n",
       "      <td>HomeAudio</td>\n",
       "      <td>HomeAudioSpeaker</td>\n",
       "      <td>Regular Day</td>\n",
       "      <td>Early</td>\n",
       "      <td>Luxury</td>\n",
       "    </tr>\n",
       "    <tr>\n",
       "      <th>11</th>\n",
       "      <td>COD</td>\n",
       "      <td>EntertainmentSmall</td>\n",
       "      <td>HomeAudio</td>\n",
       "      <td>HomeAudioSpeaker</td>\n",
       "      <td>Daussera</td>\n",
       "      <td>Early</td>\n",
       "      <td>Luxury</td>\n",
       "    </tr>\n",
       "    <tr>\n",
       "      <th>12</th>\n",
       "      <td>COD</td>\n",
       "      <td>EntertainmentSmall</td>\n",
       "      <td>HomeAudio</td>\n",
       "      <td>HomeAudioSpeaker</td>\n",
       "      <td>Regular Day</td>\n",
       "      <td>Early</td>\n",
       "      <td>Luxury</td>\n",
       "    </tr>\n",
       "  </tbody>\n",
       "</table>\n",
       "</div>"
      ],
      "text/plain": [
       "   s1_fact_order_payment_type product_analytic_category  \\\n",
       "2                     Prepaid        EntertainmentSmall   \n",
       "4                         COD        EntertainmentSmall   \n",
       "8                     Prepaid        EntertainmentSmall   \n",
       "11                        COD        EntertainmentSmall   \n",
       "12                        COD        EntertainmentSmall   \n",
       "\n",
       "   product_analytic_sub_category product_analytic_vertical special_sale  \\\n",
       "2                      HomeAudio          HomeAudioSpeaker     Daussera   \n",
       "4                      HomeAudio          HomeAudioSpeaker  Regular Day   \n",
       "8                      HomeAudio          HomeAudioSpeaker  Regular Day   \n",
       "11                     HomeAudio          HomeAudioSpeaker     Daussera   \n",
       "12                     HomeAudio          HomeAudioSpeaker  Regular Day   \n",
       "\n",
       "   delivery_status ItemType  \n",
       "2            Early   Luxury  \n",
       "4            Early   Luxury  \n",
       "8            Early   Luxury  \n",
       "11           Early   Luxury  \n",
       "12           Early   Luxury  "
      ]
     },
     "execution_count": 23,
     "metadata": {},
     "output_type": "execute_result"
    }
   ],
   "source": [
    "# Subset all categorical variables\n",
    "ecart_HA_categorical = home_audio.select_dtypes(include=['object'])\n",
    "ecart_HA_categorical.head()"
   ]
  },
  {
   "cell_type": "code",
   "execution_count": 24,
   "metadata": {},
   "outputs": [
    {
     "data": {
      "text/html": [
       "<div>\n",
       "<style scoped>\n",
       "    .dataframe tbody tr th:only-of-type {\n",
       "        vertical-align: middle;\n",
       "    }\n",
       "\n",
       "    .dataframe tbody tr th {\n",
       "        vertical-align: top;\n",
       "    }\n",
       "\n",
       "    .dataframe thead th {\n",
       "        text-align: right;\n",
       "    }\n",
       "</style>\n",
       "<table border=\"1\" class=\"dataframe\">\n",
       "  <thead>\n",
       "    <tr style=\"text-align: right;\">\n",
       "      <th></th>\n",
       "      <th>s1_fact_order_payment_type_Prepaid</th>\n",
       "      <th>product_analytic_vertical_DJController</th>\n",
       "      <th>product_analytic_vertical_Dock</th>\n",
       "      <th>product_analytic_vertical_DockingStation</th>\n",
       "      <th>product_analytic_vertical_FMRadio</th>\n",
       "      <th>product_analytic_vertical_HiFiSystem</th>\n",
       "      <th>product_analytic_vertical_HomeAudioSpeaker</th>\n",
       "      <th>product_analytic_vertical_KaraokePlayer</th>\n",
       "      <th>product_analytic_vertical_SlingBox</th>\n",
       "      <th>product_analytic_vertical_SoundMixer</th>\n",
       "      <th>...</th>\n",
       "      <th>special_sale_Christmas &amp; New Year</th>\n",
       "      <th>special_sale_Daussera</th>\n",
       "      <th>special_sale_Diwali</th>\n",
       "      <th>special_sale_Eid &amp; Rathayatra</th>\n",
       "      <th>special_sale_FHSD</th>\n",
       "      <th>special_sale_Pacman</th>\n",
       "      <th>special_sale_Regular Day</th>\n",
       "      <th>special_sale_Republic Day</th>\n",
       "      <th>special_sale_Valentine Day</th>\n",
       "      <th>ItemType_MassMarket</th>\n",
       "    </tr>\n",
       "  </thead>\n",
       "  <tbody>\n",
       "    <tr>\n",
       "      <th>2</th>\n",
       "      <td>1</td>\n",
       "      <td>0</td>\n",
       "      <td>0</td>\n",
       "      <td>0</td>\n",
       "      <td>0</td>\n",
       "      <td>0</td>\n",
       "      <td>1</td>\n",
       "      <td>0</td>\n",
       "      <td>0</td>\n",
       "      <td>0</td>\n",
       "      <td>...</td>\n",
       "      <td>0</td>\n",
       "      <td>1</td>\n",
       "      <td>0</td>\n",
       "      <td>0</td>\n",
       "      <td>0</td>\n",
       "      <td>0</td>\n",
       "      <td>0</td>\n",
       "      <td>0</td>\n",
       "      <td>0</td>\n",
       "      <td>0</td>\n",
       "    </tr>\n",
       "    <tr>\n",
       "      <th>4</th>\n",
       "      <td>0</td>\n",
       "      <td>0</td>\n",
       "      <td>0</td>\n",
       "      <td>0</td>\n",
       "      <td>0</td>\n",
       "      <td>0</td>\n",
       "      <td>1</td>\n",
       "      <td>0</td>\n",
       "      <td>0</td>\n",
       "      <td>0</td>\n",
       "      <td>...</td>\n",
       "      <td>0</td>\n",
       "      <td>0</td>\n",
       "      <td>0</td>\n",
       "      <td>0</td>\n",
       "      <td>0</td>\n",
       "      <td>0</td>\n",
       "      <td>1</td>\n",
       "      <td>0</td>\n",
       "      <td>0</td>\n",
       "      <td>0</td>\n",
       "    </tr>\n",
       "    <tr>\n",
       "      <th>8</th>\n",
       "      <td>1</td>\n",
       "      <td>0</td>\n",
       "      <td>0</td>\n",
       "      <td>0</td>\n",
       "      <td>0</td>\n",
       "      <td>0</td>\n",
       "      <td>1</td>\n",
       "      <td>0</td>\n",
       "      <td>0</td>\n",
       "      <td>0</td>\n",
       "      <td>...</td>\n",
       "      <td>0</td>\n",
       "      <td>0</td>\n",
       "      <td>0</td>\n",
       "      <td>0</td>\n",
       "      <td>0</td>\n",
       "      <td>0</td>\n",
       "      <td>1</td>\n",
       "      <td>0</td>\n",
       "      <td>0</td>\n",
       "      <td>0</td>\n",
       "    </tr>\n",
       "    <tr>\n",
       "      <th>11</th>\n",
       "      <td>0</td>\n",
       "      <td>0</td>\n",
       "      <td>0</td>\n",
       "      <td>0</td>\n",
       "      <td>0</td>\n",
       "      <td>0</td>\n",
       "      <td>1</td>\n",
       "      <td>0</td>\n",
       "      <td>0</td>\n",
       "      <td>0</td>\n",
       "      <td>...</td>\n",
       "      <td>0</td>\n",
       "      <td>1</td>\n",
       "      <td>0</td>\n",
       "      <td>0</td>\n",
       "      <td>0</td>\n",
       "      <td>0</td>\n",
       "      <td>0</td>\n",
       "      <td>0</td>\n",
       "      <td>0</td>\n",
       "      <td>0</td>\n",
       "    </tr>\n",
       "    <tr>\n",
       "      <th>12</th>\n",
       "      <td>0</td>\n",
       "      <td>0</td>\n",
       "      <td>0</td>\n",
       "      <td>0</td>\n",
       "      <td>0</td>\n",
       "      <td>0</td>\n",
       "      <td>1</td>\n",
       "      <td>0</td>\n",
       "      <td>0</td>\n",
       "      <td>0</td>\n",
       "      <td>...</td>\n",
       "      <td>0</td>\n",
       "      <td>0</td>\n",
       "      <td>0</td>\n",
       "      <td>0</td>\n",
       "      <td>0</td>\n",
       "      <td>0</td>\n",
       "      <td>1</td>\n",
       "      <td>0</td>\n",
       "      <td>0</td>\n",
       "      <td>0</td>\n",
       "    </tr>\n",
       "  </tbody>\n",
       "</table>\n",
       "<p>5 rows × 22 columns</p>\n",
       "</div>"
      ],
      "text/plain": [
       "    s1_fact_order_payment_type_Prepaid  \\\n",
       "2                                    1   \n",
       "4                                    0   \n",
       "8                                    1   \n",
       "11                                   0   \n",
       "12                                   0   \n",
       "\n",
       "    product_analytic_vertical_DJController  product_analytic_vertical_Dock  \\\n",
       "2                                        0                               0   \n",
       "4                                        0                               0   \n",
       "8                                        0                               0   \n",
       "11                                       0                               0   \n",
       "12                                       0                               0   \n",
       "\n",
       "    product_analytic_vertical_DockingStation  \\\n",
       "2                                          0   \n",
       "4                                          0   \n",
       "8                                          0   \n",
       "11                                         0   \n",
       "12                                         0   \n",
       "\n",
       "    product_analytic_vertical_FMRadio  product_analytic_vertical_HiFiSystem  \\\n",
       "2                                   0                                     0   \n",
       "4                                   0                                     0   \n",
       "8                                   0                                     0   \n",
       "11                                  0                                     0   \n",
       "12                                  0                                     0   \n",
       "\n",
       "    product_analytic_vertical_HomeAudioSpeaker  \\\n",
       "2                                            1   \n",
       "4                                            1   \n",
       "8                                            1   \n",
       "11                                           1   \n",
       "12                                           1   \n",
       "\n",
       "    product_analytic_vertical_KaraokePlayer  \\\n",
       "2                                         0   \n",
       "4                                         0   \n",
       "8                                         0   \n",
       "11                                        0   \n",
       "12                                        0   \n",
       "\n",
       "    product_analytic_vertical_SlingBox  product_analytic_vertical_SoundMixer  \\\n",
       "2                                    0                                     0   \n",
       "4                                    0                                     0   \n",
       "8                                    0                                     0   \n",
       "11                                   0                                     0   \n",
       "12                                   0                                     0   \n",
       "\n",
       "    ...  special_sale_Christmas & New Year  special_sale_Daussera  \\\n",
       "2   ...                                  0                      1   \n",
       "4   ...                                  0                      0   \n",
       "8   ...                                  0                      0   \n",
       "11  ...                                  0                      1   \n",
       "12  ...                                  0                      0   \n",
       "\n",
       "    special_sale_Diwali  special_sale_Eid & Rathayatra  special_sale_FHSD  \\\n",
       "2                     0                              0                  0   \n",
       "4                     0                              0                  0   \n",
       "8                     0                              0                  0   \n",
       "11                    0                              0                  0   \n",
       "12                    0                              0                  0   \n",
       "\n",
       "    special_sale_Pacman  special_sale_Regular Day  special_sale_Republic Day  \\\n",
       "2                     0                         0                          0   \n",
       "4                     0                         1                          0   \n",
       "8                     0                         1                          0   \n",
       "11                    0                         0                          0   \n",
       "12                    0                         1                          0   \n",
       "\n",
       "    special_sale_Valentine Day  ItemType_MassMarket  \n",
       "2                            0                    0  \n",
       "4                            0                    0  \n",
       "8                            0                    0  \n",
       "11                           0                    0  \n",
       "12                           0                    0  \n",
       "\n",
       "[5 rows x 22 columns]"
      ]
     },
     "execution_count": 24,
     "metadata": {},
     "output_type": "execute_result"
    }
   ],
   "source": [
    "# Convert into dummies\n",
    "ecart_HA_dummies = pd.get_dummies(ecart_HA_categorical, drop_first=True)\n",
    "ecart_HA_dummies.head()"
   ]
  },
  {
   "cell_type": "code",
   "execution_count": 25,
   "metadata": {},
   "outputs": [],
   "source": [
    "# Drop categorical variable columns\n",
    "home_audio = home_audio.drop(list(ecart_HA_categorical.columns), axis=1)"
   ]
  },
  {
   "cell_type": "code",
   "execution_count": 26,
   "metadata": {},
   "outputs": [
    {
     "data": {
      "text/html": [
       "<div>\n",
       "<style scoped>\n",
       "    .dataframe tbody tr th:only-of-type {\n",
       "        vertical-align: middle;\n",
       "    }\n",
       "\n",
       "    .dataframe tbody tr th {\n",
       "        vertical-align: top;\n",
       "    }\n",
       "\n",
       "    .dataframe thead th {\n",
       "        text-align: right;\n",
       "    }\n",
       "</style>\n",
       "<table border=\"1\" class=\"dataframe\">\n",
       "  <thead>\n",
       "    <tr style=\"text-align: right;\">\n",
       "      <th></th>\n",
       "      <th>gmv</th>\n",
       "      <th>units</th>\n",
       "      <th>deliverybdays</th>\n",
       "      <th>deliverycdays</th>\n",
       "      <th>sla</th>\n",
       "      <th>product_mrp</th>\n",
       "      <th>product_procurement_sla</th>\n",
       "      <th>Pay_Day</th>\n",
       "      <th>is_holiday</th>\n",
       "      <th>Discount_Percentage</th>\n",
       "      <th>...</th>\n",
       "      <th>holiday_count</th>\n",
       "      <th>TV_adstock</th>\n",
       "      <th>Digital_adstock</th>\n",
       "      <th>Sponsorship_adstock</th>\n",
       "      <th>Content Marketing_adstock</th>\n",
       "      <th>Online marketing_adstock</th>\n",
       "      <th>Affiliates_adstock</th>\n",
       "      <th>SEM_adstock</th>\n",
       "      <th>Radio_adstock</th>\n",
       "      <th>Other_adstock</th>\n",
       "    </tr>\n",
       "  </thead>\n",
       "  <tbody>\n",
       "    <tr>\n",
       "      <th>2</th>\n",
       "      <td>6,255.00</td>\n",
       "      <td>1</td>\n",
       "      <td>0.00</td>\n",
       "      <td>0.00</td>\n",
       "      <td>2.30</td>\n",
       "      <td>8.92</td>\n",
       "      <td>1.79</td>\n",
       "      <td>0.00</td>\n",
       "      <td>0.69</td>\n",
       "      <td>2.87</td>\n",
       "      <td>...</td>\n",
       "      <td>1.61</td>\n",
       "      <td>17.01</td>\n",
       "      <td>17.73</td>\n",
       "      <td>19.63</td>\n",
       "      <td>16.43</td>\n",
       "      <td>18.38</td>\n",
       "      <td>17.13</td>\n",
       "      <td>18.65</td>\n",
       "      <td>0.00</td>\n",
       "      <td>0.00</td>\n",
       "    </tr>\n",
       "    <tr>\n",
       "      <th>4</th>\n",
       "      <td>6,850.00</td>\n",
       "      <td>1</td>\n",
       "      <td>0.00</td>\n",
       "      <td>0.00</td>\n",
       "      <td>2.30</td>\n",
       "      <td>8.92</td>\n",
       "      <td>1.79</td>\n",
       "      <td>0.00</td>\n",
       "      <td>0.00</td>\n",
       "      <td>2.27</td>\n",
       "      <td>...</td>\n",
       "      <td>0.00</td>\n",
       "      <td>17.11</td>\n",
       "      <td>17.83</td>\n",
       "      <td>19.73</td>\n",
       "      <td>16.53</td>\n",
       "      <td>18.48</td>\n",
       "      <td>17.23</td>\n",
       "      <td>18.75</td>\n",
       "      <td>0.00</td>\n",
       "      <td>0.00</td>\n",
       "    </tr>\n",
       "    <tr>\n",
       "      <th>8</th>\n",
       "      <td>6,850.00</td>\n",
       "      <td>1</td>\n",
       "      <td>0.00</td>\n",
       "      <td>0.00</td>\n",
       "      <td>1.95</td>\n",
       "      <td>8.92</td>\n",
       "      <td>1.79</td>\n",
       "      <td>0.00</td>\n",
       "      <td>0.00</td>\n",
       "      <td>2.27</td>\n",
       "      <td>...</td>\n",
       "      <td>0.00</td>\n",
       "      <td>17.14</td>\n",
       "      <td>17.86</td>\n",
       "      <td>19.76</td>\n",
       "      <td>16.56</td>\n",
       "      <td>18.51</td>\n",
       "      <td>17.26</td>\n",
       "      <td>18.78</td>\n",
       "      <td>0.00</td>\n",
       "      <td>0.00</td>\n",
       "    </tr>\n",
       "    <tr>\n",
       "      <th>11</th>\n",
       "      <td>6,700.00</td>\n",
       "      <td>1</td>\n",
       "      <td>0.00</td>\n",
       "      <td>0.00</td>\n",
       "      <td>1.95</td>\n",
       "      <td>8.92</td>\n",
       "      <td>1.79</td>\n",
       "      <td>0.00</td>\n",
       "      <td>0.69</td>\n",
       "      <td>2.46</td>\n",
       "      <td>...</td>\n",
       "      <td>1.61</td>\n",
       "      <td>17.14</td>\n",
       "      <td>17.86</td>\n",
       "      <td>19.76</td>\n",
       "      <td>16.56</td>\n",
       "      <td>18.52</td>\n",
       "      <td>17.27</td>\n",
       "      <td>18.79</td>\n",
       "      <td>0.00</td>\n",
       "      <td>0.00</td>\n",
       "    </tr>\n",
       "    <tr>\n",
       "      <th>12</th>\n",
       "      <td>6,900.00</td>\n",
       "      <td>1</td>\n",
       "      <td>0.00</td>\n",
       "      <td>0.00</td>\n",
       "      <td>1.95</td>\n",
       "      <td>8.92</td>\n",
       "      <td>1.79</td>\n",
       "      <td>0.00</td>\n",
       "      <td>0.00</td>\n",
       "      <td>2.20</td>\n",
       "      <td>...</td>\n",
       "      <td>0.00</td>\n",
       "      <td>17.14</td>\n",
       "      <td>17.86</td>\n",
       "      <td>19.76</td>\n",
       "      <td>16.56</td>\n",
       "      <td>18.52</td>\n",
       "      <td>17.27</td>\n",
       "      <td>18.79</td>\n",
       "      <td>0.00</td>\n",
       "      <td>0.00</td>\n",
       "    </tr>\n",
       "  </tbody>\n",
       "</table>\n",
       "<p>5 rows × 34 columns</p>\n",
       "</div>"
      ],
      "text/plain": [
       "        gmv  units  deliverybdays  deliverycdays  sla  product_mrp  \\\n",
       "2  6,255.00      1           0.00           0.00 2.30         8.92   \n",
       "4  6,850.00      1           0.00           0.00 2.30         8.92   \n",
       "8  6,850.00      1           0.00           0.00 1.95         8.92   \n",
       "11 6,700.00      1           0.00           0.00 1.95         8.92   \n",
       "12 6,900.00      1           0.00           0.00 1.95         8.92   \n",
       "\n",
       "    product_procurement_sla  Pay_Day  is_holiday  Discount_Percentage  ...  \\\n",
       "2                      1.79     0.00        0.69                 2.87  ...   \n",
       "4                      1.79     0.00        0.00                 2.27  ...   \n",
       "8                      1.79     0.00        0.00                 2.27  ...   \n",
       "11                     1.79     0.00        0.69                 2.46  ...   \n",
       "12                     1.79     0.00        0.00                 2.20  ...   \n",
       "\n",
       "    holiday_count  TV_adstock  Digital_adstock  Sponsorship_adstock  \\\n",
       "2            1.61       17.01            17.73                19.63   \n",
       "4            0.00       17.11            17.83                19.73   \n",
       "8            0.00       17.14            17.86                19.76   \n",
       "11           1.61       17.14            17.86                19.76   \n",
       "12           0.00       17.14            17.86                19.76   \n",
       "\n",
       "    Content Marketing_adstock  Online marketing_adstock  Affiliates_adstock  \\\n",
       "2                       16.43                     18.38               17.13   \n",
       "4                       16.53                     18.48               17.23   \n",
       "8                       16.56                     18.51               17.26   \n",
       "11                      16.56                     18.52               17.27   \n",
       "12                      16.56                     18.52               17.27   \n",
       "\n",
       "    SEM_adstock  Radio_adstock  Other_adstock  \n",
       "2         18.65           0.00           0.00  \n",
       "4         18.75           0.00           0.00  \n",
       "8         18.78           0.00           0.00  \n",
       "11        18.79           0.00           0.00  \n",
       "12        18.79           0.00           0.00  \n",
       "\n",
       "[5 rows x 34 columns]"
      ]
     },
     "execution_count": 26,
     "metadata": {},
     "output_type": "execute_result"
    }
   ],
   "source": [
    "#checking datframe now\n",
    "home_audio.head()"
   ]
  },
  {
   "cell_type": "code",
   "execution_count": 27,
   "metadata": {},
   "outputs": [
    {
     "data": {
      "text/html": [
       "<div>\n",
       "<style scoped>\n",
       "    .dataframe tbody tr th:only-of-type {\n",
       "        vertical-align: middle;\n",
       "    }\n",
       "\n",
       "    .dataframe tbody tr th {\n",
       "        vertical-align: top;\n",
       "    }\n",
       "\n",
       "    .dataframe thead th {\n",
       "        text-align: right;\n",
       "    }\n",
       "</style>\n",
       "<table border=\"1\" class=\"dataframe\">\n",
       "  <thead>\n",
       "    <tr style=\"text-align: right;\">\n",
       "      <th></th>\n",
       "      <th>gmv</th>\n",
       "      <th>units</th>\n",
       "      <th>deliverybdays</th>\n",
       "      <th>deliverycdays</th>\n",
       "      <th>sla</th>\n",
       "      <th>product_mrp</th>\n",
       "      <th>product_procurement_sla</th>\n",
       "      <th>Pay_Day</th>\n",
       "      <th>is_holiday</th>\n",
       "      <th>Discount_Percentage</th>\n",
       "      <th>...</th>\n",
       "      <th>special_sale_Christmas &amp; New Year</th>\n",
       "      <th>special_sale_Daussera</th>\n",
       "      <th>special_sale_Diwali</th>\n",
       "      <th>special_sale_Eid &amp; Rathayatra</th>\n",
       "      <th>special_sale_FHSD</th>\n",
       "      <th>special_sale_Pacman</th>\n",
       "      <th>special_sale_Regular Day</th>\n",
       "      <th>special_sale_Republic Day</th>\n",
       "      <th>special_sale_Valentine Day</th>\n",
       "      <th>ItemType_MassMarket</th>\n",
       "    </tr>\n",
       "  </thead>\n",
       "  <tbody>\n",
       "    <tr>\n",
       "      <th>2</th>\n",
       "      <td>6,255.00</td>\n",
       "      <td>1</td>\n",
       "      <td>0.00</td>\n",
       "      <td>0.00</td>\n",
       "      <td>2.30</td>\n",
       "      <td>8.92</td>\n",
       "      <td>1.79</td>\n",
       "      <td>0.00</td>\n",
       "      <td>0.69</td>\n",
       "      <td>2.87</td>\n",
       "      <td>...</td>\n",
       "      <td>0</td>\n",
       "      <td>1</td>\n",
       "      <td>0</td>\n",
       "      <td>0</td>\n",
       "      <td>0</td>\n",
       "      <td>0</td>\n",
       "      <td>0</td>\n",
       "      <td>0</td>\n",
       "      <td>0</td>\n",
       "      <td>0</td>\n",
       "    </tr>\n",
       "    <tr>\n",
       "      <th>4</th>\n",
       "      <td>6,850.00</td>\n",
       "      <td>1</td>\n",
       "      <td>0.00</td>\n",
       "      <td>0.00</td>\n",
       "      <td>2.30</td>\n",
       "      <td>8.92</td>\n",
       "      <td>1.79</td>\n",
       "      <td>0.00</td>\n",
       "      <td>0.00</td>\n",
       "      <td>2.27</td>\n",
       "      <td>...</td>\n",
       "      <td>0</td>\n",
       "      <td>0</td>\n",
       "      <td>0</td>\n",
       "      <td>0</td>\n",
       "      <td>0</td>\n",
       "      <td>0</td>\n",
       "      <td>1</td>\n",
       "      <td>0</td>\n",
       "      <td>0</td>\n",
       "      <td>0</td>\n",
       "    </tr>\n",
       "    <tr>\n",
       "      <th>8</th>\n",
       "      <td>6,850.00</td>\n",
       "      <td>1</td>\n",
       "      <td>0.00</td>\n",
       "      <td>0.00</td>\n",
       "      <td>1.95</td>\n",
       "      <td>8.92</td>\n",
       "      <td>1.79</td>\n",
       "      <td>0.00</td>\n",
       "      <td>0.00</td>\n",
       "      <td>2.27</td>\n",
       "      <td>...</td>\n",
       "      <td>0</td>\n",
       "      <td>0</td>\n",
       "      <td>0</td>\n",
       "      <td>0</td>\n",
       "      <td>0</td>\n",
       "      <td>0</td>\n",
       "      <td>1</td>\n",
       "      <td>0</td>\n",
       "      <td>0</td>\n",
       "      <td>0</td>\n",
       "    </tr>\n",
       "    <tr>\n",
       "      <th>11</th>\n",
       "      <td>6,700.00</td>\n",
       "      <td>1</td>\n",
       "      <td>0.00</td>\n",
       "      <td>0.00</td>\n",
       "      <td>1.95</td>\n",
       "      <td>8.92</td>\n",
       "      <td>1.79</td>\n",
       "      <td>0.00</td>\n",
       "      <td>0.69</td>\n",
       "      <td>2.46</td>\n",
       "      <td>...</td>\n",
       "      <td>0</td>\n",
       "      <td>1</td>\n",
       "      <td>0</td>\n",
       "      <td>0</td>\n",
       "      <td>0</td>\n",
       "      <td>0</td>\n",
       "      <td>0</td>\n",
       "      <td>0</td>\n",
       "      <td>0</td>\n",
       "      <td>0</td>\n",
       "    </tr>\n",
       "    <tr>\n",
       "      <th>12</th>\n",
       "      <td>6,900.00</td>\n",
       "      <td>1</td>\n",
       "      <td>0.00</td>\n",
       "      <td>0.00</td>\n",
       "      <td>1.95</td>\n",
       "      <td>8.92</td>\n",
       "      <td>1.79</td>\n",
       "      <td>0.00</td>\n",
       "      <td>0.00</td>\n",
       "      <td>2.20</td>\n",
       "      <td>...</td>\n",
       "      <td>0</td>\n",
       "      <td>0</td>\n",
       "      <td>0</td>\n",
       "      <td>0</td>\n",
       "      <td>0</td>\n",
       "      <td>0</td>\n",
       "      <td>1</td>\n",
       "      <td>0</td>\n",
       "      <td>0</td>\n",
       "      <td>0</td>\n",
       "    </tr>\n",
       "  </tbody>\n",
       "</table>\n",
       "<p>5 rows × 56 columns</p>\n",
       "</div>"
      ],
      "text/plain": [
       "        gmv  units  deliverybdays  deliverycdays  sla  product_mrp  \\\n",
       "2  6,255.00      1           0.00           0.00 2.30         8.92   \n",
       "4  6,850.00      1           0.00           0.00 2.30         8.92   \n",
       "8  6,850.00      1           0.00           0.00 1.95         8.92   \n",
       "11 6,700.00      1           0.00           0.00 1.95         8.92   \n",
       "12 6,900.00      1           0.00           0.00 1.95         8.92   \n",
       "\n",
       "    product_procurement_sla  Pay_Day  is_holiday  Discount_Percentage  ...  \\\n",
       "2                      1.79     0.00        0.69                 2.87  ...   \n",
       "4                      1.79     0.00        0.00                 2.27  ...   \n",
       "8                      1.79     0.00        0.00                 2.27  ...   \n",
       "11                     1.79     0.00        0.69                 2.46  ...   \n",
       "12                     1.79     0.00        0.00                 2.20  ...   \n",
       "\n",
       "    special_sale_Christmas & New Year  special_sale_Daussera  \\\n",
       "2                                   0                      1   \n",
       "4                                   0                      0   \n",
       "8                                   0                      0   \n",
       "11                                  0                      1   \n",
       "12                                  0                      0   \n",
       "\n",
       "    special_sale_Diwali  special_sale_Eid & Rathayatra  special_sale_FHSD  \\\n",
       "2                     0                              0                  0   \n",
       "4                     0                              0                  0   \n",
       "8                     0                              0                  0   \n",
       "11                    0                              0                  0   \n",
       "12                    0                              0                  0   \n",
       "\n",
       "    special_sale_Pacman  special_sale_Regular Day  special_sale_Republic Day  \\\n",
       "2                     0                         0                          0   \n",
       "4                     0                         1                          0   \n",
       "8                     0                         1                          0   \n",
       "11                    0                         0                          0   \n",
       "12                    0                         1                          0   \n",
       "\n",
       "    special_sale_Valentine Day  ItemType_MassMarket  \n",
       "2                            0                    0  \n",
       "4                            0                    0  \n",
       "8                            0                    0  \n",
       "11                           0                    0  \n",
       "12                           0                    0  \n",
       "\n",
       "[5 rows x 56 columns]"
      ]
     },
     "execution_count": 27,
     "metadata": {},
     "output_type": "execute_result"
    }
   ],
   "source": [
    "# Concatenate dummy variables with X\n",
    "ecart_HA = pd.concat([home_audio, ecart_HA_dummies], axis=1)\n",
    "ecart_HA.head()"
   ]
  },
  {
   "cell_type": "code",
   "execution_count": 28,
   "metadata": {},
   "outputs": [
    {
     "name": "stdout",
     "output_type": "stream",
     "text": [
      "<class 'pandas.core.frame.DataFrame'>\n",
      "Int64Index: 62116 entries, 2 to 97386\n",
      "Data columns (total 56 columns):\n",
      " #   Column                                      Non-Null Count  Dtype  \n",
      "---  ------                                      --------------  -----  \n",
      " 0   gmv                                         62116 non-null  float64\n",
      " 1   units                                       62116 non-null  int64  \n",
      " 2   deliverybdays                               62116 non-null  float64\n",
      " 3   deliverycdays                               62116 non-null  float64\n",
      " 4   sla                                         62116 non-null  float64\n",
      " 5   product_mrp                                 62116 non-null  float64\n",
      " 6   product_procurement_sla                     62116 non-null  float64\n",
      " 7   Pay_Day                                     62116 non-null  float64\n",
      " 8   is_holiday                                  62116 non-null  float64\n",
      " 9   Discount_Percentage                         62116 non-null  float64\n",
      " 10  gmvperunit                                  62116 non-null  float64\n",
      " 11  delivery_on_time                            62116 non-null  float64\n",
      " 12  Total Investment                            62116 non-null  float64\n",
      " 13  TV                                          62116 non-null  float64\n",
      " 14  Digital                                     62116 non-null  float64\n",
      " 15  Sponsorship                                 62116 non-null  float64\n",
      " 16  Content Marketing                           62116 non-null  float64\n",
      " 17  Online marketing                            62116 non-null  float64\n",
      " 18  SEM                                         62116 non-null  float64\n",
      " 19  Radio                                       62116 non-null  float64\n",
      " 20  Other                                       62116 non-null  float64\n",
      " 21  Affiliates                                  62116 non-null  float64\n",
      " 22  NPS                                         62116 non-null  float64\n",
      " 23  NPSScore                                    62116 non-null  float64\n",
      " 24  holiday_count                               62116 non-null  float64\n",
      " 25  TV_adstock                                  62116 non-null  float64\n",
      " 26  Digital_adstock                             62116 non-null  float64\n",
      " 27  Sponsorship_adstock                         62116 non-null  float64\n",
      " 28  Content Marketing_adstock                   62116 non-null  float64\n",
      " 29  Online marketing_adstock                    62116 non-null  float64\n",
      " 30  Affiliates_adstock                          62116 non-null  float64\n",
      " 31  SEM_adstock                                 62116 non-null  float64\n",
      " 32  Radio_adstock                               62116 non-null  float64\n",
      " 33  Other_adstock                               62116 non-null  float64\n",
      " 34  s1_fact_order_payment_type_Prepaid          62116 non-null  uint8  \n",
      " 35  product_analytic_vertical_DJController      62116 non-null  uint8  \n",
      " 36  product_analytic_vertical_Dock              62116 non-null  uint8  \n",
      " 37  product_analytic_vertical_DockingStation    62116 non-null  uint8  \n",
      " 38  product_analytic_vertical_FMRadio           62116 non-null  uint8  \n",
      " 39  product_analytic_vertical_HiFiSystem        62116 non-null  uint8  \n",
      " 40  product_analytic_vertical_HomeAudioSpeaker  62116 non-null  uint8  \n",
      " 41  product_analytic_vertical_KaraokePlayer     62116 non-null  uint8  \n",
      " 42  product_analytic_vertical_SlingBox          62116 non-null  uint8  \n",
      " 43  product_analytic_vertical_SoundMixer        62116 non-null  uint8  \n",
      " 44  product_analytic_vertical_VoiceRecorder     62116 non-null  uint8  \n",
      " 45  special_sale_BSD                            62116 non-null  uint8  \n",
      " 46  special_sale_Christmas & New Year           62116 non-null  uint8  \n",
      " 47  special_sale_Daussera                       62116 non-null  uint8  \n",
      " 48  special_sale_Diwali                         62116 non-null  uint8  \n",
      " 49  special_sale_Eid & Rathayatra               62116 non-null  uint8  \n",
      " 50  special_sale_FHSD                           62116 non-null  uint8  \n",
      " 51  special_sale_Pacman                         62116 non-null  uint8  \n",
      " 52  special_sale_Regular Day                    62116 non-null  uint8  \n",
      " 53  special_sale_Republic Day                   62116 non-null  uint8  \n",
      " 54  special_sale_Valentine Day                  62116 non-null  uint8  \n",
      " 55  ItemType_MassMarket                         62116 non-null  uint8  \n",
      "dtypes: float64(33), int64(1), uint8(22)\n",
      "memory usage: 17.9 MB\n"
     ]
    }
   ],
   "source": [
    "#checking detail info\n",
    "ecart_HA.info()"
   ]
  },
  {
   "cell_type": "code",
   "execution_count": 29,
   "metadata": {},
   "outputs": [
    {
     "data": {
      "text/plain": [
       "(62116, 56)"
      ]
     },
     "execution_count": 29,
     "metadata": {},
     "output_type": "execute_result"
    }
   ],
   "source": [
    "#check size\n",
    "ecart_HA.shape"
   ]
  },
  {
   "cell_type": "code",
   "execution_count": 30,
   "metadata": {},
   "outputs": [
    {
     "data": {
      "image/png": "[encoded data removed]",
      "text/plain": [
       "<Figure size 648x648 with 1 Axes>"
      ]
     },
     "metadata": {
      "needs_background": "light"
     },
     "output_type": "display_data"
    },
    {
     "data": {
      "image/png": "[encoded data removed]",
      "text/plain": [
       "<Figure size 648x648 with 1 Axes>"
      ]
     },
     "metadata": {
      "needs_background": "light"
     },
     "output_type": "display_data"
    },
    {
     "data": {
      "image/png": "[encoded data removed]",
      "text/plain": [
       "<Figure size 648x648 with 1 Axes>"
      ]
     },
     "metadata": {
      "needs_background": "light"
     },
     "output_type": "display_data"
    },
    {
     "data": {
      "image/png": "[encoded data removed]",
      "text/plain": [
       "<Figure size 648x648 with 1 Axes>"
      ]
     },
     "metadata": {
      "needs_background": "light"
     },
     "output_type": "display_data"
    },
    {
     "data": {
      "image/png": "[encoded data removed]",
      "text/plain": [
       "<Figure size 648x648 with 1 Axes>"
      ]
     },
     "metadata": {
      "needs_background": "light"
     },
     "output_type": "display_data"
    },
    {
     "data": {
      "image/png": "[encoded data removed]",
      "text/plain": [
       "<Figure size 648x648 with 1 Axes>"
      ]
     },
     "metadata": {
      "needs_background": "light"
     },
     "output_type": "display_data"
    },
    {
     "data": {
      "image/png": "[encoded data removed]",
      "text/plain": [
       "<Figure size 648x648 with 1 Axes>"
      ]
     },
     "metadata": {
      "needs_background": "light"
     },
     "output_type": "display_data"
    },
    {
     "data": {
      "image/png": "[encoded data removed]",
      "text/plain": [
       "<Figure size 648x648 with 1 Axes>"
      ]
     },
     "metadata": {
      "needs_background": "light"
     },
     "output_type": "display_data"
    },
    {
     "data": {
      "image/png": "[encoded data removed]",
      "text/plain": [
       "<Figure size 648x648 with 1 Axes>"
      ]
     },
     "metadata": {
      "needs_background": "light"
     },
     "output_type": "display_data"
    },
    {
     "data": {
      "image/png": "[encoded data removed]",
      "text/plain": [
       "<Figure size 648x648 with 1 Axes>"
      ]
     },
     "metadata": {
      "needs_background": "light"
     },
     "output_type": "display_data"
    },
    {
     "data": {
      "image/png": "[encoded data removed]",
      "text/plain": [
       "<Figure size 648x648 with 1 Axes>"
      ]
     },
     "metadata": {
      "needs_background": "light"
     },
     "output_type": "display_data"
    },
    {
     "data": {
      "image/png": "[encoded data removed]",
      "text/plain": [
       "<Figure size 648x648 with 1 Axes>"
      ]
     },
     "metadata": {
      "needs_background": "light"
     },
     "output_type": "display_data"
    },
    {
     "data": {
      "image/png": "[encoded data removed]",
      "text/plain": [
       "<Figure size 648x648 with 1 Axes>"
      ]
     },
     "metadata": {
      "needs_background": "light"
     },
     "output_type": "display_data"
    },
    {
     "data": {
      "image/png": "[encoded data removed]",
      "text/plain": [
       "<Figure size 648x648 with 1 Axes>"
      ]
     },
     "metadata": {
      "needs_background": "light"
     },
     "output_type": "display_data"
    },
    {
     "data": {
      "image/png": "[encoded data removed]",
      "text/plain": [
       "<Figure size 648x648 with 1 Axes>"
      ]
     },
     "metadata": {
      "needs_background": "light"
     },
     "output_type": "display_data"
    },
    {
     "data": {
      "image/png": "[encoded data removed]",
      "text/plain": [
       "<Figure size 648x648 with 1 Axes>"
      ]
     },
     "metadata": {
      "needs_background": "light"
     },
     "output_type": "display_data"
    },
    {
     "data": {
      "image/png": "[encoded data removed]",
      "text/plain": [
       "<Figure size 648x648 with 1 Axes>"
      ]
     },
     "metadata": {
      "needs_background": "light"
     },
     "output_type": "display_data"
    },
    {
     "data": {
      "image/png": "[encoded data removed]",
      "text/plain": [
       "<Figure size 648x648 with 1 Axes>"
      ]
     },
     "metadata": {
      "needs_background": "light"
     },
     "output_type": "display_data"
    },
    {
     "data": {
      "image/png": "[encoded data removed]",
      "text/plain": [
       "<Figure size 648x648 with 1 Axes>"
      ]
     },
     "metadata": {
      "needs_background": "light"
     },
     "output_type": "display_data"
    },
    {
     "data": {
      "image/png": "[encoded data removed]",
      "text/plain": [
       "<Figure size 648x648 with 1 Axes>"
      ]
     },
     "metadata": {
      "needs_background": "light"
     },
     "output_type": "display_data"
    },
    {
     "data": {
      "image/png": "[encoded data removed]",
      "text/plain": [
       "<Figure size 648x648 with 1 Axes>"
      ]
     },
     "metadata": {
      "needs_background": "light"
     },
     "output_type": "display_data"
    },
    {
     "data": {
      "image/png": "[encoded data removed]",
      "text/plain": [
       "<Figure size 648x648 with 1 Axes>"
      ]
     },
     "metadata": {
      "needs_background": "light"
     },
     "output_type": "display_data"
    },
    {
     "data": {
      "image/png": "[encoded data removed]",
      "text/plain": [
       "<Figure size 648x648 with 1 Axes>"
      ]
     },
     "metadata": {
      "needs_background": "light"
     },
     "output_type": "display_data"
    },
    {
     "data": {
      "image/png": "[encoded data removed]",
      "text/plain": [
       "<Figure size 648x648 with 1 Axes>"
      ]
     },
     "metadata": {
      "needs_background": "light"
     },
     "output_type": "display_data"
    },
    {
     "data": {
      "image/png": "[encoded data removed]",
      "text/plain": [
       "<Figure size 648x648 with 1 Axes>"
      ]
     },
     "metadata": {
      "needs_background": "light"
     },
     "output_type": "display_data"
    },
    {
     "data": {
      "image/png": "[encoded data removed]",
      "text/plain": [
       "<Figure size 648x648 with 1 Axes>"
      ]
     },
     "metadata": {
      "needs_background": "light"
     },
     "output_type": "display_data"
    },
    {
     "data": {
      "image/png": "[encoded data removed]",
      "text/plain": [
       "<Figure size 648x648 with 1 Axes>"
      ]
     },
     "metadata": {
      "needs_background": "light"
     },
     "output_type": "display_data"
    },
    {
     "data": {
      "image/png": "[encoded data removed]",
      "text/plain": [
       "<Figure size 648x648 with 1 Axes>"
      ]
     },
     "metadata": {
      "needs_background": "light"
     },
     "output_type": "display_data"
    },
    {
     "data": {
      "image/png": "[encoded data removed]",
      "text/plain": [
       "<Figure size 648x648 with 1 Axes>"
      ]
     },
     "metadata": {
      "needs_background": "light"
     },
     "output_type": "display_data"
    },
    {
     "data": {
      "image/png": "[encoded data removed]",
      "text/plain": [
       "<Figure size 648x648 with 1 Axes>"
      ]
     },
     "metadata": {
      "needs_background": "light"
     },
     "output_type": "display_data"
    },
    {
     "data": {
      "image/png": "[encoded data removed]",
      "text/plain": [
       "<Figure size 648x648 with 1 Axes>"
      ]
     },
     "metadata": {
      "needs_background": "light"
     },
     "output_type": "display_data"
    },
    {
     "data": {
      "image/png": "[encoded data removed]",
      "text/plain": [
       "<Figure size 648x648 with 1 Axes>"
      ]
     },
     "metadata": {
      "needs_background": "light"
     },
     "output_type": "display_data"
    },
    {
     "data": {
      "image/png": "[encoded data removed]",
      "text/plain": [
       "<Figure size 648x648 with 1 Axes>"
      ]
     },
     "metadata": {
      "needs_background": "light"
     },
     "output_type": "display_data"
    },
    {
     "data": {
      "image/png": "[encoded data removed]",
      "text/plain": [
       "<Figure size 648x648 with 1 Axes>"
      ]
     },
     "metadata": {
      "needs_background": "light"
     },
     "output_type": "display_data"
    },
    {
     "data": {
      "image/png": "[encoded data removed]",
      "text/plain": [
       "<Figure size 648x648 with 1 Axes>"
      ]
     },
     "metadata": {
      "needs_background": "light"
     },
     "output_type": "display_data"
    },
    {
     "data": {
      "image/png": "[encoded data removed]",
      "text/plain": [
       "<Figure size 648x648 with 1 Axes>"
      ]
     },
     "metadata": {
      "needs_background": "light"
     },
     "output_type": "display_data"
    },
    {
     "data": {
      "image/png": "[encoded data removed]",
      "text/plain": [
       "<Figure size 648x648 with 1 Axes>"
      ]
     },
     "metadata": {
      "needs_background": "light"
     },
     "output_type": "display_data"
    },
    {
     "data": {
      "image/png": "[encoded data removed]",
      "text/plain": [
       "<Figure size 648x648 with 1 Axes>"
      ]
     },
     "metadata": {
      "needs_background": "light"
     },
     "output_type": "display_data"
    },
    {
     "data": {
      "image/png": "[encoded data removed]",
      "text/plain": [
       "<Figure size 648x648 with 1 Axes>"
      ]
     },
     "metadata": {
      "needs_background": "light"
     },
     "output_type": "display_data"
    },
    {
     "data": {
      "image/png": "[encoded data removed]",
      "text/plain": [
       "<Figure size 648x648 with 1 Axes>"
      ]
     },
     "metadata": {
      "needs_background": "light"
     },
     "output_type": "display_data"
    },
    {
     "data": {
      "image/png": "[encoded data removed]",
      "text/plain": [
       "<Figure size 648x648 with 1 Axes>"
      ]
     },
     "metadata": {
      "needs_background": "light"
     },
     "output_type": "display_data"
    },
    {
     "data": {
      "image/png": "[encoded data removed]",
      "text/plain": [
       "<Figure size 648x648 with 1 Axes>"
      ]
     },
     "metadata": {
      "needs_background": "light"
     },
     "output_type": "display_data"
    },
    {
     "data": {
      "image/png": "[encoded data removed]",
      "text/plain": [
       "<Figure size 648x648 with 1 Axes>"
      ]
     },
     "metadata": {
      "needs_background": "light"
     },
     "output_type": "display_data"
    },
    {
     "data": {
      "image/png": "[encoded data removed]",
      "text/plain": [
       "<Figure size 648x648 with 1 Axes>"
      ]
     },
     "metadata": {
      "needs_background": "light"
     },
     "output_type": "display_data"
    },
    {
     "data": {
      "image/png": "[encoded data removed]",
      "text/plain": [
       "<Figure size 648x648 with 1 Axes>"
      ]
     },
     "metadata": {
      "needs_background": "light"
     },
     "output_type": "display_data"
    },
    {
     "data": {
      "image/png": "[encoded data removed]",
      "text/plain": [
       "<Figure size 648x648 with 1 Axes>"
      ]
     },
     "metadata": {
      "needs_background": "light"
     },
     "output_type": "display_data"
    },
    {
     "data": {
      "image/png": "[encoded data removed]",
      "text/plain": [
       "<Figure size 648x648 with 1 Axes>"
      ]
     },
     "metadata": {
      "needs_background": "light"
     },
     "output_type": "display_data"
    },
    {
     "data": {
      "image/png": "[encoded data removed]",
      "text/plain": [
       "<Figure size 648x648 with 1 Axes>"
      ]
     },
     "metadata": {
      "needs_background": "light"
     },
     "output_type": "display_data"
    },
    {
     "data": {
      "image/png": "[encoded data removed]",
      "text/plain": [
       "<Figure size 648x648 with 1 Axes>"
      ]
     },
     "metadata": {
      "needs_background": "light"
     },
     "output_type": "display_data"
    },
    {
     "data": {
      "image/png": "[encoded data removed]",
      "text/plain": [
       "<Figure size 648x648 with 1 Axes>"
      ]
     },
     "metadata": {
      "needs_background": "light"
     },
     "output_type": "display_data"
    },
    {
     "data": {
      "image/png": "[encoded data removed]",
      "text/plain": [
       "<Figure size 648x648 with 1 Axes>"
      ]
     },
     "metadata": {
      "needs_background": "light"
     },
     "output_type": "display_data"
    },
    {
     "data": {
      "image/png": "[encoded data removed]",
      "text/plain": [
       "<Figure size 648x648 with 1 Axes>"
      ]
     },
     "metadata": {
      "needs_background": "light"
     },
     "output_type": "display_data"
    },
    {
     "data": {
      "image/png": "[encoded data removed]",
      "text/plain": [
       "<Figure size 648x648 with 1 Axes>"
      ]
     },
     "metadata": {
      "needs_background": "light"
     },
     "output_type": "display_data"
    },
    {
     "data": {
      "image/png": "[encoded data removed]",
      "text/plain": [
       "<Figure size 648x648 with 1 Axes>"
      ]
     },
     "metadata": {
      "needs_background": "light"
     },
     "output_type": "display_data"
    },
    {
     "data": {
      "image/png": "[encoded data removed]",
      "text/plain": [
       "<Figure size 648x648 with 1 Axes>"
      ]
     },
     "metadata": {
      "needs_background": "light"
     },
     "output_type": "display_data"
    },
    {
     "data": {
      "image/png": "[encoded data removed]",
      "text/plain": [
       "<Figure size 648x648 with 1 Axes>"
      ]
     },
     "metadata": {
      "needs_background": "light"
     },
     "output_type": "display_data"
    }
   ],
   "source": [
    "#Checking outliers in dataframe\n",
    "for col in list(ecart_HA.columns):\n",
    "    plt.figure(figsize=(9,9))\n",
    "    sns.boxplot(data=ecart_HA, y=col).set_title(col)"
   ]
  },
  {
   "cell_type": "code",
   "execution_count": 31,
   "metadata": {},
   "outputs": [],
   "source": [
    "#function for outlier treatment\n",
    "def remove_outlier(df_in, col_name):\n",
    "    q1 = df_in[col_name].quantile(0.25)\n",
    "    q3 = df_in[col_name].quantile(0.75)\n",
    "    iqr = q3-q1 #Interquartile range\n",
    "    fence_low  = q1-1.5*iqr\n",
    "    fence_high = q3+1.5*iqr\n",
    "    df_out = df_in.loc[(df_in[col_name] > fence_low) & (df_in[col_name] < fence_high)]\n",
    "    return df_out"
   ]
  },
  {
   "cell_type": "code",
   "execution_count": 32,
   "metadata": {},
   "outputs": [
    {
     "data": {
      "text/plain": [
       "(59374, 56)"
      ]
     },
     "execution_count": 32,
     "metadata": {},
     "output_type": "execute_result"
    }
   ],
   "source": [
    "#removing outliers\n",
    "ecart_HA = remove_outlier(ecart_HA, 'gmv')\n",
    "ecart_HA.shape"
   ]
  },
  {
   "cell_type": "code",
   "execution_count": 33,
   "metadata": {},
   "outputs": [
    {
     "data": {
      "text/plain": [
       "(56534, 56)"
      ]
     },
     "execution_count": 33,
     "metadata": {},
     "output_type": "execute_result"
    }
   ],
   "source": [
    "#removing outliers\n",
    "ecart_HA = remove_outlier(ecart_HA, 'Discount_Percentage')\n",
    "ecart_HA.shape"
   ]
  },
  {
   "cell_type": "code",
   "execution_count": 34,
   "metadata": {},
   "outputs": [
    {
     "data": {
      "text/plain": [
       "(55130, 56)"
      ]
     },
     "execution_count": 34,
     "metadata": {},
     "output_type": "execute_result"
    }
   ],
   "source": [
    "#removing outliers\n",
    "ecart_HA = remove_outlier(ecart_HA, 'sla')\n",
    "ecart_HA.shape"
   ]
  },
  {
   "cell_type": "code",
   "execution_count": 35,
   "metadata": {},
   "outputs": [
    {
     "data": {
      "text/plain": [
       "(48651, 56)"
      ]
     },
     "execution_count": 35,
     "metadata": {},
     "output_type": "execute_result"
    }
   ],
   "source": [
    "#removing outliers\n",
    "ecart_HA = remove_outlier(ecart_HA, 'Affiliates')\n",
    "ecart_HA.shape"
   ]
  },
  {
   "cell_type": "code",
   "execution_count": 36,
   "metadata": {},
   "outputs": [],
   "source": [
    "# Import the required library\n",
    "from sklearn.model_selection import train_test_split"
   ]
  },
  {
   "cell_type": "code",
   "execution_count": 37,
   "metadata": {},
   "outputs": [],
   "source": [
    "#train-test split \n",
    "df_train, df_test = train_test_split(ecart_HA, train_size=0.7, test_size=0.3, random_state=100)"
   ]
  },
  {
   "cell_type": "code",
   "execution_count": 38,
   "metadata": {},
   "outputs": [],
   "source": [
    "# Import MinMax scaler\n",
    "\n",
    "from sklearn.preprocessing import MinMaxScaler"
   ]
  },
  {
   "cell_type": "code",
   "execution_count": 39,
   "metadata": {},
   "outputs": [],
   "source": [
    "scaler = MinMaxScaler()"
   ]
  },
  {
   "cell_type": "code",
   "execution_count": 40,
   "metadata": {},
   "outputs": [],
   "source": [
    "# Create a list of the variables that you need to scale\n",
    "varlist = []\n",
    "dum_cols = list(ecart_HA_dummies.columns)\n",
    "dum_cols.append('Pay_Day')\n",
    "dum_cols.append('is_holiday')\n",
    "\n",
    "for col in ecart_HA.columns:\n",
    "    if col not in dum_cols:\n",
    "        varlist.append(col)"
   ]
  },
  {
   "cell_type": "code",
   "execution_count": 41,
   "metadata": {},
   "outputs": [
    {
     "data": {
      "text/plain": [
       "['gmv',\n",
       " 'units',\n",
       " 'deliverybdays',\n",
       " 'deliverycdays',\n",
       " 'sla',\n",
       " 'product_mrp',\n",
       " 'product_procurement_sla',\n",
       " 'Discount_Percentage',\n",
       " 'gmvperunit',\n",
       " 'delivery_on_time',\n",
       " 'Total Investment',\n",
       " 'TV',\n",
       " 'Digital',\n",
       " 'Sponsorship',\n",
       " 'Content Marketing',\n",
       " 'Online marketing',\n",
       " 'SEM',\n",
       " 'Radio',\n",
       " 'Other',\n",
       " 'Affiliates',\n",
       " 'NPS',\n",
       " 'NPSScore',\n",
       " 'holiday_count',\n",
       " 'TV_adstock',\n",
       " 'Digital_adstock',\n",
       " 'Sponsorship_adstock',\n",
       " 'Content Marketing_adstock',\n",
       " 'Online marketing_adstock',\n",
       " 'Affiliates_adstock',\n",
       " 'SEM_adstock',\n",
       " 'Radio_adstock',\n",
       " 'Other_adstock']"
      ]
     },
     "execution_count": 41,
     "metadata": {},
     "output_type": "execute_result"
    }
   ],
   "source": [
    "varlist"
   ]
  },
  {
   "cell_type": "code",
   "execution_count": 42,
   "metadata": {},
   "outputs": [],
   "source": [
    "# Scale these variables using 'fit_transform'\n",
    "df_train[varlist] = scaler.fit_transform(df_train[varlist])"
   ]
  },
  {
   "cell_type": "code",
   "execution_count": 43,
   "metadata": {},
   "outputs": [
    {
     "data": {
      "text/html": [
       "<div>\n",
       "<style scoped>\n",
       "    .dataframe tbody tr th:only-of-type {\n",
       "        vertical-align: middle;\n",
       "    }\n",
       "\n",
       "    .dataframe tbody tr th {\n",
       "        vertical-align: top;\n",
       "    }\n",
       "\n",
       "    .dataframe thead th {\n",
       "        text-align: right;\n",
       "    }\n",
       "</style>\n",
       "<table border=\"1\" class=\"dataframe\">\n",
       "  <thead>\n",
       "    <tr style=\"text-align: right;\">\n",
       "      <th></th>\n",
       "      <th>gmv</th>\n",
       "      <th>units</th>\n",
       "      <th>deliverybdays</th>\n",
       "      <th>deliverycdays</th>\n",
       "      <th>sla</th>\n",
       "      <th>product_mrp</th>\n",
       "      <th>product_procurement_sla</th>\n",
       "      <th>Pay_Day</th>\n",
       "      <th>is_holiday</th>\n",
       "      <th>Discount_Percentage</th>\n",
       "      <th>...</th>\n",
       "      <th>special_sale_Christmas &amp; New Year</th>\n",
       "      <th>special_sale_Daussera</th>\n",
       "      <th>special_sale_Diwali</th>\n",
       "      <th>special_sale_Eid &amp; Rathayatra</th>\n",
       "      <th>special_sale_FHSD</th>\n",
       "      <th>special_sale_Pacman</th>\n",
       "      <th>special_sale_Regular Day</th>\n",
       "      <th>special_sale_Republic Day</th>\n",
       "      <th>special_sale_Valentine Day</th>\n",
       "      <th>ItemType_MassMarket</th>\n",
       "    </tr>\n",
       "  </thead>\n",
       "  <tbody>\n",
       "    <tr>\n",
       "      <th>58690</th>\n",
       "      <td>0.10</td>\n",
       "      <td>0.00</td>\n",
       "      <td>0.00</td>\n",
       "      <td>0.00</td>\n",
       "      <td>0.85</td>\n",
       "      <td>0.30</td>\n",
       "      <td>0.77</td>\n",
       "      <td>0.00</td>\n",
       "      <td>0.69</td>\n",
       "      <td>0.80</td>\n",
       "      <td>...</td>\n",
       "      <td>0</td>\n",
       "      <td>0</td>\n",
       "      <td>0</td>\n",
       "      <td>0</td>\n",
       "      <td>0</td>\n",
       "      <td>0</td>\n",
       "      <td>0</td>\n",
       "      <td>0</td>\n",
       "      <td>0</td>\n",
       "      <td>1</td>\n",
       "    </tr>\n",
       "    <tr>\n",
       "      <th>46999</th>\n",
       "      <td>0.10</td>\n",
       "      <td>0.00</td>\n",
       "      <td>0.00</td>\n",
       "      <td>0.00</td>\n",
       "      <td>0.58</td>\n",
       "      <td>0.30</td>\n",
       "      <td>0.77</td>\n",
       "      <td>0.00</td>\n",
       "      <td>0.00</td>\n",
       "      <td>0.81</td>\n",
       "      <td>...</td>\n",
       "      <td>0</td>\n",
       "      <td>0</td>\n",
       "      <td>0</td>\n",
       "      <td>0</td>\n",
       "      <td>0</td>\n",
       "      <td>0</td>\n",
       "      <td>1</td>\n",
       "      <td>0</td>\n",
       "      <td>0</td>\n",
       "      <td>1</td>\n",
       "    </tr>\n",
       "    <tr>\n",
       "      <th>57489</th>\n",
       "      <td>0.17</td>\n",
       "      <td>0.00</td>\n",
       "      <td>0.00</td>\n",
       "      <td>0.00</td>\n",
       "      <td>0.66</td>\n",
       "      <td>0.26</td>\n",
       "      <td>0.39</td>\n",
       "      <td>0.00</td>\n",
       "      <td>0.00</td>\n",
       "      <td>0.25</td>\n",
       "      <td>...</td>\n",
       "      <td>0</td>\n",
       "      <td>0</td>\n",
       "      <td>0</td>\n",
       "      <td>0</td>\n",
       "      <td>0</td>\n",
       "      <td>0</td>\n",
       "      <td>1</td>\n",
       "      <td>0</td>\n",
       "      <td>0</td>\n",
       "      <td>1</td>\n",
       "    </tr>\n",
       "    <tr>\n",
       "      <th>63413</th>\n",
       "      <td>0.43</td>\n",
       "      <td>0.00</td>\n",
       "      <td>0.00</td>\n",
       "      <td>0.00</td>\n",
       "      <td>0.29</td>\n",
       "      <td>0.59</td>\n",
       "      <td>0.61</td>\n",
       "      <td>0.00</td>\n",
       "      <td>0.69</td>\n",
       "      <td>0.84</td>\n",
       "      <td>...</td>\n",
       "      <td>0</td>\n",
       "      <td>0</td>\n",
       "      <td>0</td>\n",
       "      <td>0</td>\n",
       "      <td>0</td>\n",
       "      <td>0</td>\n",
       "      <td>0</td>\n",
       "      <td>0</td>\n",
       "      <td>0</td>\n",
       "      <td>1</td>\n",
       "    </tr>\n",
       "    <tr>\n",
       "      <th>9223</th>\n",
       "      <td>0.33</td>\n",
       "      <td>0.00</td>\n",
       "      <td>0.00</td>\n",
       "      <td>0.00</td>\n",
       "      <td>0.00</td>\n",
       "      <td>0.53</td>\n",
       "      <td>0.39</td>\n",
       "      <td>0.00</td>\n",
       "      <td>0.00</td>\n",
       "      <td>0.82</td>\n",
       "      <td>...</td>\n",
       "      <td>0</td>\n",
       "      <td>0</td>\n",
       "      <td>0</td>\n",
       "      <td>0</td>\n",
       "      <td>0</td>\n",
       "      <td>0</td>\n",
       "      <td>1</td>\n",
       "      <td>0</td>\n",
       "      <td>0</td>\n",
       "      <td>1</td>\n",
       "    </tr>\n",
       "  </tbody>\n",
       "</table>\n",
       "<p>5 rows × 56 columns</p>\n",
       "</div>"
      ],
      "text/plain": [
       "       gmv  units  deliverybdays  deliverycdays  sla  product_mrp  \\\n",
       "58690 0.10   0.00           0.00           0.00 0.85         0.30   \n",
       "46999 0.10   0.00           0.00           0.00 0.58         0.30   \n",
       "57489 0.17   0.00           0.00           0.00 0.66         0.26   \n",
       "63413 0.43   0.00           0.00           0.00 0.29         0.59   \n",
       "9223  0.33   0.00           0.00           0.00 0.00         0.53   \n",
       "\n",
       "       product_procurement_sla  Pay_Day  is_holiday  Discount_Percentage  ...  \\\n",
       "58690                     0.77     0.00        0.69                 0.80  ...   \n",
       "46999                     0.77     0.00        0.00                 0.81  ...   \n",
       "57489                     0.39     0.00        0.00                 0.25  ...   \n",
       "63413                     0.61     0.00        0.69                 0.84  ...   \n",
       "9223                      0.39     0.00        0.00                 0.82  ...   \n",
       "\n",
       "       special_sale_Christmas & New Year  special_sale_Daussera  \\\n",
       "58690                                  0                      0   \n",
       "46999                                  0                      0   \n",
       "57489                                  0                      0   \n",
       "63413                                  0                      0   \n",
       "9223                                   0                      0   \n",
       "\n",
       "       special_sale_Diwali  special_sale_Eid & Rathayatra  special_sale_FHSD  \\\n",
       "58690                    0                              0                  0   \n",
       "46999                    0                              0                  0   \n",
       "57489                    0                              0                  0   \n",
       "63413                    0                              0                  0   \n",
       "9223                     0                              0                  0   \n",
       "\n",
       "       special_sale_Pacman  special_sale_Regular Day  \\\n",
       "58690                    0                         0   \n",
       "46999                    0                         1   \n",
       "57489                    0                         1   \n",
       "63413                    0                         0   \n",
       "9223                     0                         1   \n",
       "\n",
       "       special_sale_Republic Day  special_sale_Valentine Day  \\\n",
       "58690                          0                           0   \n",
       "46999                          0                           0   \n",
       "57489                          0                           0   \n",
       "63413                          0                           0   \n",
       "9223                           0                           0   \n",
       "\n",
       "       ItemType_MassMarket  \n",
       "58690                    1  \n",
       "46999                    1  \n",
       "57489                    1  \n",
       "63413                    1  \n",
       "9223                     1  \n",
       "\n",
       "[5 rows x 56 columns]"
      ]
     },
     "execution_count": 43,
     "metadata": {},
     "output_type": "execute_result"
    }
   ],
   "source": [
    "# Let's take a look at the train dataframe now\n",
    "df_train.head()"
   ]
  },
  {
   "cell_type": "code",
   "execution_count": 44,
   "metadata": {},
   "outputs": [],
   "source": [
    "# Split the train dataset into X and y\n",
    "\n",
    "y_train = df_train.pop('gmv')\n",
    "X_train = df_train"
   ]
  },
  {
   "cell_type": "code",
   "execution_count": 45,
   "metadata": {},
   "outputs": [],
   "source": [
    "from sklearn import linear_model\n",
    "from sklearn.linear_model import LinearRegression"
   ]
  },
  {
   "cell_type": "code",
   "execution_count": 46,
   "metadata": {},
   "outputs": [
    {
     "data": {
      "text/plain": [
       "LinearRegression(copy_X=True, fit_intercept=True, n_jobs=None, normalize=False)"
      ]
     },
     "execution_count": 46,
     "metadata": {},
     "output_type": "execute_result"
    }
   ],
   "source": [
    "#Instantiate\n",
    "lm = LinearRegression()\n",
    "\n",
    "# Fit a line\n",
    "lm.fit(X_train, y_train)"
   ]
  },
  {
   "cell_type": "code",
   "execution_count": 47,
   "metadata": {},
   "outputs": [
    {
     "name": "stdout",
     "output_type": "stream",
     "text": [
      "[ 1.14424844e+00 -6.62812512e-02  8.63635963e-02 -2.87405469e-02\n",
      "  1.02516456e-01  4.26605256e-02  1.80983211e-03 -1.09922827e-03\n",
      " -1.81763766e-02  8.04532925e-01  3.58274409e-02 -2.30108372e+11\n",
      "  1.01651978e+11 -1.94485558e+11  4.00259777e+10  2.33127779e+11\n",
      " -8.05298273e+10  2.42093191e+11  1.52544903e+11 -1.34135933e+11\n",
      " -7.22700486e+10  1.52177033e+10  1.91337391e+10 -5.37178108e-04\n",
      "  6.34008295e-02  3.77379787e-01 -8.93130118e-02 -1.15977870e-01\n",
      "  1.13508214e+00 -8.51638717e-01 -3.93418674e-01  7.88410373e-02\n",
      " -8.04402643e-02  4.64785089e-03  7.39144741e+08  1.12299724e-02\n",
      "  1.62064822e-02 -4.80978395e-02 -1.35773057e-02 -4.61262759e-02\n",
      " -1.72559307e+08  8.66860097e-02  1.08609036e-01 -2.65296004e-02\n",
      "  1.33160871e-02  4.39587851e-03  7.54266021e-03  9.77909173e-03\n",
      " -3.33786011e-04  1.38921649e-02  6.20495488e-03  6.67870801e-03\n",
      "  1.42148328e-02  4.63470946e-03 -1.27802208e-01]\n",
      "-35237416180.717255\n"
     ]
    }
   ],
   "source": [
    "# Print the coefficients and intercept\n",
    "print(lm.coef_)\n",
    "print(lm.intercept_)"
   ]
  },
  {
   "cell_type": "code",
   "execution_count": 48,
   "metadata": {},
   "outputs": [
    {
     "name": "stdout",
     "output_type": "stream",
     "text": [
      "[ True False False False False False False False False  True False  True\n",
      "  True  True  True  True  True  True  True  True  True False False False\n",
      " False False False False False False False False False False False False\n",
      " False False False False False False False False False False False False\n",
      " False False False False False False False]\n",
      "[ 1 12 11 25 15 23 40 42 27  1 24  1  1  1  1  1  1  1  1  1  1  5  7 43\n",
      " 18  8 14 13  4  6  9 17 16 34 21 29 28 19 26 20 32  3  2 22 33 39 36 35\n",
      " 44 30 41 37 31 38 10]\n"
     ]
    }
   ],
   "source": [
    "# Import RFE\n",
    "from sklearn.feature_selection import RFE\n",
    "\n",
    "# RFE with 12 features\n",
    "lm = LinearRegression()\n",
    "rfe1 = RFE(lm, 12)\n",
    "\n",
    "# Fit with 12 features\n",
    "rfe1.fit(X_train, y_train)\n",
    "\n",
    "# Print the boolean results\n",
    "print(rfe1.support_)           \n",
    "print(rfe1.ranking_)"
   ]
  },
  {
   "cell_type": "code",
   "execution_count": 49,
   "metadata": {},
   "outputs": [
    {
     "data": {
      "text/html": [
       "<div>\n",
       "<style scoped>\n",
       "    .dataframe tbody tr th:only-of-type {\n",
       "        vertical-align: middle;\n",
       "    }\n",
       "\n",
       "    .dataframe tbody tr th {\n",
       "        vertical-align: top;\n",
       "    }\n",
       "\n",
       "    .dataframe thead th {\n",
       "        text-align: right;\n",
       "    }\n",
       "</style>\n",
       "<table border=\"1\" class=\"dataframe\">\n",
       "  <thead>\n",
       "    <tr style=\"text-align: right;\">\n",
       "      <th></th>\n",
       "      <th>const</th>\n",
       "      <th>units</th>\n",
       "      <th>gmvperunit</th>\n",
       "      <th>Total Investment</th>\n",
       "      <th>TV</th>\n",
       "      <th>Digital</th>\n",
       "      <th>Sponsorship</th>\n",
       "      <th>Content Marketing</th>\n",
       "      <th>Online marketing</th>\n",
       "      <th>SEM</th>\n",
       "      <th>Radio</th>\n",
       "      <th>Other</th>\n",
       "      <th>Affiliates</th>\n",
       "    </tr>\n",
       "  </thead>\n",
       "  <tbody>\n",
       "    <tr>\n",
       "      <th>58690</th>\n",
       "      <td>1.00</td>\n",
       "      <td>0.00</td>\n",
       "      <td>0.42</td>\n",
       "      <td>0.00</td>\n",
       "      <td>0.37</td>\n",
       "      <td>0.45</td>\n",
       "      <td>0.36</td>\n",
       "      <td>0.63</td>\n",
       "      <td>0.62</td>\n",
       "      <td>0.11</td>\n",
       "      <td>0.00</td>\n",
       "      <td>0.00</td>\n",
       "      <td>0.71</td>\n",
       "    </tr>\n",
       "    <tr>\n",
       "      <th>46999</th>\n",
       "      <td>1.00</td>\n",
       "      <td>0.00</td>\n",
       "      <td>0.42</td>\n",
       "      <td>0.31</td>\n",
       "      <td>0.61</td>\n",
       "      <td>0.00</td>\n",
       "      <td>0.00</td>\n",
       "      <td>0.71</td>\n",
       "      <td>0.83</td>\n",
       "      <td>0.00</td>\n",
       "      <td>1.00</td>\n",
       "      <td>1.00</td>\n",
       "      <td>1.00</td>\n",
       "    </tr>\n",
       "    <tr>\n",
       "      <th>57489</th>\n",
       "      <td>1.00</td>\n",
       "      <td>0.00</td>\n",
       "      <td>0.55</td>\n",
       "      <td>0.00</td>\n",
       "      <td>0.37</td>\n",
       "      <td>0.45</td>\n",
       "      <td>0.36</td>\n",
       "      <td>0.63</td>\n",
       "      <td>0.62</td>\n",
       "      <td>0.11</td>\n",
       "      <td>0.00</td>\n",
       "      <td>0.00</td>\n",
       "      <td>0.71</td>\n",
       "    </tr>\n",
       "    <tr>\n",
       "      <th>63413</th>\n",
       "      <td>1.00</td>\n",
       "      <td>0.00</td>\n",
       "      <td>0.78</td>\n",
       "      <td>0.56</td>\n",
       "      <td>1.00</td>\n",
       "      <td>0.46</td>\n",
       "      <td>0.76</td>\n",
       "      <td>0.51</td>\n",
       "      <td>0.22</td>\n",
       "      <td>0.10</td>\n",
       "      <td>0.93</td>\n",
       "      <td>0.97</td>\n",
       "      <td>0.25</td>\n",
       "    </tr>\n",
       "    <tr>\n",
       "      <th>9223</th>\n",
       "      <td>1.00</td>\n",
       "      <td>0.00</td>\n",
       "      <td>0.71</td>\n",
       "      <td>1.00</td>\n",
       "      <td>0.78</td>\n",
       "      <td>1.00</td>\n",
       "      <td>1.00</td>\n",
       "      <td>1.00</td>\n",
       "      <td>1.00</td>\n",
       "      <td>1.00</td>\n",
       "      <td>0.00</td>\n",
       "      <td>0.00</td>\n",
       "      <td>0.75</td>\n",
       "    </tr>\n",
       "  </tbody>\n",
       "</table>\n",
       "</div>"
      ],
      "text/plain": [
       "       const  units  gmvperunit  Total Investment   TV  Digital  Sponsorship  \\\n",
       "58690   1.00   0.00        0.42              0.00 0.37     0.45         0.36   \n",
       "46999   1.00   0.00        0.42              0.31 0.61     0.00         0.00   \n",
       "57489   1.00   0.00        0.55              0.00 0.37     0.45         0.36   \n",
       "63413   1.00   0.00        0.78              0.56 1.00     0.46         0.76   \n",
       "9223    1.00   0.00        0.71              1.00 0.78     1.00         1.00   \n",
       "\n",
       "       Content Marketing  Online marketing  SEM  Radio  Other  Affiliates  \n",
       "58690               0.63              0.62 0.11   0.00   0.00        0.71  \n",
       "46999               0.71              0.83 0.00   1.00   1.00        1.00  \n",
       "57489               0.63              0.62 0.11   0.00   0.00        0.71  \n",
       "63413               0.51              0.22 0.10   0.93   0.97        0.25  \n",
       "9223                1.00              1.00 1.00   0.00   0.00        0.75  "
      ]
     },
     "execution_count": 49,
     "metadata": {},
     "output_type": "execute_result"
    }
   ],
   "source": [
    "# Import statsmodels\n",
    "import statsmodels.api as sm  \n",
    "\n",
    "# Subset the features selected by rfe1\n",
    "col1 = X_train.columns[rfe1.support_]\n",
    "\n",
    "# Subsetting training data for 12 selected columns\n",
    "X_train_rfe1 = X_train[col1]\n",
    "\n",
    "# Add a constant to the model\n",
    "X_train_rfe1 = sm.add_constant(X_train_rfe1)\n",
    "X_train_rfe1.head()"
   ]
  },
  {
   "cell_type": "code",
   "execution_count": 50,
   "metadata": {},
   "outputs": [
    {
     "name": "stdout",
     "output_type": "stream",
     "text": [
      "                            OLS Regression Results                            \n",
      "==============================================================================\n",
      "Dep. Variable:                    gmv   R-squared:                       0.888\n",
      "Model:                            OLS   Adj. R-squared:                  0.888\n",
      "Method:                 Least Squares   F-statistic:                 2.710e+04\n",
      "Date:                Wed, 31 Mar 2021   Prob (F-statistic):               0.00\n",
      "Time:                        13:24:52   Log-Likelihood:                 43045.\n",
      "No. Observations:               34055   AIC:                        -8.607e+04\n",
      "Df Residuals:                   34044   BIC:                        -8.598e+04\n",
      "Df Model:                          10                                         \n",
      "Covariance Type:            nonrobust                                         \n",
      "=====================================================================================\n",
      "                        coef    std err          t      P>|t|      [0.025      0.975]\n",
      "-------------------------------------------------------------------------------------\n",
      "const             -8.396e+07   2.43e+08     -0.345      0.730    -5.6e+08    3.93e+08\n",
      "units                 1.1558      0.022     53.686      0.000       1.114       1.198\n",
      "gmvperunit            1.0607      0.002    518.932      0.000       1.057       1.065\n",
      "Total Investment   1.285e+09   3.72e+09      0.345      0.730   -6.01e+09    8.57e+09\n",
      "TV                -2.114e+08   6.12e+08     -0.345      0.730   -1.41e+09    9.88e+08\n",
      "Digital            1.919e+09   5.56e+09      0.345      0.730   -8.97e+09    1.28e+10\n",
      "Sponsorship       -4.406e+08   1.28e+09     -0.345      0.730   -2.94e+09    2.06e+09\n",
      "Content Marketing -2.083e+09   6.03e+09     -0.345      0.730   -1.39e+10    9.74e+09\n",
      "Online marketing   1.961e+09   5.68e+09      0.345      0.730   -9.17e+09    1.31e+10\n",
      "SEM               -2.166e+09   6.27e+09     -0.345      0.730   -1.45e+10    1.01e+10\n",
      "Radio             -1.005e+08   2.91e+08     -0.345      0.730   -6.71e+08     4.7e+08\n",
      "Other              6.785e+07   1.96e+08      0.345      0.730   -3.17e+08    4.53e+08\n",
      "Affiliates         -2.98e+08   8.63e+08     -0.345      0.730   -1.99e+09    1.39e+09\n",
      "==============================================================================\n",
      "Omnibus:                    11450.658   Durbin-Watson:                   2.001\n",
      "Prob(Omnibus):                  0.000   Jarque-Bera (JB):            37234.180\n",
      "Skew:                           1.733   Prob(JB):                         0.00\n",
      "Kurtosis:                       6.771   Cond. No.                     2.31e+15\n",
      "==============================================================================\n",
      "\n",
      "Warnings:\n",
      "[1] Standard Errors assume that the covariance matrix of the errors is correctly specified.\n",
      "[2] The smallest eigenvalue is 2.94e-26. This might indicate that there are\n",
      "strong multicollinearity problems or that the design matrix is singular.\n"
     ]
    }
   ],
   "source": [
    "# Fitting the model with 12 variables\n",
    "lm1 = sm.OLS(y_train, X_train_rfe1).fit()   \n",
    "print(lm1.summary())"
   ]
  },
  {
   "cell_type": "code",
   "execution_count": 51,
   "metadata": {},
   "outputs": [],
   "source": [
    "# Check for the VIF values of the feature variables. \n",
    "from statsmodels.stats.outliers_influence import variance_inflation_factor"
   ]
  },
  {
   "cell_type": "code",
   "execution_count": 52,
   "metadata": {},
   "outputs": [
    {
     "data": {
      "text/html": [
       "<div>\n",
       "<style scoped>\n",
       "    .dataframe tbody tr th:only-of-type {\n",
       "        vertical-align: middle;\n",
       "    }\n",
       "\n",
       "    .dataframe tbody tr th {\n",
       "        vertical-align: top;\n",
       "    }\n",
       "\n",
       "    .dataframe thead th {\n",
       "        text-align: right;\n",
       "    }\n",
       "</style>\n",
       "<table border=\"1\" class=\"dataframe\">\n",
       "  <thead>\n",
       "    <tr style=\"text-align: right;\">\n",
       "      <th></th>\n",
       "      <th>Features</th>\n",
       "      <th>VIF</th>\n",
       "    </tr>\n",
       "  </thead>\n",
       "  <tbody>\n",
       "    <tr>\n",
       "      <th>11</th>\n",
       "      <td>Other</td>\n",
       "      <td>286,600,258.08</td>\n",
       "    </tr>\n",
       "    <tr>\n",
       "      <th>10</th>\n",
       "      <td>Radio</td>\n",
       "      <td>61,325,020.30</td>\n",
       "    </tr>\n",
       "    <tr>\n",
       "      <th>3</th>\n",
       "      <td>Total Investment</td>\n",
       "      <td>3,503,181.66</td>\n",
       "    </tr>\n",
       "    <tr>\n",
       "      <th>6</th>\n",
       "      <td>Sponsorship</td>\n",
       "      <td>2,962,427.22</td>\n",
       "    </tr>\n",
       "    <tr>\n",
       "      <th>4</th>\n",
       "      <td>TV</td>\n",
       "      <td>450,484.89</td>\n",
       "    </tr>\n",
       "    <tr>\n",
       "      <th>12</th>\n",
       "      <td>Affiliates</td>\n",
       "      <td>330,677.50</td>\n",
       "    </tr>\n",
       "    <tr>\n",
       "      <th>5</th>\n",
       "      <td>Digital</td>\n",
       "      <td>94,141.30</td>\n",
       "    </tr>\n",
       "    <tr>\n",
       "      <th>9</th>\n",
       "      <td>SEM</td>\n",
       "      <td>92,222.12</td>\n",
       "    </tr>\n",
       "    <tr>\n",
       "      <th>8</th>\n",
       "      <td>Online marketing</td>\n",
       "      <td>112.79</td>\n",
       "    </tr>\n",
       "    <tr>\n",
       "      <th>7</th>\n",
       "      <td>Content Marketing</td>\n",
       "      <td>82.47</td>\n",
       "    </tr>\n",
       "    <tr>\n",
       "      <th>2</th>\n",
       "      <td>gmvperunit</td>\n",
       "      <td>1.01</td>\n",
       "    </tr>\n",
       "    <tr>\n",
       "      <th>1</th>\n",
       "      <td>units</td>\n",
       "      <td>1.00</td>\n",
       "    </tr>\n",
       "    <tr>\n",
       "      <th>0</th>\n",
       "      <td>const</td>\n",
       "      <td>0.00</td>\n",
       "    </tr>\n",
       "  </tbody>\n",
       "</table>\n",
       "</div>"
      ],
      "text/plain": [
       "             Features            VIF\n",
       "11              Other 286,600,258.08\n",
       "10              Radio  61,325,020.30\n",
       "3    Total Investment   3,503,181.66\n",
       "6         Sponsorship   2,962,427.22\n",
       "4                  TV     450,484.89\n",
       "12         Affiliates     330,677.50\n",
       "5             Digital      94,141.30\n",
       "9                 SEM      92,222.12\n",
       "8    Online marketing         112.79\n",
       "7   Content Marketing          82.47\n",
       "2          gmvperunit           1.01\n",
       "1               units           1.00\n",
       "0               const           0.00"
      ]
     },
     "execution_count": 52,
     "metadata": {},
     "output_type": "execute_result"
    }
   ],
   "source": [
    "# Create a dataframe that will contain the names of all the feature variables and their respective VIFs\n",
    "vif = pd.DataFrame()\n",
    "vif['Features'] = X_train_rfe1.columns\n",
    "vif['VIF'] = [variance_inflation_factor(X_train_rfe1.values, i) for i in range(X_train_rfe1.shape[1])]\n",
    "vif['VIF'] = round(vif['VIF'], 2)\n",
    "vif = vif.sort_values(by = \"VIF\", ascending = False)\n",
    "vif"
   ]
  },
  {
   "cell_type": "code",
   "execution_count": 53,
   "metadata": {},
   "outputs": [],
   "source": [
    "#drop 1st variable with high vif and p-value\n",
    "X_train_rfe1.drop('Total Investment', axis = 1, inplace = True)"
   ]
  },
  {
   "cell_type": "code",
   "execution_count": 54,
   "metadata": {},
   "outputs": [
    {
     "name": "stdout",
     "output_type": "stream",
     "text": [
      "                            OLS Regression Results                            \n",
      "==============================================================================\n",
      "Dep. Variable:                    gmv   R-squared:                       0.888\n",
      "Model:                            OLS   Adj. R-squared:                  0.888\n",
      "Method:                 Least Squares   F-statistic:                 2.710e+04\n",
      "Date:                Wed, 31 Mar 2021   Prob (F-statistic):               0.00\n",
      "Time:                        13:26:27   Log-Likelihood:                 43045.\n",
      "No. Observations:               34055   AIC:                        -8.607e+04\n",
      "Df Residuals:                   34044   BIC:                        -8.598e+04\n",
      "Df Model:                          10                                         \n",
      "Covariance Type:            nonrobust                                         \n",
      "=====================================================================================\n",
      "                        coef    std err          t      P>|t|      [0.025      0.975]\n",
      "-------------------------------------------------------------------------------------\n",
      "const              3.038e+08   1.03e+09      0.295      0.768   -1.72e+09    2.32e+09\n",
      "units                 1.1558      0.022     53.685      0.000       1.114       1.198\n",
      "gmvperunit            1.0607      0.002    518.912      0.000       1.057       1.065\n",
      "TV                -4.014e+08   1.36e+09     -0.295      0.768   -3.07e+09    2.27e+09\n",
      "Digital            -9.76e+08   3.31e+09     -0.295      0.768   -7.46e+09    5.51e+09\n",
      "Sponsorship        2.774e+08   9.41e+08      0.295      0.768   -1.57e+09    2.12e+09\n",
      "Content Marketing  9.895e+08   3.36e+09      0.295      0.768   -5.59e+09    7.57e+09\n",
      "Online marketing  -1.915e+09    6.5e+09     -0.295      0.768   -1.46e+10    1.08e+10\n",
      "SEM                 9.59e+08   3.25e+09      0.295      0.768   -5.41e+09    7.33e+09\n",
      "Radio              8.076e+07   2.74e+08      0.295      0.768   -4.56e+08    6.17e+08\n",
      "Other             -1.546e+08   5.24e+08     -0.295      0.768   -1.18e+09    8.73e+08\n",
      "Affiliates          8.96e+08   3.04e+09      0.295      0.768   -5.06e+09    6.85e+09\n",
      "==============================================================================\n",
      "Omnibus:                    11450.661   Durbin-Watson:                   2.001\n",
      "Prob(Omnibus):                  0.000   Jarque-Bera (JB):            37232.069\n",
      "Skew:                           1.733   Prob(JB):                         0.00\n",
      "Kurtosis:                       6.771   Cond. No.                     2.42e+15\n",
      "==============================================================================\n",
      "\n",
      "Warnings:\n",
      "[1] Standard Errors assume that the covariance matrix of the errors is correctly specified.\n",
      "[2] The smallest eigenvalue is 2.52e-26. This might indicate that there are\n",
      "strong multicollinearity problems or that the design matrix is singular.\n"
     ]
    }
   ],
   "source": [
    "# Refitting with 11 variables\n",
    "X_train_rfe2 = sm.add_constant(X_train_rfe1)\n",
    "\n",
    "# Fitting the model with 11 variables\n",
    "lm2 = sm.OLS(y_train, X_train_rfe2).fit()   \n",
    "print(lm2.summary())"
   ]
  },
  {
   "cell_type": "code",
   "execution_count": 55,
   "metadata": {},
   "outputs": [
    {
     "data": {
      "text/html": [
       "<div>\n",
       "<style scoped>\n",
       "    .dataframe tbody tr th:only-of-type {\n",
       "        vertical-align: middle;\n",
       "    }\n",
       "\n",
       "    .dataframe tbody tr th {\n",
       "        vertical-align: top;\n",
       "    }\n",
       "\n",
       "    .dataframe thead th {\n",
       "        text-align: right;\n",
       "    }\n",
       "</style>\n",
       "<table border=\"1\" class=\"dataframe\">\n",
       "  <thead>\n",
       "    <tr style=\"text-align: right;\">\n",
       "      <th></th>\n",
       "      <th>Features</th>\n",
       "      <th>VIF</th>\n",
       "    </tr>\n",
       "  </thead>\n",
       "  <tbody>\n",
       "    <tr>\n",
       "      <th>5</th>\n",
       "      <td>Sponsorship</td>\n",
       "      <td>inf</td>\n",
       "    </tr>\n",
       "    <tr>\n",
       "      <th>7</th>\n",
       "      <td>Online marketing</td>\n",
       "      <td>inf</td>\n",
       "    </tr>\n",
       "    <tr>\n",
       "      <th>11</th>\n",
       "      <td>Affiliates</td>\n",
       "      <td>inf</td>\n",
       "    </tr>\n",
       "    <tr>\n",
       "      <th>10</th>\n",
       "      <td>Other</td>\n",
       "      <td>3,914,349,161.93</td>\n",
       "    </tr>\n",
       "    <tr>\n",
       "      <th>9</th>\n",
       "      <td>Radio</td>\n",
       "      <td>1,063,167,571.40</td>\n",
       "    </tr>\n",
       "    <tr>\n",
       "      <th>4</th>\n",
       "      <td>Digital</td>\n",
       "      <td>347,260.19</td>\n",
       "    </tr>\n",
       "    <tr>\n",
       "      <th>6</th>\n",
       "      <td>Content Marketing</td>\n",
       "      <td>27,850.95</td>\n",
       "    </tr>\n",
       "    <tr>\n",
       "      <th>8</th>\n",
       "      <td>SEM</td>\n",
       "      <td>19,827.65</td>\n",
       "    </tr>\n",
       "    <tr>\n",
       "      <th>3</th>\n",
       "      <td>TV</td>\n",
       "      <td>15,561.49</td>\n",
       "    </tr>\n",
       "    <tr>\n",
       "      <th>1</th>\n",
       "      <td>units</td>\n",
       "      <td>1.00</td>\n",
       "    </tr>\n",
       "    <tr>\n",
       "      <th>2</th>\n",
       "      <td>gmvperunit</td>\n",
       "      <td>1.00</td>\n",
       "    </tr>\n",
       "    <tr>\n",
       "      <th>0</th>\n",
       "      <td>const</td>\n",
       "      <td>0.00</td>\n",
       "    </tr>\n",
       "  </tbody>\n",
       "</table>\n",
       "</div>"
      ],
      "text/plain": [
       "             Features              VIF\n",
       "5         Sponsorship              inf\n",
       "7    Online marketing              inf\n",
       "11         Affiliates              inf\n",
       "10              Other 3,914,349,161.93\n",
       "9               Radio 1,063,167,571.40\n",
       "4             Digital       347,260.19\n",
       "6   Content Marketing        27,850.95\n",
       "8                 SEM        19,827.65\n",
       "3                  TV        15,561.49\n",
       "1               units             1.00\n",
       "2          gmvperunit             1.00\n",
       "0               const             0.00"
      ]
     },
     "execution_count": 55,
     "metadata": {},
     "output_type": "execute_result"
    }
   ],
   "source": [
    "# Create a dataframe that will contain the names of all the feature variables and their respective VIFs\n",
    "vif = pd.DataFrame()\n",
    "vif['Features'] = X_train_rfe2.columns\n",
    "vif['VIF'] = [variance_inflation_factor(X_train_rfe2.values, i) for i in range(X_train_rfe2.shape[1])]\n",
    "vif['VIF'] = round(vif['VIF'], 2)\n",
    "vif = vif.sort_values(by = \"VIF\", ascending = False)\n",
    "vif"
   ]
  },
  {
   "cell_type": "code",
   "execution_count": 56,
   "metadata": {},
   "outputs": [],
   "source": [
    "#drop 1st variable with high vif and p-value\n",
    "X_train_rfe2.drop('Radio', axis = 1, inplace = True)"
   ]
  },
  {
   "cell_type": "code",
   "execution_count": 57,
   "metadata": {},
   "outputs": [
    {
     "name": "stdout",
     "output_type": "stream",
     "text": [
      "                            OLS Regression Results                            \n",
      "==============================================================================\n",
      "Dep. Variable:                    gmv   R-squared:                       0.888\n",
      "Model:                            OLS   Adj. R-squared:                  0.888\n",
      "Method:                 Least Squares   F-statistic:                 2.709e+04\n",
      "Date:                Wed, 31 Mar 2021   Prob (F-statistic):               0.00\n",
      "Time:                        13:27:49   Log-Likelihood:                 43044.\n",
      "No. Observations:               34055   AIC:                        -8.607e+04\n",
      "Df Residuals:                   34044   BIC:                        -8.597e+04\n",
      "Df Model:                          10                                         \n",
      "Covariance Type:            nonrobust                                         \n",
      "=====================================================================================\n",
      "                        coef    std err          t      P>|t|      [0.025      0.975]\n",
      "-------------------------------------------------------------------------------------\n",
      "const              3.065e+08   1.05e+09      0.293      0.769   -1.74e+09    2.36e+09\n",
      "units                 1.1558      0.022     53.684      0.000       1.114       1.198\n",
      "gmvperunit            1.0607      0.002    518.903      0.000       1.057       1.065\n",
      "TV                -4.035e+08   1.38e+09     -0.293      0.769    -3.1e+09    2.29e+09\n",
      "Digital           -9.778e+08   3.33e+09     -0.293      0.769   -7.51e+09    5.56e+09\n",
      "Sponsorship         2.76e+08   9.41e+08      0.293      0.769   -1.57e+09    2.12e+09\n",
      "Content Marketing  9.852e+08   3.36e+09      0.293      0.769    -5.6e+09    7.57e+09\n",
      "Online marketing  -1.907e+09    6.5e+09     -0.293      0.769   -1.47e+10    1.08e+10\n",
      "SEM                9.605e+08   3.28e+09      0.293      0.769   -5.46e+09    7.38e+09\n",
      "Other             -7.469e+07   2.55e+08     -0.293      0.769   -5.74e+08    4.25e+08\n",
      "Affiliates         8.915e+08   3.04e+09      0.293      0.769   -5.07e+09    6.85e+09\n",
      "==============================================================================\n",
      "Omnibus:                    11443.363   Durbin-Watson:                   2.001\n",
      "Prob(Omnibus):                  0.000   Jarque-Bera (JB):            37188.086\n",
      "Skew:                           1.732   Prob(JB):                         0.00\n",
      "Kurtosis:                       6.769   Cond. No.                     5.24e+13\n",
      "==============================================================================\n",
      "\n",
      "Warnings:\n",
      "[1] Standard Errors assume that the covariance matrix of the errors is correctly specified.\n",
      "[2] The smallest eigenvalue is 5.28e-23. This might indicate that there are\n",
      "strong multicollinearity problems or that the design matrix is singular.\n"
     ]
    }
   ],
   "source": [
    "# Refitting with 11 variables\n",
    "X_train_rfe3 = sm.add_constant(X_train_rfe2)\n",
    "\n",
    "# Fitting the model with 11 variables\n",
    "lm3 = sm.OLS(y_train, X_train_rfe3).fit()   \n",
    "print(lm3.summary())"
   ]
  },
  {
   "cell_type": "code",
   "execution_count": 58,
   "metadata": {},
   "outputs": [
    {
     "data": {
      "text/html": [
       "<div>\n",
       "<style scoped>\n",
       "    .dataframe tbody tr th:only-of-type {\n",
       "        vertical-align: middle;\n",
       "    }\n",
       "\n",
       "    .dataframe tbody tr th {\n",
       "        vertical-align: top;\n",
       "    }\n",
       "\n",
       "    .dataframe thead th {\n",
       "        text-align: right;\n",
       "    }\n",
       "</style>\n",
       "<table border=\"1\" class=\"dataframe\">\n",
       "  <thead>\n",
       "    <tr style=\"text-align: right;\">\n",
       "      <th></th>\n",
       "      <th>Features</th>\n",
       "      <th>VIF</th>\n",
       "    </tr>\n",
       "  </thead>\n",
       "  <tbody>\n",
       "    <tr>\n",
       "      <th>3</th>\n",
       "      <td>TV</td>\n",
       "      <td>inf</td>\n",
       "    </tr>\n",
       "    <tr>\n",
       "      <th>4</th>\n",
       "      <td>Digital</td>\n",
       "      <td>inf</td>\n",
       "    </tr>\n",
       "    <tr>\n",
       "      <th>5</th>\n",
       "      <td>Sponsorship</td>\n",
       "      <td>inf</td>\n",
       "    </tr>\n",
       "    <tr>\n",
       "      <th>6</th>\n",
       "      <td>Content Marketing</td>\n",
       "      <td>inf</td>\n",
       "    </tr>\n",
       "    <tr>\n",
       "      <th>7</th>\n",
       "      <td>Online marketing</td>\n",
       "      <td>inf</td>\n",
       "    </tr>\n",
       "    <tr>\n",
       "      <th>8</th>\n",
       "      <td>SEM</td>\n",
       "      <td>inf</td>\n",
       "    </tr>\n",
       "    <tr>\n",
       "      <th>9</th>\n",
       "      <td>Other</td>\n",
       "      <td>inf</td>\n",
       "    </tr>\n",
       "    <tr>\n",
       "      <th>10</th>\n",
       "      <td>Affiliates</td>\n",
       "      <td>inf</td>\n",
       "    </tr>\n",
       "    <tr>\n",
       "      <th>2</th>\n",
       "      <td>gmvperunit</td>\n",
       "      <td>1.01</td>\n",
       "    </tr>\n",
       "    <tr>\n",
       "      <th>1</th>\n",
       "      <td>units</td>\n",
       "      <td>1.00</td>\n",
       "    </tr>\n",
       "    <tr>\n",
       "      <th>0</th>\n",
       "      <td>const</td>\n",
       "      <td>0.00</td>\n",
       "    </tr>\n",
       "  </tbody>\n",
       "</table>\n",
       "</div>"
      ],
      "text/plain": [
       "             Features  VIF\n",
       "3                  TV  inf\n",
       "4             Digital  inf\n",
       "5         Sponsorship  inf\n",
       "6   Content Marketing  inf\n",
       "7    Online marketing  inf\n",
       "8                 SEM  inf\n",
       "9               Other  inf\n",
       "10         Affiliates  inf\n",
       "2          gmvperunit 1.01\n",
       "1               units 1.00\n",
       "0               const 0.00"
      ]
     },
     "execution_count": 58,
     "metadata": {},
     "output_type": "execute_result"
    }
   ],
   "source": [
    "# Create a dataframe that will contain the names of all the feature variables and their respective VIFs\n",
    "vif = pd.DataFrame()\n",
    "vif['Features'] = X_train_rfe3.columns\n",
    "vif['VIF'] = [variance_inflation_factor(X_train_rfe3.values, i) for i in range(X_train_rfe3.shape[1])]\n",
    "vif['VIF'] = round(vif['VIF'], 2)\n",
    "vif = vif.sort_values(by = \"VIF\", ascending = False)\n",
    "vif"
   ]
  },
  {
   "cell_type": "code",
   "execution_count": 59,
   "metadata": {},
   "outputs": [],
   "source": [
    "#drop 1st variable with high vif and p-value\n",
    "X_train_rfe3.drop('TV', axis = 1, inplace = True)"
   ]
  },
  {
   "cell_type": "code",
   "execution_count": 60,
   "metadata": {},
   "outputs": [
    {
     "name": "stdout",
     "output_type": "stream",
     "text": [
      "                            OLS Regression Results                            \n",
      "==============================================================================\n",
      "Dep. Variable:                    gmv   R-squared:                       0.888\n",
      "Model:                            OLS   Adj. R-squared:                  0.888\n",
      "Method:                 Least Squares   F-statistic:                 3.011e+04\n",
      "Date:                Wed, 31 Mar 2021   Prob (F-statistic):               0.00\n",
      "Time:                        13:28:53   Log-Likelihood:                 43045.\n",
      "No. Observations:               34055   AIC:                        -8.607e+04\n",
      "Df Residuals:                   34045   BIC:                        -8.599e+04\n",
      "Df Model:                           9                                         \n",
      "Covariance Type:            nonrobust                                         \n",
      "=====================================================================================\n",
      "                        coef    std err          t      P>|t|      [0.025      0.975]\n",
      "-------------------------------------------------------------------------------------\n",
      "const                -0.3623      0.006    -62.839      0.000      -0.374      -0.351\n",
      "units                 1.1558      0.022     53.686      0.000       1.114       1.198\n",
      "gmvperunit            1.0607      0.002    518.943      0.000       1.057       1.065\n",
      "Digital               0.0027      0.011      0.236      0.813      -0.020       0.025\n",
      "Sponsorship           0.0169      0.005      3.184      0.001       0.007       0.027\n",
      "Content Marketing    -0.0458      0.013     -3.568      0.000      -0.071      -0.021\n",
      "Online marketing      0.0390      0.015      2.678      0.007       0.010       0.068\n",
      "SEM                  -0.0116      0.008     -1.372      0.170      -0.028       0.005\n",
      "Other                 0.0054      0.003      1.857      0.063      -0.000       0.011\n",
      "Affiliates           -0.0108      0.009     -1.160      0.246      -0.029       0.007\n",
      "==============================================================================\n",
      "Omnibus:                    11447.879   Durbin-Watson:                   2.001\n",
      "Prob(Omnibus):                  0.000   Jarque-Bera (JB):            37216.682\n",
      "Skew:                           1.733   Prob(JB):                         0.00\n",
      "Kurtosis:                       6.770   Cond. No.                         122.\n",
      "==============================================================================\n",
      "\n",
      "Warnings:\n",
      "[1] Standard Errors assume that the covariance matrix of the errors is correctly specified.\n"
     ]
    }
   ],
   "source": [
    "# Refitting with 11 variables\n",
    "X_train_rfe4 = sm.add_constant(X_train_rfe3)\n",
    "\n",
    "# Fitting the model with 11 variables\n",
    "lm4 = sm.OLS(y_train, X_train_rfe4).fit()   \n",
    "print(lm4.summary())"
   ]
  },
  {
   "cell_type": "code",
   "execution_count": 61,
   "metadata": {},
   "outputs": [
    {
     "data": {
      "text/html": [
       "<div>\n",
       "<style scoped>\n",
       "    .dataframe tbody tr th:only-of-type {\n",
       "        vertical-align: middle;\n",
       "    }\n",
       "\n",
       "    .dataframe tbody tr th {\n",
       "        vertical-align: top;\n",
       "    }\n",
       "\n",
       "    .dataframe thead th {\n",
       "        text-align: right;\n",
       "    }\n",
       "</style>\n",
       "<table border=\"1\" class=\"dataframe\">\n",
       "  <thead>\n",
       "    <tr style=\"text-align: right;\">\n",
       "      <th></th>\n",
       "      <th>Features</th>\n",
       "      <th>VIF</th>\n",
       "    </tr>\n",
       "  </thead>\n",
       "  <tbody>\n",
       "    <tr>\n",
       "      <th>0</th>\n",
       "      <td>const</td>\n",
       "      <td>242.11</td>\n",
       "    </tr>\n",
       "    <tr>\n",
       "      <th>6</th>\n",
       "      <td>Online marketing</td>\n",
       "      <td>121.06</td>\n",
       "    </tr>\n",
       "    <tr>\n",
       "      <th>3</th>\n",
       "      <td>Digital</td>\n",
       "      <td>102.97</td>\n",
       "    </tr>\n",
       "    <tr>\n",
       "      <th>7</th>\n",
       "      <td>SEM</td>\n",
       "      <td>77.22</td>\n",
       "    </tr>\n",
       "    <tr>\n",
       "      <th>5</th>\n",
       "      <td>Content Marketing</td>\n",
       "      <td>68.40</td>\n",
       "    </tr>\n",
       "    <tr>\n",
       "      <th>9</th>\n",
       "      <td>Affiliates</td>\n",
       "      <td>34.88</td>\n",
       "    </tr>\n",
       "    <tr>\n",
       "      <th>4</th>\n",
       "      <td>Sponsorship</td>\n",
       "      <td>24.44</td>\n",
       "    </tr>\n",
       "    <tr>\n",
       "      <th>8</th>\n",
       "      <td>Other</td>\n",
       "      <td>12.77</td>\n",
       "    </tr>\n",
       "    <tr>\n",
       "      <th>2</th>\n",
       "      <td>gmvperunit</td>\n",
       "      <td>1.01</td>\n",
       "    </tr>\n",
       "    <tr>\n",
       "      <th>1</th>\n",
       "      <td>units</td>\n",
       "      <td>1.00</td>\n",
       "    </tr>\n",
       "  </tbody>\n",
       "</table>\n",
       "</div>"
      ],
      "text/plain": [
       "            Features    VIF\n",
       "0              const 242.11\n",
       "6   Online marketing 121.06\n",
       "3            Digital 102.97\n",
       "7                SEM  77.22\n",
       "5  Content Marketing  68.40\n",
       "9         Affiliates  34.88\n",
       "4        Sponsorship  24.44\n",
       "8              Other  12.77\n",
       "2         gmvperunit   1.01\n",
       "1              units   1.00"
      ]
     },
     "execution_count": 61,
     "metadata": {},
     "output_type": "execute_result"
    }
   ],
   "source": [
    "# Create a dataframe that will contain the names of all the feature variables and their respective VIFs\n",
    "vif = pd.DataFrame()\n",
    "vif['Features'] = X_train_rfe4.columns\n",
    "vif['VIF'] = [variance_inflation_factor(X_train_rfe4.values, i) for i in range(X_train_rfe4.shape[1])]\n",
    "vif['VIF'] = round(vif['VIF'], 2)\n",
    "vif = vif.sort_values(by = \"VIF\", ascending = False)\n",
    "vif"
   ]
  },
  {
   "cell_type": "code",
   "execution_count": 62,
   "metadata": {},
   "outputs": [],
   "source": [
    "#drop 1st variable with high vif and p-value\n",
    "X_train_rfe4.drop('Online marketing', axis = 1, inplace = True)"
   ]
  },
  {
   "cell_type": "code",
   "execution_count": 63,
   "metadata": {},
   "outputs": [
    {
     "name": "stdout",
     "output_type": "stream",
     "text": [
      "                            OLS Regression Results                            \n",
      "==============================================================================\n",
      "Dep. Variable:                    gmv   R-squared:                       0.888\n",
      "Model:                            OLS   Adj. R-squared:                  0.888\n",
      "Method:                 Least Squares   F-statistic:                 3.386e+04\n",
      "Date:                Wed, 31 Mar 2021   Prob (F-statistic):               0.00\n",
      "Time:                        13:30:01   Log-Likelihood:                 43042.\n",
      "No. Observations:               34055   AIC:                        -8.607e+04\n",
      "Df Residuals:                   34046   BIC:                        -8.599e+04\n",
      "Df Model:                           8                                         \n",
      "Covariance Type:            nonrobust                                         \n",
      "=====================================================================================\n",
      "                        coef    std err          t      P>|t|      [0.025      0.975]\n",
      "-------------------------------------------------------------------------------------\n",
      "const                -0.3586      0.006    -64.005      0.000      -0.370      -0.348\n",
      "units                 1.1558      0.022     53.681      0.000       1.114       1.198\n",
      "gmvperunit            1.0607      0.002    518.938      0.000       1.057       1.065\n",
      "Digital              -0.0235      0.006     -3.905      0.000      -0.035      -0.012\n",
      "Sponsorship           0.0202      0.005      3.889      0.000       0.010       0.030\n",
      "Content Marketing    -0.0170      0.007     -2.425      0.015      -0.031      -0.003\n",
      "SEM                   0.0069      0.005      1.420      0.156      -0.003       0.016\n",
      "Other                -0.0003      0.002     -0.158      0.874      -0.004       0.004\n",
      "Affiliates            0.0038      0.008      0.495      0.620      -0.011       0.019\n",
      "==============================================================================\n",
      "Omnibus:                    11441.309   Durbin-Watson:                   2.001\n",
      "Prob(Omnibus):                  0.000   Jarque-Bera (JB):            37151.533\n",
      "Skew:                           1.733   Prob(JB):                         0.00\n",
      "Kurtosis:                       6.765   Cond. No.                         106.\n",
      "==============================================================================\n",
      "\n",
      "Warnings:\n",
      "[1] Standard Errors assume that the covariance matrix of the errors is correctly specified.\n"
     ]
    }
   ],
   "source": [
    "# Refitting with 11 variables\n",
    "X_train_rfe5 = sm.add_constant(X_train_rfe4)\n",
    "\n",
    "# Fitting the model with 11 variables\n",
    "lm5 = sm.OLS(y_train, X_train_rfe5).fit()   \n",
    "print(lm5.summary())"
   ]
  },
  {
   "cell_type": "code",
   "execution_count": 64,
   "metadata": {},
   "outputs": [
    {
     "data": {
      "text/html": [
       "<div>\n",
       "<style scoped>\n",
       "    .dataframe tbody tr th:only-of-type {\n",
       "        vertical-align: middle;\n",
       "    }\n",
       "\n",
       "    .dataframe tbody tr th {\n",
       "        vertical-align: top;\n",
       "    }\n",
       "\n",
       "    .dataframe thead th {\n",
       "        text-align: right;\n",
       "    }\n",
       "</style>\n",
       "<table border=\"1\" class=\"dataframe\">\n",
       "  <thead>\n",
       "    <tr style=\"text-align: right;\">\n",
       "      <th></th>\n",
       "      <th>Features</th>\n",
       "      <th>VIF</th>\n",
       "    </tr>\n",
       "  </thead>\n",
       "  <tbody>\n",
       "    <tr>\n",
       "      <th>0</th>\n",
       "      <td>const</td>\n",
       "      <td>228.67</td>\n",
       "    </tr>\n",
       "    <tr>\n",
       "      <th>3</th>\n",
       "      <td>Digital</td>\n",
       "      <td>28.23</td>\n",
       "    </tr>\n",
       "    <tr>\n",
       "      <th>6</th>\n",
       "      <td>SEM</td>\n",
       "      <td>25.59</td>\n",
       "    </tr>\n",
       "    <tr>\n",
       "      <th>4</th>\n",
       "      <td>Sponsorship</td>\n",
       "      <td>23.19</td>\n",
       "    </tr>\n",
       "    <tr>\n",
       "      <th>8</th>\n",
       "      <td>Affiliates</td>\n",
       "      <td>23.01</td>\n",
       "    </tr>\n",
       "    <tr>\n",
       "      <th>5</th>\n",
       "      <td>Content Marketing</td>\n",
       "      <td>20.47</td>\n",
       "    </tr>\n",
       "    <tr>\n",
       "      <th>7</th>\n",
       "      <td>Other</td>\n",
       "      <td>5.90</td>\n",
       "    </tr>\n",
       "    <tr>\n",
       "      <th>2</th>\n",
       "      <td>gmvperunit</td>\n",
       "      <td>1.01</td>\n",
       "    </tr>\n",
       "    <tr>\n",
       "      <th>1</th>\n",
       "      <td>units</td>\n",
       "      <td>1.00</td>\n",
       "    </tr>\n",
       "  </tbody>\n",
       "</table>\n",
       "</div>"
      ],
      "text/plain": [
       "            Features    VIF\n",
       "0              const 228.67\n",
       "3            Digital  28.23\n",
       "6                SEM  25.59\n",
       "4        Sponsorship  23.19\n",
       "8         Affiliates  23.01\n",
       "5  Content Marketing  20.47\n",
       "7              Other   5.90\n",
       "2         gmvperunit   1.01\n",
       "1              units   1.00"
      ]
     },
     "execution_count": 64,
     "metadata": {},
     "output_type": "execute_result"
    }
   ],
   "source": [
    "# Create a dataframe that will contain the names of all the feature variables and their respective VIFs\n",
    "vif = pd.DataFrame()\n",
    "vif['Features'] = X_train_rfe5.columns\n",
    "vif['VIF'] = [variance_inflation_factor(X_train_rfe5.values, i) for i in range(X_train_rfe5.shape[1])]\n",
    "vif['VIF'] = round(vif['VIF'], 2)\n",
    "vif = vif.sort_values(by = \"VIF\", ascending = False)\n",
    "vif"
   ]
  },
  {
   "cell_type": "code",
   "execution_count": 65,
   "metadata": {},
   "outputs": [],
   "source": [
    "#drop 1st variable with high vif and p-value\n",
    "X_train_rfe5.drop('Affiliates', axis = 1, inplace = True)"
   ]
  },
  {
   "cell_type": "code",
   "execution_count": 66,
   "metadata": {},
   "outputs": [
    {
     "name": "stdout",
     "output_type": "stream",
     "text": [
      "                            OLS Regression Results                            \n",
      "==============================================================================\n",
      "Dep. Variable:                    gmv   R-squared:                       0.888\n",
      "Model:                            OLS   Adj. R-squared:                  0.888\n",
      "Method:                 Least Squares   F-statistic:                 3.870e+04\n",
      "Date:                Wed, 31 Mar 2021   Prob (F-statistic):               0.00\n",
      "Time:                        13:31:07   Log-Likelihood:                 43041.\n",
      "No. Observations:               34055   AIC:                        -8.607e+04\n",
      "Df Residuals:                   34047   BIC:                        -8.600e+04\n",
      "Df Model:                           7                                         \n",
      "Covariance Type:            nonrobust                                         \n",
      "=====================================================================================\n",
      "                        coef    std err          t      P>|t|      [0.025      0.975]\n",
      "-------------------------------------------------------------------------------------\n",
      "const                -0.3562      0.003   -138.512      0.000      -0.361      -0.351\n",
      "units                 1.1559      0.022     53.687      0.000       1.114       1.198\n",
      "gmvperunit            1.0607      0.002    518.945      0.000       1.057       1.065\n",
      "Digital              -0.0255      0.004     -5.786      0.000      -0.034      -0.017\n",
      "Sponsorship           0.0181      0.003      5.957      0.000       0.012       0.024\n",
      "Content Marketing    -0.0141      0.004     -3.724      0.000      -0.022      -0.007\n",
      "SEM                   0.0085      0.004      2.304      0.021       0.001       0.016\n",
      "Other                -0.0011      0.001     -0.812      0.417      -0.004       0.001\n",
      "==============================================================================\n",
      "Omnibus:                    11443.833   Durbin-Watson:                   2.001\n",
      "Prob(Omnibus):                  0.000   Jarque-Bera (JB):            37173.385\n",
      "Skew:                           1.733   Prob(JB):                         0.00\n",
      "Kurtosis:                       6.767   Cond. No.                         98.4\n",
      "==============================================================================\n",
      "\n",
      "Warnings:\n",
      "[1] Standard Errors assume that the covariance matrix of the errors is correctly specified.\n"
     ]
    }
   ],
   "source": [
    "# Refitting with 11 variables\n",
    "X_train_rfe6 = sm.add_constant(X_train_rfe5)\n",
    "\n",
    "# Fitting the model with 11 variables\n",
    "lm6 = sm.OLS(y_train, X_train_rfe6).fit()   \n",
    "print(lm6.summary())"
   ]
  },
  {
   "cell_type": "code",
   "execution_count": 67,
   "metadata": {},
   "outputs": [
    {
     "data": {
      "text/html": [
       "<div>\n",
       "<style scoped>\n",
       "    .dataframe tbody tr th:only-of-type {\n",
       "        vertical-align: middle;\n",
       "    }\n",
       "\n",
       "    .dataframe tbody tr th {\n",
       "        vertical-align: top;\n",
       "    }\n",
       "\n",
       "    .dataframe thead th {\n",
       "        text-align: right;\n",
       "    }\n",
       "</style>\n",
       "<table border=\"1\" class=\"dataframe\">\n",
       "  <thead>\n",
       "    <tr style=\"text-align: right;\">\n",
       "      <th></th>\n",
       "      <th>Features</th>\n",
       "      <th>VIF</th>\n",
       "    </tr>\n",
       "  </thead>\n",
       "  <tbody>\n",
       "    <tr>\n",
       "      <th>0</th>\n",
       "      <td>const</td>\n",
       "      <td>48.16</td>\n",
       "    </tr>\n",
       "    <tr>\n",
       "      <th>3</th>\n",
       "      <td>Digital</td>\n",
       "      <td>15.18</td>\n",
       "    </tr>\n",
       "    <tr>\n",
       "      <th>6</th>\n",
       "      <td>SEM</td>\n",
       "      <td>14.66</td>\n",
       "    </tr>\n",
       "    <tr>\n",
       "      <th>4</th>\n",
       "      <td>Sponsorship</td>\n",
       "      <td>7.95</td>\n",
       "    </tr>\n",
       "    <tr>\n",
       "      <th>5</th>\n",
       "      <td>Content Marketing</td>\n",
       "      <td>5.95</td>\n",
       "    </tr>\n",
       "    <tr>\n",
       "      <th>7</th>\n",
       "      <td>Other</td>\n",
       "      <td>2.53</td>\n",
       "    </tr>\n",
       "    <tr>\n",
       "      <th>2</th>\n",
       "      <td>gmvperunit</td>\n",
       "      <td>1.01</td>\n",
       "    </tr>\n",
       "    <tr>\n",
       "      <th>1</th>\n",
       "      <td>units</td>\n",
       "      <td>1.00</td>\n",
       "    </tr>\n",
       "  </tbody>\n",
       "</table>\n",
       "</div>"
      ],
      "text/plain": [
       "            Features   VIF\n",
       "0              const 48.16\n",
       "3            Digital 15.18\n",
       "6                SEM 14.66\n",
       "4        Sponsorship  7.95\n",
       "5  Content Marketing  5.95\n",
       "7              Other  2.53\n",
       "2         gmvperunit  1.01\n",
       "1              units  1.00"
      ]
     },
     "execution_count": 67,
     "metadata": {},
     "output_type": "execute_result"
    }
   ],
   "source": [
    "# Create a dataframe that will contain the names of all the feature variables and their respective VIFs\n",
    "vif = pd.DataFrame()\n",
    "vif['Features'] = X_train_rfe6.columns\n",
    "vif['VIF'] = [variance_inflation_factor(X_train_rfe6.values, i) for i in range(X_train_rfe6.shape[1])]\n",
    "vif['VIF'] = round(vif['VIF'], 2)\n",
    "vif = vif.sort_values(by = \"VIF\", ascending = False)\n",
    "vif"
   ]
  },
  {
   "cell_type": "code",
   "execution_count": 68,
   "metadata": {},
   "outputs": [],
   "source": [
    "y_train_price = lm6.predict(X_train_rfe6)"
   ]
  },
  {
   "cell_type": "code",
   "execution_count": 69,
   "metadata": {},
   "outputs": [
    {
     "data": {
      "text/plain": [
       "Text(0.5, 0, 'Errors')"
      ]
     },
     "execution_count": 69,
     "metadata": {},
     "output_type": "execute_result"
    },
    {
     "data": {
      "image/png": "[encoded data removed]",
      "text/plain": [
       "<Figure size 432x288 with 1 Axes>"
      ]
     },
     "metadata": {
      "needs_background": "light"
     },
     "output_type": "display_data"
    }
   ],
   "source": [
    "fig = plt.figure()\n",
    "sns.distplot((y_train - y_train_price), bins = 20)\n",
    "fig.suptitle('Error Terms', fontsize = 20)                  # Plot heading \n",
    "plt.xlabel('Errors', fontsize = 18)                         # X-label"
   ]
  },
  {
   "cell_type": "code",
   "execution_count": 70,
   "metadata": {},
   "outputs": [],
   "source": [
    "#fitting test data\n",
    "df_test[varlist] = scaler.transform(df_test[varlist])"
   ]
  },
  {
   "cell_type": "code",
   "execution_count": 71,
   "metadata": {},
   "outputs": [],
   "source": [
    "# Split the 'df_test' set into X and y\n",
    "y_test = df_test.pop('gmv')\n",
    "X_test = df_test"
   ]
  },
  {
   "cell_type": "code",
   "execution_count": 72,
   "metadata": {},
   "outputs": [],
   "source": [
    "# Let's check the list 'col2' which had the 10 variables RFE had selected\n",
    "X_test_rfe6 = X_test[col1]"
   ]
  },
  {
   "cell_type": "code",
   "execution_count": 73,
   "metadata": {},
   "outputs": [
    {
     "data": {
      "text/plain": [
       "Index(['units', 'gmvperunit', 'Total Investment', 'TV', 'Digital',\n",
       "       'Sponsorship', 'Content Marketing', 'Online marketing', 'SEM', 'Radio',\n",
       "       'Other', 'Affiliates'],\n",
       "      dtype='object')"
      ]
     },
     "execution_count": 73,
     "metadata": {},
     "output_type": "execute_result"
    }
   ],
   "source": [
    "col1"
   ]
  },
  {
   "cell_type": "code",
   "execution_count": 74,
   "metadata": {},
   "outputs": [],
   "source": [
    "#Let's now drop the variables we had manually eliminated as well\n",
    "X_test_rfe6 = X_test_rfe6.drop(['Total Investment','Radio','TV','Online marketing','Affiliates'], axis = 1)"
   ]
  },
  {
   "cell_type": "code",
   "execution_count": 75,
   "metadata": {},
   "outputs": [
    {
     "name": "stdout",
     "output_type": "stream",
     "text": [
      "<class 'pandas.core.frame.DataFrame'>\n",
      "Int64Index: 14596 entries, 57406 to 47858\n",
      "Data columns (total 8 columns):\n",
      " #   Column             Non-Null Count  Dtype  \n",
      "---  ------             --------------  -----  \n",
      " 0   const              14596 non-null  float64\n",
      " 1   units              14596 non-null  float64\n",
      " 2   gmvperunit         14596 non-null  float64\n",
      " 3   Digital            14596 non-null  float64\n",
      " 4   Sponsorship        14596 non-null  float64\n",
      " 5   Content Marketing  14596 non-null  float64\n",
      " 6   SEM                14596 non-null  float64\n",
      " 7   Other              14596 non-null  float64\n",
      "dtypes: float64(8)\n",
      "memory usage: 1.0 MB\n"
     ]
    }
   ],
   "source": [
    "# Add a constant to the test set created\n",
    "X_test_rfe6 = sm.add_constant(X_test_rfe6)\n",
    "X_test_rfe6.info()"
   ]
  },
  {
   "cell_type": "code",
   "execution_count": 76,
   "metadata": {},
   "outputs": [],
   "source": [
    "# Making predictions\n",
    "y_pred = lm6.predict(X_test_rfe6)"
   ]
  },
  {
   "cell_type": "code",
   "execution_count": 77,
   "metadata": {},
   "outputs": [
    {
     "data": {
      "text/plain": [
       "Text(0, 0.5, 'y_pred')"
      ]
     },
     "execution_count": 77,
     "metadata": {},
     "output_type": "execute_result"
    },
    {
     "data": {
      "image/png": "[encoded data removed]",
      "text/plain": [
       "<Figure size 432x288 with 1 Axes>"
      ]
     },
     "metadata": {
      "needs_background": "light"
     },
     "output_type": "display_data"
    }
   ],
   "source": [
    "# Plotting y_test and y_pred to understand the spread\n",
    "\n",
    "fig = plt.figure()\n",
    "plt.scatter(y_test, y_pred)\n",
    "fig.suptitle('y_test vs y_pred', fontsize = 20)              # Plot heading \n",
    "plt.xlabel('y_test', fontsize = 18)                          # X-label\n",
    "plt.ylabel('y_pred', fontsize = 16)"
   ]
  },
  {
   "cell_type": "code",
   "execution_count": 78,
   "metadata": {},
   "outputs": [
    {
     "data": {
      "text/plain": [
       "0.8881591968317711"
      ]
     },
     "execution_count": 78,
     "metadata": {},
     "output_type": "execute_result"
    }
   ],
   "source": [
    "# r2_score for 6 variables\n",
    "from sklearn.metrics import r2_score\n",
    "r2_score(y_test, y_pred)"
   ]
  },
  {
   "cell_type": "code",
   "execution_count": 79,
   "metadata": {},
   "outputs": [
    {
     "name": "stdout",
     "output_type": "stream",
     "text": [
      "0.06763292087022894\n"
     ]
    }
   ],
   "source": [
    "from sklearn.metrics import mean_squared_error\n",
    "\n",
    "from math import sqrt\n",
    "\n",
    "rmse = sqrt(mean_squared_error(y_test, y_pred))\n",
    "\n",
    "print(rmse)"
   ]
  },
  {
   "cell_type": "code",
   "execution_count": 80,
   "metadata": {},
   "outputs": [],
   "source": [
    "from sklearn.model_selection import cross_val_score, cross_val_predict\n",
    "from sklearn import metrics\n",
    "import numpy as np\n",
    "regr = LinearRegression()"
   ]
  },
  {
   "cell_type": "code",
   "execution_count": 81,
   "metadata": {},
   "outputs": [
    {
     "name": "stdout",
     "output_type": "stream",
     "text": [
      "[-1.20623541e+13 -3.56605604e+12  9.40359778e-01  9.40324503e-01\n",
      "  9.40814823e-01] -3125682029295.4375 4676915682839.771\n"
     ]
    },
    {
     "data": {
      "text/plain": [
       "-915185471572947.4"
      ]
     },
     "execution_count": 81,
     "metadata": {},
     "output_type": "execute_result"
    }
   ],
   "source": [
    "scores = cross_val_score(regr, X_train, y_train, cv = 5)    #cv is the number of folds, scores will give an array of scores\n",
    "\n",
    "print(scores, np.mean(scores), np.std(scores))\n",
    "\n",
    "#To get predictions (y_hat) and check them all in one using cross validation\n",
    "\n",
    "predictions = cross_val_predict(regr, X_test, y_test, cv = 5)     #y_test is needed here in predictions to get scores for each fold of cv\n",
    "\n",
    "accuracy = metrics.r2_score(y_test, predictions)  #this says the accuracy of the predictions from the best cv fold\n",
    "\n",
    "\n",
    "#If this is good, continue to fit the model on the data\n",
    "\n",
    "\n",
    "regr.fit(X_train, y_train)\n",
    "\n",
    "y_hat = regr.predict(X_test)      #this gives me my predictions\n",
    "\n",
    "regr.score(X_test, y_test)"
   ]
  },
  {
   "cell_type": "code",
   "execution_count": 82,
   "metadata": {},
   "outputs": [
    {
     "data": {
      "text/plain": [
       "-4.480939253091206e+17"
      ]
     },
     "execution_count": 82,
     "metadata": {},
     "output_type": "execute_result"
    }
   ],
   "source": [
    "accuracy"
   ]
  },
  {
   "cell_type": "code",
   "execution_count": 83,
   "metadata": {},
   "outputs": [],
   "source": [
    "from sklearn.model_selection import cross_val_score\n",
    "from sklearn.linear_model import LinearRegression\n",
    "from sklearn.model_selection import KFold\n",
    "from sklearn.model_selection import GridSearchCV"
   ]
  },
  {
   "cell_type": "code",
   "execution_count": 84,
   "metadata": {},
   "outputs": [
    {
     "data": {
      "text/plain": [
       "array([ 9.40293659e-01, -6.57506580e+13,  9.43841304e-01, -1.53460498e+11,\n",
       "        9.41973958e-01])"
      ]
     },
     "execution_count": 84,
     "metadata": {},
     "output_type": "execute_result"
    }
   ],
   "source": [
    "folds=KFold(n_splits=5, shuffle=True, random_state=100)\n",
    "scores=cross_val_score(lm,X_train,y_train,scoring='r2',cv=folds)\n",
    "scores"
   ]
  },
  {
   "cell_type": "code",
   "execution_count": 85,
   "metadata": {},
   "outputs": [
    {
     "name": "stdout",
     "output_type": "stream",
     "text": [
      "GridSearchCV(cv=None, error_score=nan,\n",
      "             estimator=Lasso(alpha=1.0, copy_X=True, fit_intercept=True,\n",
      "                             max_iter=1000, normalize=False, positive=False,\n",
      "                             precompute=False, random_state=None,\n",
      "                             selection='cyclic', tol=0.0001, warm_start=False),\n",
      "             iid='deprecated', n_jobs=None,\n",
      "             param_grid={'alpha': array([1.e+00, 1.e-01, 1.e-02, 1.e-03, 1.e-04, 0.e+00])},\n",
      "             pre_dispatch='2*n_jobs', refit=True, return_train_score=False,\n",
      "             scoring=None, verbose=0)\n",
      "0.9414519589094006\n",
      "0.0\n"
     ]
    }
   ],
   "source": [
    "from sklearn.linear_model import Lasso\n",
    "from sklearn.model_selection import GridSearchCV\n",
    "import numpy as np\n",
    "\n",
    "# prepare a range of alpha values to test\n",
    "alphas = np.array([1,0.1,0.01,0.001,0.0001,0])\n",
    "# create and fit a ridge regression model, testing each alpha\n",
    "model = Lasso()\n",
    "grid = GridSearchCV(estimator=model, param_grid=dict(alpha=alphas))\n",
    "grid.fit(X_train, y_train)\n",
    "print(grid)\n",
    "# summarize the results of the grid search\n",
    "print(grid.best_score_)\n",
    "print(grid.best_estimator_.alpha)"
   ]
  },
  {
   "cell_type": "code",
   "execution_count": 86,
   "metadata": {},
   "outputs": [
    {
     "name": "stdout",
     "output_type": "stream",
     "text": [
      "RandomizedSearchCV(cv=None, error_score=nan,\n",
      "                   estimator=Lasso(alpha=1.0, copy_X=True, fit_intercept=True,\n",
      "                                   max_iter=1000, normalize=False,\n",
      "                                   positive=False, precompute=False,\n",
      "                                   random_state=None, selection='cyclic',\n",
      "                                   tol=0.0001, warm_start=False),\n",
      "                   iid='deprecated', n_iter=100, n_jobs=None,\n",
      "                   param_distributions={'alpha': <scipy.stats._distn_infrastructure.rv_frozen object at 0x0000020CF91A0308>},\n",
      "                   pre_dispatch='2*n_jobs', random_state=None, refit=True,\n",
      "                   return_train_score=False, scoring=None, verbose=0)\n",
      "0.9044391019938212\n",
      "0.005461011441028174\n"
     ]
    }
   ],
   "source": [
    "from scipy.stats import uniform as sp_rand\n",
    "from sklearn.linear_model import Lasso\n",
    "from sklearn.model_selection import RandomizedSearchCV\n",
    "\n",
    "param_grid = {'alpha': sp_rand()}\n",
    "# create and fit a ridge regression model, testing random alpha values\n",
    "model = Lasso()\n",
    "rsearch = RandomizedSearchCV(estimator=model, param_distributions=param_grid, n_iter=100)\n",
    "rsearch.fit(X_train, y_train)\n",
    "print(rsearch)\n",
    "# summarize the results of the random parameter search\n",
    "print(rsearch.best_score_)\n",
    "print(rsearch.best_estimator_.alpha)"
   ]
  },
  {
   "cell_type": "code",
   "execution_count": 87,
   "metadata": {},
   "outputs": [],
   "source": [
    "from sklearn.linear_model import Lasso\n",
    "from sklearn.linear_model import Ridge"
   ]
  },
  {
   "cell_type": "code",
   "execution_count": 88,
   "metadata": {},
   "outputs": [
    {
     "name": "stdout",
     "output_type": "stream",
     "text": [
      "0.8487806955329094\n",
      "0.8492620037689764\n"
     ]
    }
   ],
   "source": [
    "# model with optimal alpha\n",
    "lm = Lasso(alpha=0.01)\n",
    "lm.fit(X_train, y_train)\n",
    "\n",
    "# predict\n",
    "y_train_pred = lm.predict(X_train)\n",
    "print(metrics.r2_score(y_true=y_train, y_pred=y_train_pred))\n",
    "y_test_pred = lm.predict(X_test)\n",
    "print(metrics.r2_score(y_true=y_test, y_pred=y_test_pred))"
   ]
  },
  {
   "cell_type": "code",
   "execution_count": 89,
   "metadata": {},
   "outputs": [
    {
     "data": {
      "text/plain": [
       "[('constant', 0.199),\n",
       " ('units', 0.0),\n",
       " ('deliverybdays', 0.0),\n",
       " ('deliverycdays', 0.0),\n",
       " ('sla', -0.0),\n",
       " ('product_mrp', 0.0),\n",
       " ('product_procurement_sla', 0.0),\n",
       " ('Pay_Day', -0.0),\n",
       " ('is_holiday', 0.0),\n",
       " ('Discount_Percentage', -0.0),\n",
       " ('gmvperunit', 0.433),\n",
       " ('delivery_on_time', -0.0),\n",
       " ('Total Investment', 0.0),\n",
       " ('TV', -0.0),\n",
       " ('Digital', 0.0),\n",
       " ('Sponsorship', 0.0),\n",
       " ('Content Marketing', 0.0),\n",
       " ('Online marketing', 0.0),\n",
       " ('SEM', 0.0),\n",
       " ('Radio', -0.0),\n",
       " ('Other', -0.0),\n",
       " ('Affiliates', -0.0),\n",
       " ('NPS', 0.0),\n",
       " ('NPSScore', 0.0),\n",
       " ('holiday_count', 0.0),\n",
       " ('TV_adstock', -0.0),\n",
       " ('Digital_adstock', 0.0),\n",
       " ('Sponsorship_adstock', 0.0),\n",
       " ('Content Marketing_adstock', 0.0),\n",
       " ('Online marketing_adstock', 0.0),\n",
       " ('Affiliates_adstock', -0.0),\n",
       " ('SEM_adstock', 0.0),\n",
       " ('Radio_adstock', -0.0),\n",
       " ('Other_adstock', -0.0),\n",
       " ('s1_fact_order_payment_type_Prepaid', 0.0),\n",
       " ('product_analytic_vertical_DJController', 0.0),\n",
       " ('product_analytic_vertical_Dock', -0.0),\n",
       " ('product_analytic_vertical_DockingStation', -0.0),\n",
       " ('product_analytic_vertical_FMRadio', -0.033),\n",
       " ('product_analytic_vertical_HiFiSystem', 0.0),\n",
       " ('product_analytic_vertical_HomeAudioSpeaker', 0.0),\n",
       " ('product_analytic_vertical_KaraokePlayer', 0.0),\n",
       " ('product_analytic_vertical_SlingBox', 0.0),\n",
       " ('product_analytic_vertical_SoundMixer', 0.0),\n",
       " ('product_analytic_vertical_VoiceRecorder', 0.0),\n",
       " ('special_sale_BSD', 0.0),\n",
       " ('special_sale_Christmas & New Year', 0.0),\n",
       " ('special_sale_Daussera', 0.0),\n",
       " ('special_sale_Diwali', 0.0),\n",
       " ('special_sale_Eid & Rathayatra', 0.0),\n",
       " ('special_sale_FHSD', 0.0),\n",
       " ('special_sale_Pacman', 0.0),\n",
       " ('special_sale_Regular Day', -0.0),\n",
       " ('special_sale_Republic Day', 0.0),\n",
       " ('special_sale_Valentine Day', -0.0),\n",
       " ('ItemType_MassMarket', -0.184)]"
      ]
     },
     "execution_count": 89,
     "metadata": {},
     "output_type": "execute_result"
    }
   ],
   "source": [
    "# lasso model parameters\n",
    "model_parameters = list(lm.coef_)\n",
    "model_parameters.insert(0, lm.intercept_)\n",
    "model_parameters = [round(x, 3) for x in model_parameters]\n",
    "cols = X_train.columns\n",
    "cols = cols.insert(0, \"constant\")\n",
    "list(zip(cols, model_parameters))"
   ]
  },
  {
   "cell_type": "code",
   "execution_count": null,
   "metadata": {},
   "outputs": [],
   "source": []
  }
 ],
 "metadata": {
  "kernelspec": {
   "display_name": "Python 3",
   "language": "python",
   "name": "python3"
  },
  "language_info": {
   "codemirror_mode": {
    "name": "ipython",
    "version": 3
   },
   "file_extension": ".py",
   "mimetype": "text/x-python",
   "name": "python",
   "nbconvert_exporter": "python",
   "pygments_lexer": "ipython3",
   "version": "3.7.6"
  }
 },
 "nbformat": 4,
 "nbformat_minor": 4
}
